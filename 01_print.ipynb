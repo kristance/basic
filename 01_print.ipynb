{
 "cells": [
  {
   "cell_type": "markdown",
   "id": "48235bf6",
   "metadata": {},
   "source": [
    "jupyter notebook 화면 설정    \n",
    " C:/사용자/<사용자id>/.jupyter 폴더에 jupyter notebook 설정 파일이 있다.  \n",
    " .jupyter 폴더가 보이지 않는다면 까만창에서 jupyter notebook --generate-config을 실행한다.  \n",
    " .jupyter 폴더 아래에 custom 이라는 폴더를 만들고 custom.css라는 파일에서 화면설정을 한다.  "
   ]
  },
  {
   "cell_type": "markdown",
   "id": "f52fb91d",
   "metadata": {},
   "source": [
    "유용한 단축키  \n",
    "  \n",
    "자동완성 : tab키  \n",
    "코드 실행 : crtl + enter -> 한 셀 실행, shift + enter -> 한 셀 실행,  셀 실행 후 다음 셀로 이동, 다음 셀이 없으면 빈 셀 추가  \n",
    "현재 셀 위에 빈 셀 삽입 : a  \n",
    "현재 셀 아래에 빈 셀 삽입 : b  \n",
    "현재 셀 삭제 : dd  \n",
    "현재 셀 복사 : c  \n",
    "현재 셀 자르기 : x  \n",
    "현재 셀 아래에 복사 또는 잘라낸 셀 붙이기 : v  \n",
    "코드 셀을 마크다운 셀로 바꾸기 : m  \n",
    "마크 다운 셀을 코드셀로 바꾸기 : y  \n"
   ]
  },
  {
   "cell_type": "code",
   "execution_count": 1,
   "id": "a31de182",
   "metadata": {},
   "outputs": [],
   "source": [
    "# : '#'으로 시작하면 1줄 주석 -> 컴파일러(번역)나 인터프리터(통역)가 번역하지 않는다. -> 코드 설명  \n",
    "# ''' 부터 ''' 사이에 코딩하면 범위 주석을 지정할 수 있다."
   ]
  },
  {
   "cell_type": "code",
   "execution_count": 1,
   "id": "1f1afaa2",
   "metadata": {},
   "outputs": [
    {
     "data": {
      "image/png": "[encoded data removed]",
      "text/plain": [
       "<IPython.core.display.Image object>"
      ]
     },
     "execution_count": 1,
     "metadata": {
      "image/png": {
       "width": "500"
      }
     },
     "output_type": "execute_result"
    }
   ],
   "source": [
    "1# jupyter notebook에 코드로 image 넣기  \n",
    "from IPython.display import Image  \n",
    "Image('./python.png', width='500')  "
   ]
  },
  {
   "cell_type": "code",
   "execution_count": null,
   "id": "68df2a36",
   "metadata": {},
   "outputs": [],
   "source": []
  },
  {
   "cell_type": "code",
   "execution_count": null,
   "id": "3da17525",
   "metadata": {},
   "outputs": [],
   "source": []
  },
  {
   "cell_type": "markdown",
   "id": "8223e0a3",
   "metadata": {},
   "source": [
    "markdown으로 image 넣기  \n",
    "<img src='./python.png' align='left' width='500' title='python'/>"
   ]
  },
  {
   "cell_type": "code",
   "execution_count": 7,
   "id": "6ccc114e",
   "metadata": {},
   "outputs": [
    {
     "name": "stdout",
     "output_type": "stream",
     "text": [
      "hello python\n",
      "안녕하십니다\n",
      "호랑이가 \"어흥\"합니다.\n",
      "지나가던 둘리가 '메롱'합니다.\n",
      "호랑이가 '어흥'합니다.\n",
      "지나가던 둘리가 \"메롱\"합니다.\n"
     ]
    }
   ],
   "source": [
    "# 파이썬은 문자열 데이터를 표현할 때 큰따옴표나 작은따옴표로 묶어주면 된다. -> 짝만 맞추면 된다.  \n",
    "# print() 함수는 별도의 설정을 하지 않으면 ()안의 내용을 출력하고 줄을 바꾼다.  \n",
    "print('hello python')\n",
    "print('안녕하십니다')\n",
    "print('호랑이가 \"어흥\"합니다.')\n",
    "print(\"지나가던 둘리가 '메롱'합니다.\")\n",
    "print('호랑이가 \\'어흥\\'합니다.')\n",
    "print(\"지나가던 둘리가 \\\"메롱\\\"합니다.\")"
   ]
  },
  {
   "cell_type": "code",
   "execution_count": 19,
   "id": "4fa5fb2f",
   "metadata": {},
   "outputs": [
    {
     "name": "stdout",
     "output_type": "stream",
     "text": [
      "hello python\n",
      "안녕하십니다.\n",
      "hello python안녕하십니다.\n",
      "hello\n",
      " python : 안녕하십니다.\n"
     ]
    }
   ],
   "source": [
    "# print() 함수로 출력 후 줄을 변경하지 않으면 end 옵션을 사용한다.  \n",
    "# end 옵션은 print() 함수로 출력한 후 출력할 내용을 지정한다.\n",
    "# end 옵션은 생략하면 '\\n'이 기본값으로 사용된다. '\\n' -> new line -> 줄을 바꾼다.\n",
    "print('hello python', end= '\\n')\n",
    "print('안녕하십니다.')\n",
    "print('hello python', end= '')\n",
    "print('안녕하십니다.')\n",
    "print('hello\\n python', end= ' : ')\n",
    "print('안녕하십니다.')"
   ]
  },
  {
   "cell_type": "code",
   "execution_count": 25,
   "id": "b1482b1d",
   "metadata": {},
   "outputs": [
    {
     "name": "stdout",
     "output_type": "stream",
     "text": [
      "hello python 안녕하십니다.\n",
      "hello python 안녕하십니다.\n",
      "hello python, 안녕하십니다.\n",
      "hello python | 안녕하십니다.\n",
      "hello python lol 안녕하십니다.\n"
     ]
    }
   ],
   "source": [
    "# print() 함수로 2개 이상의 데이터를 출력하려면 ','로 구분해서 출력하면 된다.  \n",
    "print('hello python', '안녕하십니다.')\n",
    "# print() 함수로 출력할 때 ','로 데이터를 구분하면 sep 옵션에서 지정한 구분자가 데이터와 데이터 사이에 출력된다.\n",
    "# sep 옵션을 생략하면 공백 1칸이 기본값으로 사용된다.\n",
    "print('hello python', '안녕하십니다.', sep=' ')\n",
    "print('hello python', '안녕하십니다.', sep=', ')\n",
    "print('hello python', '안녕하십니다.', sep=' | ')\n",
    "print('hello python', '안녕하십니다.', sep=' lol ')"
   ]
  },
  {
   "cell_type": "code",
   "execution_count": 33,
   "id": "5a8d8522",
   "metadata": {},
   "outputs": [
    {
     "name": "stdout",
     "output_type": "stream",
     "text": [
      "13\n",
      "58\n"
     ]
    },
    {
     "ename": "TypeError",
     "evalue": "unsupported operand type(s) for +: 'int' and 'str'",
     "output_type": "error",
     "traceback": [
      "\u001b[1;31m---------------------------------------------------------------------------\u001b[0m",
      "\u001b[1;31mTypeError\u001b[0m                                 Traceback (most recent call last)",
      "\u001b[1;32m<ipython-input-33-1be6d82c9029>\u001b[0m in \u001b[0;36m<module>\u001b[1;34m\u001b[0m\n\u001b[0;32m      2\u001b[0m \u001b[0mprint\u001b[0m\u001b[1;33m(\u001b[0m\u001b[1;34m'5'\u001b[0m \u001b[1;33m+\u001b[0m \u001b[1;34m'8'\u001b[0m\u001b[1;33m)\u001b[0m \u001b[1;31m# 문자열과 문자열 사이에 '+' 연산자를 사용하면 문자열 데이터를 연결한다.\u001b[0m\u001b[1;33m\u001b[0m\u001b[1;33m\u001b[0m\u001b[0m\n\u001b[0;32m      3\u001b[0m \u001b[1;31m# print('5' + 8)\u001b[0m\u001b[1;33m\u001b[0m\u001b[1;33m\u001b[0m\u001b[1;33m\u001b[0m\u001b[0m\n\u001b[1;32m----> 4\u001b[1;33m \u001b[0mprint\u001b[0m\u001b[1;33m(\u001b[0m\u001b[1;36m5\u001b[0m \u001b[1;33m+\u001b[0m \u001b[1;34m'8'\u001b[0m\u001b[1;33m)\u001b[0m\u001b[1;33m\u001b[0m\u001b[1;33m\u001b[0m\u001b[0m\n\u001b[0m",
      "\u001b[1;31mTypeError\u001b[0m: unsupported operand type(s) for +: 'int' and 'str'"
     ]
    }
   ],
   "source": [
    "print(5 + 8) # 숫자와 숫자 사이에 '+' 연산자를 사용하면 덧셈 연산이 실행된다.\n",
    "print('5' + '8') # 문자열과 문자열 사이에 '+' 연산자를 사용하면 문자열 데이터를 연결한다.\n",
    "# 파이썬은 숫자와 숫자를 '+' 연산자를 사용하면 덧셈 연산을 실행하고, 문자열과 문자열의 '+'연산을 사용하면\n",
    "# 문자열을 연결하지만 숫자와 문자열을 또는 문자열과 숫자 사이에 '+' 연산자를 사용하면 에러가 발생한다.\n",
    "# print('5' + 8) # 에러\n",
    "# print(5 + '8') # 에러"
   ]
  },
  {
   "cell_type": "code",
   "execution_count": 35,
   "id": "1b532662",
   "metadata": {},
   "outputs": [
    {
     "name": "stdout",
     "output_type": "stream",
     "text": [
      "13\n",
      "58\n"
     ]
    }
   ],
   "source": [
    "# int() 함수는 인수로 지정된 데이터를 정수로 변환한다.\n",
    "print(int('5') + 8)\n",
    "# str() 함수는 인수로 지정된 데이터를 문자열로 변환한다.\n",
    "print(str(5) + '8')"
   ]
  },
  {
   "cell_type": "code",
   "execution_count": 36,
   "id": "41edf642",
   "metadata": {},
   "outputs": [
    {
     "name": "stdout",
     "output_type": "stream",
     "text": [
      "====================\n",
      "====================\n"
     ]
    }
   ],
   "source": [
    "# '*' 연산자를 사용하면 특정 문자열을 지정한 횟수만큼 반복해서 출력한다.\n",
    "print('====================')\n",
    "print('=' * 20)"
   ]
  },
  {
   "cell_type": "markdown",
   "id": "7d66de91",
   "metadata": {},
   "source": [
    "'%'와 서식 문자를 사용해 출력하기  \n",
    "서식 문자  \n",
    "d(정수), f(실수), s(문자열)를 사용해서 출력 서식을 지정할 수 있고, 출력 서식을 제외한 나머지 문자들은 그대로 출력된다.  \n",
    "  \n",
    " 출력 서식의 형식  \n",
    " %[-][0][.m]서식문자 -> [] 안의 내용은 생략할 수 있다.  \n",
    " n: 전체 자리수, 전체 자리수가 지정되면 데이터는 오른쪽으로 정렬되어 출력된다.  \n",
    " -: 전체 자리수가 지정된 경우 데이터를 왼쪽으로 정렬해서 출력한다.  \n",
    " 0: 전체 자리수가 지정된 경우 숫자 왼쪽의 남는 자리에 '0'이 채워져 출력된다.  \n",
    " .m: 실수를 출력할 경우 소수점 아래 자리수를 지정한다.  "
   ]
  },
  {
   "cell_type": "code",
   "execution_count": 37,
   "id": "3121f9e1",
   "metadata": {},
   "outputs": [
    {
     "name": "stdout",
     "output_type": "stream",
     "text": [
      "100\n",
      "1\n",
      "10000\n"
     ]
    }
   ],
   "source": [
    "print(100)\n",
    "print(1)\n",
    "print(10000)"
   ]
  },
  {
   "cell_type": "markdown",
   "id": "69ae2468",
   "metadata": {},
   "source": [
    "print('출력 서식' % 출력할 데이터) -> 출력할 데이터가 1개일 경우"
   ]
  },
  {
   "cell_type": "code",
   "execution_count": 55,
   "id": "a722df76",
   "metadata": {},
   "outputs": [
    {
     "name": "stdout",
     "output_type": "stream",
     "text": [
      "  100\n",
      "    1\n",
      "1    \n",
      "00001\n",
      "10000\n"
     ]
    }
   ],
   "source": [
    "print('%5d' % 100)\n",
    "print('%5d' % 1)\n",
    "print('%-5d' % 1)\n",
    "# 파이썬은 1줄에 1문장 코딩을 원칙으로 하지만 부득이하게 1줄에 2문장 이상을 코딩해야 한다면 문장과 문장을 ';'으로 구분한다.\n",
    "print('%05d' % 1);print('%5d' % 10000)"
   ]
  },
  {
   "cell_type": "code",
   "execution_count": 60,
   "id": "c5289cca",
   "metadata": {},
   "outputs": [
    {
     "name": "stdout",
     "output_type": "stream",
     "text": [
      "뽀로로 노는게 제일 좋아\n",
      "잔망루피, 잔망스럽구나\n"
     ]
    }
   ],
   "source": [
    "# 문장이 길어서 한줄의 범위를 넘어갈 경우 () 안에서는 '+' 연산자로 연결해서 출력하면 1문장으로 인식한다.\n",
    "print('뽀로로 ' + \n",
    "      '노는게 제일 좋아')\n",
    "# 문장이 길어서 부득이하게 2줄 이사으로 코딩해야 한다면 끝에 '\\'를 입력하면 1문장으로 인식된다.\n",
    "# '\\' 뒤에 공백이 입력되면 에러가 발생된다.\n",
    "string = '잔망루피,' \\\n",
    "        ' 잔망스럽구나'\n",
    "print(string)"
   ]
  },
  {
   "cell_type": "code",
   "execution_count": 62,
   "id": "b599e29a",
   "metadata": {},
   "outputs": [
    {
     "name": "stdout",
     "output_type": "stream",
     "text": [
      "abc\n",
      "a\n",
      "abcde\n"
     ]
    }
   ],
   "source": [
    "print('abc')\n",
    "print('a')\n",
    "print('abcde')"
   ]
  },
  {
   "cell_type": "code",
   "execution_count": 73,
   "id": "45b13c68",
   "metadata": {},
   "outputs": [
    {
     "name": "stdout",
     "output_type": "stream",
     "text": [
      "  abc\n",
      "    a\n",
      "a    \n",
      "    a\n",
      "abcde\n"
     ]
    }
   ],
   "source": [
    "print('%5s' % 'abc')\n",
    "print('%5s' % 'a')\n",
    "print('%-5s' % 'a')\n",
    "print('%05s' % 'a') # c/c++은 0이 출력되고, Java는 에러가 발생되고 python은 무시한다.\n",
    "print('%5s' % 'abcde')"
   ]
  },
  {
   "cell_type": "code",
   "execution_count": 76,
   "id": "6654e564",
   "metadata": {},
   "outputs": [
    {
     "name": "stdout",
     "output_type": "stream",
     "text": [
      "123.450000\n",
      "123.45\n",
      "123.46\n",
      "123.40\n"
     ]
    }
   ],
   "source": [
    "print('%f' % 123.45)\n",
    "print('%6.2f' % 123.45)\n",
    "print('%6.2f' % 123.456) # 소수점 아래 숫자는 잘리는 자리에서 반올림해 출력한다. -> 실제 데이터는 변하지 않는다.\n",
    "print('%6.2f' % 123.4) # 남는 자리는 0으로 채워 출력한다."
   ]
  },
  {
   "cell_type": "markdown",
   "id": "740c95a5",
   "metadata": {},
   "source": [
    "print('출력 서식' % (출력할 데이터, ...)) -> 출력할 데이터가 2개 이상일 경우  \n",
    "서식을 지정해 출력할 데이터가 2건 이상이라면 출력할 데이터를 반드시 ()로 묶어야 한다."
   ]
  },
  {
   "cell_type": "code",
   "execution_count": 88,
   "id": "42faf26b",
   "metadata": {},
   "outputs": [
    {
     "name": "stdout",
     "output_type": "stream",
     "text": [
      "5 + 3 =  8\n",
      "5 - 3 =  2\n",
      "5 * 3 = 15\n",
      "1.6666666666666667\n",
      "5 / 3 =  1\n",
      "5 / 3 = 1.666667\n",
      "1\n",
      "5 // 3 =  1\n",
      "5 // 3 = 1.000000\n",
      "5 % 3 = 2\n",
      "2의 3승 =  8\n",
      "루트 2 = 1.414214\n"
     ]
    }
   ],
   "source": [
    "print('%d + %d = %2d' % (5, 3, 5 + 3)) # 덧셈\n",
    "print('%d - %d = %2d' % (5, 3, 5 - 3)) # 뺄셈\n",
    "print('%d * %d = %2d' % (5, 3, 5 * 3)) # 곱셈\n",
    "# 파이썬은 '/' 연산자로 나눗셈을 하면 소수점 아래까지 계산된다.\n",
    "print(5 / 3) # 실수 나눗셈\n",
    "# '/' 연산의 결과는 실수지만 출력 서식이 $d(정수)로 지정되어 정수만 출력된다.\n",
    "print('%d / %d = %2d' % (5, 3, 5 / 3))\n",
    "print('%d / %d = %f' % (5, 3, 5 / 3))\n",
    "# 파이썬은 '//' 연산자로 나눗셈을 하면 몫만 계산된다.\n",
    "print(5 // 3)\n",
    "print('%d // %d = %2d' % (5, 3, 5 // 3))\n",
    "print('%d // %d = %f' % (5, 3, 5 // 3))\n",
    "# 출력 서식을 지정할 때 '%' 문자 자체를 출력하려면 2개를 연속해서 써야한다.\n",
    "print('%d %% %d = %d' % (5, 3, 5 % 3)) # 나머지\n",
    "print('%d의 %d승 = %2d' % (2, 3, 2 ** 3)) # 거듭제곱\n",
    "print('루트 %d = %f' % (2, 2 ** 0.5)) # 제곱근"
   ]
  },
  {
   "cell_type": "code",
   "execution_count": 90,
   "id": "d53c6f96",
   "metadata": {},
   "outputs": [],
   "source": [
    "# 수학에 관련된 메소드를 사용하려면 math 모듈을 import 시킨다.\n",
    "import math"
   ]
  },
  {
   "cell_type": "code",
   "execution_count": 97,
   "id": "28e6ed89",
   "metadata": {},
   "outputs": [
    {
     "name": "stdout",
     "output_type": "stream",
     "text": [
      "2의 3승 =  8\n",
      "루트 2 = 1.414214\n"
     ]
    }
   ],
   "source": [
    "print('%d의 %d승 = %2d' % (2, 3, math.pow(2,3)))\n",
    "print('루트 %d = %f' % (2, math.sqrt(2)))"
   ]
  },
  {
   "cell_type": "markdown",
   "id": "3f341d37",
   "metadata": {},
   "source": [
    "산술 연산자 우선순위 : () -> ** -> *, /, //, % -> +, -"
   ]
  },
  {
   "cell_type": "markdown",
   "id": "a0bf9a8c",
   "metadata": {},
   "source": [
    "{}와 format() 메소드를 사용한 출력 서식 지정  \n",
    "'%'로 서식을 지정할 대는 %d, %f, %s 위치에 데이터가 대입되어 출력되었지만 {}를 사용하면 {}에 데이터가 대입되어 출력된다."
   ]
  },
  {
   "cell_type": "code",
   "execution_count": 111,
   "id": "a1811aa0",
   "metadata": {},
   "outputs": [
    {
     "name": "stdout",
     "output_type": "stream",
     "text": [
      "1 + 2 = 3\n",
      "1 - 2 = -1\n",
      "1 * 2 = 2\n",
      "1 / 2 = 0.5\n",
      "1 // 2 = 0\n",
      "1 % 2 = 1\n",
      "2의 3승 = 8\n",
      "루트 2 = 1.4142135623730951\n"
     ]
    }
   ],
   "source": [
    "print('{} + {} = {}'.format(1, 2, 1 + 2))\n",
    "print('{} - {} = {}'.format(1, 2, 1 - 2))\n",
    "print('{} * {} = {}'.format(1, 2, 1 * 2))\n",
    "print('{} / {} = {}'.format(1, 2, 1 / 2))\n",
    "print('{} // {} = {}'.format(1, 2, 1 // 2))\n",
    "print('{} % {} = {}'.format(1, 2, 1 % 2))\n",
    "print('{}의 {}승 = {}'.format(2, 3, 2 ** 3))\n",
    "print('루트 {} = {}'.format(2, 2 ** 0.5))"
   ]
  },
  {
   "cell_type": "markdown",
   "id": "0f5dc3e3",
   "metadata": {},
   "source": [
    "format() 메소드와 출력할 데이터의 인덱스를 사용해 출력하기 -> 인덱스는 0부터 시작된다.\n"
   ]
  },
  {
   "cell_type": "code",
   "execution_count": 121,
   "id": "45829ac9",
   "metadata": {},
   "outputs": [
    {
     "name": "stdout",
     "output_type": "stream",
     "text": [
      "뽀로로 놀자\n",
      "뽀로로\n"
     ]
    }
   ],
   "source": [
    "print('{} {}'.format('뽀로로', '놀자'))\n",
    "# 인덱스를 지정하지 않은 상태에서 아래와 같이 {}가 출력할 데이터보다 많으면 에러가 발생된다.\n",
    "# print('{} {} {}'.format('뽀로로', '놀자')) # 에러\n",
    "# {}가 모자라면 에러는 발생되지 않고 출력되며 남는 데이터는 무시된다.\n",
    "print('{}'.format('뽀로로', '놀자'))"
   ]
  },
  {
   "cell_type": "code",
   "execution_count": 122,
   "id": "a0b31fcf",
   "metadata": {},
   "outputs": [
    {
     "name": "stdout",
     "output_type": "stream",
     "text": [
      "뽀로로 놀자\n",
      "놀자 뽀로로\n"
     ]
    }
   ],
   "source": [
    "print('{0} {1}'.format('뽀로로', '놀자'))\n",
    "print('{1} {0}'.format('뽀로로', '놀자'))"
   ]
  },
  {
   "cell_type": "code",
   "execution_count": null,
   "id": "8336210f",
   "metadata": {},
   "outputs": [],
   "source": []
  },
  {
   "cell_type": "code",
   "execution_count": null,
   "id": "57e4e4d9",
   "metadata": {},
   "outputs": [],
   "source": []
  },
  {
   "cell_type": "code",
   "execution_count": null,
   "id": "ebc318f0",
   "metadata": {},
   "outputs": [],
   "source": []
  },
  {
   "cell_type": "code",
   "execution_count": null,
   "id": "0c887177",
   "metadata": {},
   "outputs": [],
   "source": []
  }
 ],
 "metadata": {
  "kernelspec": {
   "display_name": "Python 3",
   "language": "python",
   "name": "python3"
  },
  "language_info": {
   "codemirror_mode": {
    "name": "ipython",
    "version": 3
   },
   "file_extension": ".py",
   "mimetype": "text/x-python",
   "name": "python",
   "nbconvert_exporter": "python",
   "pygments_lexer": "ipython3",
   "version": "3.6.8"
  }
 },
 "nbformat": 4,
 "nbformat_minor": 5
}

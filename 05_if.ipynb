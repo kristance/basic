{
 "cells": [
  {
   "cell_type": "markdown",
   "id": "8e31259a",
   "metadata": {},
   "source": [
    "if 명령 형식\n",
    "\n",
    "if 조건식 : \n",
    "&nbsp;&nbsp;&nbsp;&nbsp;조건식이 참일 경우 실행할 문장  \n",
    "&nbsp;&nbsp;&nbsp;&nbsp;...  \n",
    "else :\n",
    "&nbsp;&nbsp;&nbsp;&nbsp;조건식이 거짓일 경우 실행할 문장  \n",
    "&nbsp;&nbsp;&nbsp;&nbsp;...\n",
    "***  \n",
    "\n",
    "조건식을 만족하지 않을 때 아무런 일도 할 필요가 없다면 else 이하를 생략할 수 있다.\n"
   ]
  },
  {
   "cell_type": "markdown",
   "id": "2b518483",
   "metadata": {},
   "source": [
    "관계 연산자\n",
    "\n",
    "&nbsp;<&nbsp;&nbsp;: 작다, 미만  \n",
    "&nbsp;<=&nbsp;&nbsp;: 작거나 같다, 이하  \n",
    "&nbsp;>&nbsp;&nbsp;: 크다, 초과  \n",
    "&nbsp;>=&nbsp;&nbsp;: 크거나 같다  \n",
    "&nbsp;==&nbsp;&nbsp;: 같다  \n",
    "&nbsp;!=&nbsp;&nbsp;: 같지 않다"
   ]
  },
  {
   "cell_type": "markdown",
   "id": "558128db",
   "metadata": {},
   "source": [
    "논리 연산자\n",
    "\n",
    "and&nbsp;&nbsp; : 논리곱, 두 조건이 모두 참일 경우에만 참, ~이고, ~이면서, ~중에서  \n",
    "or&nbsp;&nbsp;: 논리합, 두 조건 중에서 한 개 이상 참일 경우에 참, ~또는, ~이거나  \n",
    "not&nbsp;&nbsp;: 논리 부정  \n",
    "\n",
    "<img src=\"./ornot.png\" align=\"left\" title=\"논리연산자\"/>"
   ]
  },
  {
   "cell_type": "markdown",
   "id": "a15038f8",
   "metadata": {},
   "source": [
    "연산자 우선 순위\n",
    "\n",
    "단항 연산자 -> 이항 연산자 -> 삼항 연산자 -> 대입 연산자('='와 같이 사용한다.)  \n",
    "이항 연산자 = ** -> *, /, //, % -> +, - -> 관계 연산자 -> 논리 연산자(and -> or)"
   ]
  },
  {
   "cell_type": "code",
   "execution_count": 1,
   "id": "6cd437d2",
   "metadata": {},
   "outputs": [
    {
     "name": "stdout",
     "output_type": "stream",
     "text": [
      "나이 입력 바람 : 1221111111111\n",
      "<class 'int'>\n",
      "투표 가능\n"
     ]
    }
   ],
   "source": [
    "# 나이를 입력받아 투표권이 있나 없나 판단한다.\n",
    "age = int(input('나이 입력 바람 : '))\n",
    "print(type(age))\n",
    "\n",
    "if age >= 18 : \n",
    "    print('투표 가능')\n",
    "else : \n",
    "    print('투표 불가')"
   ]
  },
  {
   "cell_type": "code",
   "execution_count": 2,
   "id": "61de282c",
   "metadata": {},
   "outputs": [
    {
     "name": "stdout",
     "output_type": "stream",
     "text": [
      "주민등록번호 (- 없이 입력) : 2222222222222222222\n",
      "<class 'str'>\n",
      "2\n",
      "여자\n",
      "여자\n",
      "-------------------------\n",
      "여자\n",
      "여자\n",
      "여자\n",
      "-------------------------\n",
      "여자\n"
     ]
    }
   ],
   "source": [
    "# 주민등록번호를 입력받아 성별을 판단한다.\n",
    "jumin = input('주민등록번호 (- 없이 입력) : ')\n",
    "print(type(jumin))\n",
    "print(jumin[6])\n",
    "\n",
    "# 문자열로 비교\n",
    "if jumin[6] == '1' : # 2000년 이후에 태어난 남자의 성별이 모두 여자로 출력된다.\n",
    "    print('남자')\n",
    "else :\n",
    "    print('여자')\n",
    "    \n",
    "if jumin[6] == '1' or jumin[6] == '3' or jumin[6] == '5' : \n",
    "    print('남자')\n",
    "else :\n",
    "    print('여자')\n",
    "\n",
    "print('-' * 25)\n",
    "   \n",
    "if jumin[6]  in ['1', '3', '5']: # in 연산자 <-> not in 연산자 \n",
    "    print('남자')\n",
    "else :\n",
    "    print('여자')    \n",
    "\n",
    "# 숫자로 비교\n",
    "if int(jumin[6]) == 1 or int(jumin[6]) == 3 or int(jumin[6]) == 5 : \n",
    "    print('남자')\n",
    "else :\n",
    "    print('여자')\n",
    "    \n",
    "if int(jumin[6])  in [1, 3, 5]: # in 연산자 <-> not in 연산자 \n",
    "    print('남자')\n",
    "else :\n",
    "    print('여자')\n",
    "    \n",
    "print('-' * 25)\n",
    "\n",
    "# 성별이 홀수면 남자, 짝수면 여자\n",
    "if int(jumin[6]) % 2 == 1 :\n",
    "    print('남자')\n",
    "else :\n",
    "    print('여자')"
   ]
  },
  {
   "cell_type": "code",
   "execution_count": 4,
   "id": "f8ea0ffa",
   "metadata": {},
   "outputs": [
    {
     "name": "stdout",
     "output_type": "stream",
     "text": [
      "주민등록번호 (- 없이 입력) : 2323232323232\n",
      "2\n",
      "23\n",
      "23\n",
      "<class 'int'>\n",
      "당신의 출생 년도는 1923년이고 나이는 101세 입니다.\n",
      "당신의 출생 년도는 1923년이고 나이는 101세 입니다.\n",
      "당신의 출생 년도는 1923년이고 나이는 101세 입니다.\n",
      "당신의 출생 년도는 1923년이고 나이는 101세 입니다.\n"
     ]
    }
   ],
   "source": [
    "# 주민등록번호를 입력받아 나이를 출력한다.\n",
    "jumin = input('주민등록번호 (- 없이 입력) : ')\n",
    "print(jumin[6])\n",
    "print(jumin[:2])\n",
    "year = int(jumin[:2])\n",
    "print(year)\n",
    "print(type(year))\n",
    "\n",
    "# 성별이 2이하면 1900년대에 그렇지 않으면 2000년대에 태어났다.\n",
    "'''\n",
    "if jumin[6] <= '2':\n",
    "    # year = year + 1900\n",
    "    # 대입 연산자\n",
    "    # '='와 같이 사용하는 연산자를 말하며 우선 순위가 가장 늦다. -> +=, -=, *=, /=, //=, %=..\n",
    "    year += 1900\n",
    "else :\n",
    "    year += 2000\n",
    "'''\n",
    "\n",
    "# 삼항연산자(간단한 if ~ else) -> c/c++, java, javascript는 '?:'를 사용한다.\n",
    "# 형식 : 조건이 참일 때 실행할 문장 if 조건식 else 조건이 거짓일 때 실행할 문장\n",
    "# year라는 변수에 1900을 더할건데 만약에 jumin[6] <= '2' 조건을 만족하지 않는다면 2000을 더해라\n",
    "year += 1900 if jumin[6] <= '2' else 2000\n",
    "\n",
    "print('당신의 출생 년도는 {}년이고 나이는 {}세 입니다.'.format(year, 2024 - year))\n",
    "\n",
    "from datetime import datetime as dt\n",
    "today = dt.now()\n",
    "print('당신의 출생 년도는 %d년이고 나이는 %d세 입니다.' % (year, today.year - year))\n",
    "print(f'당신의 출생 년도는 {year}년이고 나이는 {2024 - year}세 입니다.')\n",
    "print('당신의 출생 년도는 {}년이고 나이는 {}세 입니다.'.format(year, today.year - year))"
   ]
  },
  {
   "cell_type": "code",
   "execution_count": 18,
   "id": "d9e641a0",
   "metadata": {},
   "outputs": [
    {
     "name": "stdout",
     "output_type": "stream",
     "text": [
      "년수를 입력하세요 : 5000\n",
      "5000년은 평년입니다.\n",
      "5000년은 평년입니다.\n"
     ]
    }
   ],
   "source": [
    "# 윤년, 평년 판단하기\n",
    "# 년도가 4로 나눠 떨어지고 100으로 나눠 떨어지지 않거나 400으로 나눠 떨어지면 윤년, 그렇지 않으면 평년\n",
    "\n",
    "\n",
    "# 프로그램에서 여러번 사용되는 데이터나 연산 결과는 변수에 저장해서 사용하면 편리하다.\n",
    "isLeapYear = year % 4 == 0 and year % 100 != 0 or year % 400 == 0\n",
    "\n",
    "\n",
    "year = int(input('년수를 입력하세요 : '))\n",
    "if year % 4 == 0 and year % 100 != 0 or year % 400 == 0 :\n",
    "    print('{}년은 윤년입니다.'.format(year))\n",
    "else :\n",
    "    print('{}년은 평년입니다.'.format(year))\n",
    "\n",
    "print('{}년은 {}년입니다.'.format(year, '윤' if isLeapYear else '평'))"
   ]
  },
  {
   "cell_type": "code",
   "execution_count": 28,
   "id": "59ca38ca",
   "metadata": {},
   "outputs": [
    {
     "name": "stdout",
     "output_type": "stream",
     "text": [
      "3과목 점수를 입력하세요 : 60 40 30\n",
      "총점 : 130점, 평균43.33\n",
      "43.333333333333336\n",
      "평균 : 43.33점, 등급 :F \n"
     ]
    }
   ],
   "source": [
    "# 세 과목 점수를 입력받아 평균 점수가 90점 이상이면 A, 80점 이상이면 B, 70점 이상이면 C, 60점 이상이면 D,\n",
    "# 그 이외의 경우 F를 출력한다.\n",
    "java, jsp, python = map(int, input('3과목 점수를 입력하세요 : ').split())\n",
    "total = java + jsp + python\n",
    "mean = total / 3\n",
    "print ('총점 : {:3d}점, 평균{:.2f}'.format(total, mean))\n",
    "\n",
    "print(mean)\n",
    "if mean > 90 :\n",
    "    print('평균 : {:.2f}점, 등급 :A '.format(mean))\n",
    "\n",
    "'''    \n",
    "# 파이썬은 90 > mean >= 80와 같은 형태의 조건을 사용할 수 있다.\n",
    "if 90 > mean >= 80 :\n",
    "    print('평균 : {:.2f}점, 등급 :B '.format(mean))\n",
    "'''\n",
    "\n",
    "if mean < 90 and mean > 80 :\n",
    "    print('평균 : {:.2f}점, 등급 :B '.format(mean))\n",
    "if mean < 80 and mean > 70 :\n",
    "    print('평균 : {:.2f}점, 등급 :C '.format(mean))\n",
    "if mean < 70 and mean > 60 :\n",
    "    print('평균 : {:.2f}점, 등급 :D '.format(mean))\n",
    "if mean < 60 and mean >= 0 :\n",
    "    print('평균 : {:.2f}점, 등급 :F '.format(mean))"
   ]
  },
  {
   "cell_type": "code",
   "execution_count": 29,
   "id": "10ce9637",
   "metadata": {},
   "outputs": [
    {
     "name": "stdout",
     "output_type": "stream",
     "text": [
      "3과목 점수를 입력하세요 : 20 10 50\n",
      "총점 :  80점, 평균26.67\n",
      "평균 : 26.67점, 등급 :F \n"
     ]
    }
   ],
   "source": [
    "# 세 과목 점수를 입력받아 평균 점수가 90점 이상이면 A, 80점 이상이면 B, 70점 이상이면 C, 60점 이상이면 D,\n",
    "# 그 이외의 경우 F를 출력한다.\n",
    "java, jsp, python = map(int, input('3과목 점수를 입력하세요 : ').split())\n",
    "total = java + jsp + python\n",
    "mean = total / 3\n",
    "print ('총점 : {:3d}점, 평균{:.2f}'.format(total, mean))\n",
    "\n",
    "if mean > 90 :\n",
    "    print('평균 : {:.2f}점, 등급 :A '.format(mean))\n",
    "elif mean < 90 and mean > 80 :\n",
    "    print('평균 : {:.2f}점, 등급 :B '.format(mean))\n",
    "elif mean < 80 and mean > 70 :\n",
    "    print('평균 : {:.2f}점, 등급 :C '.format(mean))\n",
    "elif mean < 70 and mean > 60 :\n",
    "    print('평균 : {:.2f}점, 등급 :D '.format(mean))\n",
    "else :\n",
    "    print('평균 : {:.2f}점, 등급 :F '.format(mean))"
   ]
  },
  {
   "cell_type": "code",
   "execution_count": 29,
   "id": "9d8917e7",
   "metadata": {},
   "outputs": [
    {
     "name": "stdout",
     "output_type": "stream",
     "text": [
      "3과목 점수를 입력하세요 : 20 10 50\n",
      "총점 :  80점, 평균26.67\n",
      "평균 : 26.67점, 등급 :F \n"
     ]
    }
   ],
   "source": [
    "# 세 과목 점수를 입력받아 평균 점수가 90점 이상이면 A, 80점 이상이면 B, 70점 이상이면 C, 60점 이상이면 D,\n",
    "# 그 이외의 경우 F를 출력한다.\n",
    "java, jsp, python = map(int, input('3과목 점수를 입력하세요 : ').split())\n",
    "total = java + jsp + python\n",
    "mean = total / 3\n",
    "print ('총점 : {:3d}점, 평균{:.2f}'.format(total, mean))\n",
    "\n",
    "if mean > 90 :\n",
    "    print('평균 : {:.2f}점, 등급 :A '.format(mean))\n",
    "elif mean > 80 :\n",
    "    print('평균 : {:.2f}점, 등급 :B '.format(mean))\n",
    "elif mean > 70 :\n",
    "    print('평균 : {:.2f}점, 등급 :C '.format(mean))\n",
    "elif mean > 60 :\n",
    "    print('평균 : {:.2f}점, 등급 :D '.format(mean))\n",
    "else :\n",
    "    print('평균 : {:.2f}점, 등급 :F '.format(mean))"
   ]
  },
  {
   "cell_type": "code",
   "execution_count": 31,
   "id": "3a1bf67d",
   "metadata": {},
   "outputs": [],
   "source": [
    "# 난수를 발생시키는 random 모듈을 import 한다\n",
    "import random"
   ]
  },
  {
   "cell_type": "code",
   "execution_count": 83,
   "id": "2cece16b",
   "metadata": {},
   "outputs": [
    {
     "name": "stdout",
     "output_type": "stream",
     "text": [
      "1\n",
      "0.6910953614573381\n",
      "4\n"
     ]
    }
   ],
   "source": [
    "# randint(a, b) 메소드는 a부터 b사이의 난수를 정수로 발생시킨다.\n",
    "print(random.randint(1, 6))\n",
    "\n",
    "# random() 메소드는 0이상이고 1미만인 난수를 실수로 발생시킨다.\n",
    "print(random.random())\n",
    "\n",
    "# randrange(a, b) 메소드는 a부터 b - 1 사이의 난수를 정수로 발생시킨다.\n",
    "print(random.randrange(1 , 6))"
   ]
  },
  {
   "cell_type": "code",
   "execution_count": 100,
   "id": "63e8229f",
   "metadata": {},
   "outputs": [
    {
     "name": "stdout",
     "output_type": "stream",
     "text": [
      "<class 'int'>\n",
      "가위(1), 바위(2), 보(3) 1\n",
      "cpu:2, user:1\n",
      "졌다.\n"
     ]
    }
   ],
   "source": [
    "# 가위(1), 바위(2), 보(3)\n",
    "cpu = random.randint(1, 3)\n",
    "print(type(cpu))\n",
    "user = int(input('가위(1), 바위(2), 보(3) '))\n",
    "print(f'cpu:{cpu}, user:{user}')\n",
    "\n",
    "if (cpu > 3 or user > 3) or (cpu < 1 or user < 1) :\n",
    "    print('올바른 숫자를 입력해주세요')\n",
    "elif cpu == user :\n",
    "    print('비겼다')\n",
    "elif (cpu == 1 and user == 2) or (cpu == 2 and user == 3) or (cpu == 3 and user == 1) :\n",
    "    print('이겼다')\n",
    "else :\n",
    "    print('졌다.')"
   ]
  },
  {
   "cell_type": "code",
   "execution_count": null,
   "id": "38aa8bbc",
   "metadata": {},
   "outputs": [],
   "source": []
  },
  {
   "cell_type": "code",
   "execution_count": null,
   "id": "1a68e16a",
   "metadata": {},
   "outputs": [],
   "source": []
  },
  {
   "cell_type": "code",
   "execution_count": null,
   "id": "504d00e4",
   "metadata": {},
   "outputs": [],
   "source": []
  },
  {
   "cell_type": "code",
   "execution_count": null,
   "id": "c7a69f37",
   "metadata": {},
   "outputs": [],
   "source": []
  },
  {
   "cell_type": "code",
   "execution_count": null,
   "id": "bed8a012",
   "metadata": {},
   "outputs": [],
   "source": []
  },
  {
   "cell_type": "code",
   "execution_count": null,
   "id": "88e62460",
   "metadata": {},
   "outputs": [],
   "source": []
  },
  {
   "cell_type": "code",
   "execution_count": null,
   "id": "c6301b06",
   "metadata": {},
   "outputs": [],
   "source": []
  },
  {
   "cell_type": "code",
   "execution_count": null,
   "id": "061275f1",
   "metadata": {},
   "outputs": [],
   "source": []
  },
  {
   "cell_type": "code",
   "execution_count": null,
   "id": "710d4775",
   "metadata": {},
   "outputs": [],
   "source": []
  }
 ],
 "metadata": {
  "kernelspec": {
   "display_name": "Python 3",
   "language": "python",
   "name": "python3"
  },
  "language_info": {
   "codemirror_mode": {
    "name": "ipython",
    "version": 3
   },
   "file_extension": ".py",
   "mimetype": "text/x-python",
   "name": "python",
   "nbconvert_exporter": "python",
   "pygments_lexer": "ipython3",
   "version": "3.6.8"
  }
 },
 "nbformat": 4,
 "nbformat_minor": 5
}

{
 "cells": [
  {
   "cell_type": "markdown",
   "id": "2ebc0255",
   "metadata": {},
   "source": [
    "datetime 모듈\n",
    "\n",
    "컴퓨터 시스템의 날짜와 시간을 얻어온다."
   ]
  },
  {
   "cell_type": "code",
   "execution_count": 1,
   "id": "987a42ba",
   "metadata": {},
   "outputs": [
    {
     "name": "stdout",
     "output_type": "stream",
     "text": [
      "2024-02-27 12:25:11.620076\n"
     ]
    }
   ],
   "source": [
    "import datetime # datetime 뮤듈 전체를 import 한다\n",
    "now = datetime.datetime.now()\n",
    "print(now)"
   ]
  },
  {
   "cell_type": "code",
   "execution_count": null,
   "id": "97094939",
   "metadata": {},
   "outputs": [],
   "source": [
    "from datetime import datetime # datetime 모듈에서 datetime 클래스만 import\n",
    "now2 = datetime.now()\n",
    "print(now2)"
   ]
  },
  {
   "cell_type": "code",
   "execution_count": 2,
   "id": "5b3ea904",
   "metadata": {},
   "outputs": [
    {
     "name": "stdout",
     "output_type": "stream",
     "text": [
      "2024-02-27 12:25:32.899056\n",
      "2024-02-27 12:25:32.900054\n"
     ]
    }
   ],
   "source": [
    "from datetime import datetime as dt # import한 datetime 클래스에 dt라는 별명을 지정한다.\n",
    "# import 하는 모듈에 별명을 지정하면 원래 모듈 이름은 사용할 수 없고, as 뒤의 별명을 사용해야한다.\n",
    "# now3 = datetime.now()\n",
    "now3 = dt.now()\n",
    "print(now3)\n"
   ]
  },
  {
   "cell_type": "markdown",
   "id": "943cef04",
   "metadata": {},
   "source": [
    "날짜, 시간 데이터에서 년, 월, 일, 시, 분, 초, 밀리초, 마이크로초, 요일 추출하기\n"
   ]
  },
  {
   "cell_type": "code",
   "execution_count": 11,
   "id": "9785786a",
   "metadata": {},
   "outputs": [
    {
     "name": "stdout",
     "output_type": "stream",
     "text": [
      "2024-02-27 12:41:29.731151\n",
      "년: 2024\n",
      "월: 2\n",
      "일: 27\n",
      "시: 12\n",
      "분: 41\n",
      "초: 29\n",
      "마이크로초: 731151\n",
      "밀리초: 731\n",
      "요일: 1\n",
      "요일: 화\n"
     ]
    }
   ],
   "source": [
    "from datetime import datetime as dt # import한 datetime 클래스에 dt라는 별명을 지정한다.\n",
    "today = dt.now()\n",
    "print(today)\n",
    "\n",
    "print('년: {}'.format(today.year))\n",
    "print('월: {}'.format(today.month))\n",
    "print('일: {}'.format(today.day))\n",
    "print('시: {}'.format(today.hour))\n",
    "print('분: {}'.format(today.minute))\n",
    "print('초: {}'.format(today.second))\n",
    "print('마이크로초: {}'.format(today.microsecond))\n",
    "print('밀리초: {}'.format(today.microsecond // 1000))\n",
    "# weekday() 메소드로 요일을 숫자로 얻어올 수 있다. 0(월), 1(화), 2(수), 3(목), 4(금), 5(토), 6(일)  \n",
    "print('요일: {}'.format(today.weekday()))\n",
    "week = ['월', '화', '수', '목', '금', '토', '일']\n",
    "print('요일: {}'.format(week[today.weekday()]))"
   ]
  },
  {
   "cell_type": "markdown",
   "id": "58af7898",
   "metadata": {},
   "source": [
    "날짜, 시간 수정하기"
   ]
  },
  {
   "cell_type": "code",
   "execution_count": 22,
   "id": "d6f40854",
   "metadata": {},
   "outputs": [
    {
     "name": "stdout",
     "output_type": "stream",
     "text": [
      "2024-02-27 12:46:05.674955\n",
      "2025-02-27 12:46:05.674955\n",
      "2024-12-27 12:46:05.674955\n",
      "2024-02-25 12:46:05.674955\n",
      "2024-02-27 17:46:05.674955\n",
      "2024-02-27 12:35:05.674955\n",
      "2024-02-27 12:46:47.674955\n",
      "2024-02-27 12:46:05.111111\n",
      "2025-07-27 12:46:05.674955\n"
     ]
    }
   ],
   "source": [
    "from datetime import datetime as dt # import한 datetime 클래스에 dt라는 별명을 지정한다.\n",
    "today = dt.now()\n",
    "print(today)\n",
    "\n",
    "# replace() 메소드로 날짜, 시간을 수정할 수 있다.\n",
    "print(today.replace(year=2025))\n",
    "print(today.replace(month=12))\n",
    "print(today.replace(day=25))\n",
    "print(today.replace(hour=17))\n",
    "print(today.replace(minute=35))\n",
    "print(today.replace(second=47))\n",
    "print(today.replace(microsecond=111111))\n",
    "print(today.replace(year=2025, month=7))"
   ]
  },
  {
   "cell_type": "markdown",
   "id": "eb9a9305",
   "metadata": {},
   "source": [
    "날짜, 시간 데이터 만들기"
   ]
  },
  {
   "cell_type": "code",
   "execution_count": 29,
   "id": "f110af8b",
   "metadata": {},
   "outputs": [
    {
     "name": "stdout",
     "output_type": "stream",
     "text": [
      "2024-11-7 <class 'str'>\n",
      "2024-11-07 00:00:00 <class 'datetime.datetime'>\n",
      "13:20:01 <class 'str'>\n",
      "2024-02-27 13:20:01 <class 'datetime.datetime'>\n",
      "2024-11-7 13:20:01 <class 'str'>\n",
      "2024-11-07 13:20:01 <class 'datetime.datetime'>\n"
     ]
    }
   ],
   "source": [
    "from dateutil.parser import parse\n",
    "string = '2024-11-7' #2024/11/7, 2024.11.7 \n",
    "print(string, type(string))\n",
    "\n",
    "date = parse(string)\n",
    "print(date, type(date))\n",
    "\n",
    "string = '13:20:01'\n",
    "print(string, type(string))\n",
    "time = parse(string)\n",
    "print(time, type(time))\n",
    "\n",
    "string = '2024-11-7 13:20:01'\n",
    "print(string, type(string))\n",
    "now = parse(string)\n",
    "print(now, type(now))"
   ]
  },
  {
   "cell_type": "markdown",
   "id": "5daaf6ae",
   "metadata": {},
   "source": [
    "두 날짜 데이터 사이의 차이 계산하기"
   ]
  },
  {
   "cell_type": "code",
   "execution_count": 557,
   "id": "fed404ba",
   "metadata": {},
   "outputs": [
    {
     "name": "stdout",
     "output_type": "stream",
     "text": [
      "2024-02-27 13:02:07.040987 2024-07-11 13:20:01\n",
      "135 days, 0:17:53.959013\n",
      "135\n",
      "1073\n",
      "959013\n",
      "11665073.959013\n"
     ]
    }
   ],
   "source": [
    "from datetime import datetime as dt\n",
    "from dateutil.parser import parse\n",
    "start = dt.now()\n",
    "end = parse('2024-7-11 13:20:1')\n",
    "print(start, end)\n",
    "\n",
    "gap = end - start\n",
    "print(gap)\n",
    "print(gap.days) # 두 날짜 데이터 사이의 일 단위 차이를 얻어온다. -> 날짜 단위\n",
    "print(gap.seconds) # 두 날짜 데이터 사이의 초 단위 차이만 얻어온다. -> 시간 단위\n",
    "print(gap.microseconds) # 두 날짜 데이터 사이의 마이크로초 단위 차이만 얻어온다.\n",
    "print(gap.total_seconds()) # 두 날짜 데이터 사이의 초 단위 차이만 얻어온다. -> 전체 데이터; 월일분초를 초로 반환"
   ]
  },
  {
   "cell_type": "markdown",
   "id": "6804e7fe",
   "metadata": {},
   "source": [
    "날짜, 시간 서식 지정하기  \n",
    "날짜데이터.strftime('출력서식')  \n",
    "\n",
    "날짜 서식  \n",
    "%Y : 년도 4자리, %y : 년도 2자리  \n",
    "%m : 월(숫자), %B : 월(영어 -> 전체), %b : 월(영어 -> 앞 3글자)  \n",
    "%d : 일  \n",
    "%A : 요일(영어 -> 전체), %a : 요일(영어 -> 앞 3글자)"
   ]
  },
  {
   "cell_type": "code",
   "execution_count": 570,
   "id": "377b44fc",
   "metadata": {},
   "outputs": [
    {
     "name": "stdout",
     "output_type": "stream",
     "text": [
      "2024-02-27 13:13:11.689637\n",
      "2024-02-27\n",
      "<class 'str'>\n",
      "2024/02/27\n",
      "2024.02.27\n",
      "2024-February-27 Tuesday\n",
      "2024-Feb-27 Tue\n",
      "Tue Feb-27-2024\n",
      "2024년 02월 27일\n"
     ]
    }
   ],
   "source": [
    "from datetime import datetime as dt\n",
    "today = dt.now()\n",
    "print(today)\n",
    "\n",
    "print(today.strftime('%Y-%m-%d'))\n",
    "print(type(today.strftime('%Y-%m-%d')))\n",
    "print(today.strftime('%Y/%m/%d'))\n",
    "print(today.strftime('%Y.%m.%d'))\n",
    "print(today.strftime('%Y-%B-%d %A'))\n",
    "print(today.strftime('%Y-%b-%d %a'))\n",
    "print(today.strftime('%a %b-%d-%Y'))\n",
    "\n",
    "# 날짜, 시간 서식에 한글을 넣었을때 유니코드 인코딩 문제로 UnicodeEncodeError가 발생된다.\n",
    "# print(today.strftime('%Y년 %m월 %d일')) # 에러\n",
    "# 날짜, 시간 서식 지정시 UnicodeEncodeError가 발생되면 아래와 같이 코딩한다.\n",
    "print(today.strftime('%Y년 %m월 %d일'.encode('unicode-escape').decode()).encode().decode('unicode-escape'))"
   ]
  },
  {
   "cell_type": "markdown",
   "id": "0fe16cea",
   "metadata": {},
   "source": [
    "시간 서식\n",
    "%H : 시간(24시간), %I : 시간(12시간), %M : 분, %S : 초, %f : 마이크로초, %p : AM/PM"
   ]
  },
  {
   "cell_type": "code",
   "execution_count": 577,
   "id": "47458b6b",
   "metadata": {},
   "outputs": [
    {
     "name": "stdout",
     "output_type": "stream",
     "text": [
      "2024-02-27 13:18:17.373070\n",
      "13:18:17\n",
      "PM 01:18:17.373070\n",
      "13시 18분 17초\n"
     ]
    }
   ],
   "source": [
    "from datetime import datetime as dt\n",
    "today = dt.now()\n",
    "print(today)\n",
    "\n",
    "print(today.strftime('%H:%M:%S'))\n",
    "print(today.strftime('%p %I:%M:%S.%f'))\n",
    "# print(today.strftime('%H시 %M분 %S초')) # 에러\n",
    "print(today.strftime('%H시 %M분 %S초'.encode('unicode-escape').decode()).encode().decode('unicode-escape'))"
   ]
  },
  {
   "cell_type": "code",
   "execution_count": null,
   "id": "78891223",
   "metadata": {},
   "outputs": [],
   "source": []
  },
  {
   "cell_type": "code",
   "execution_count": null,
   "id": "535aee47",
   "metadata": {},
   "outputs": [],
   "source": []
  }
 ],
 "metadata": {
  "kernelspec": {
   "display_name": "Python 3",
   "language": "python",
   "name": "python3"
  },
  "language_info": {
   "codemirror_mode": {
    "name": "ipython",
    "version": 3
   },
   "file_extension": ".py",
   "mimetype": "text/x-python",
   "name": "python",
   "nbconvert_exporter": "python",
   "pygments_lexer": "ipython3",
   "version": "3.6.8"
  }
 },
 "nbformat": 4,
 "nbformat_minor": 5
}

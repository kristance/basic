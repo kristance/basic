{
 "cells": [
  {
   "cell_type": "markdown",
   "id": "f248043a",
   "metadata": {},
   "source": [
    "튜플 만들기\n",
    "\n",
    "튜플은 리스트와 거의 비슷하지만 약간의 차이가 있다.  \n",
    "리스트는 데이터를 []로 감싸고 튜플은 ()로 감싼다.  \n",
    "리스트는 데이터 요소의 수정 및 삭제가 가능하지만 튜플은 불가능하다.  "
   ]
  },
  {
   "cell_type": "code",
   "execution_count": 1,
   "id": "1d82c45e",
   "metadata": {},
   "outputs": [
    {
     "name": "stdout",
     "output_type": "stream",
     "text": [
      "<class 'tuple'>\n",
      "()\n",
      "--------------------\n",
      "<class 'tuple'>\n",
      "()\n"
     ]
    }
   ],
   "source": [
    "# 빈 튜플 만들기\n",
    "a = ()\n",
    "print(type(a))\n",
    "print(a)\n",
    "print('-' * 20 )\n",
    "\n",
    "# 빈 튜플은 생성자 함수를 사용해서도 만들 수 있다.\n",
    "b = tuple()\n",
    "print(type(b))\n",
    "print(b)"
   ]
  },
  {
   "cell_type": "code",
   "execution_count": 5,
   "id": "3a063a98",
   "metadata": {},
   "outputs": [
    {
     "name": "stdout",
     "output_type": "stream",
     "text": [
      "<class 'list'>\n",
      "[1]\n",
      "--------------------\n",
      "<class 'int'>\n",
      "1\n",
      "--------------------\n",
      "<class 'tuple'>\n",
      "(1,)\n",
      "--------------------\n"
     ]
    }
   ],
   "source": [
    "# 데이터가 1개인 리스트\n",
    "a = [1]\n",
    "print(type(a))\n",
    "print(a)\n",
    "print('-' * 20 )\n",
    "\n",
    "# 데이터가 1개인 튜플\n",
    "# 데이터가 1개인 튜플을 만드려는 경우 ()만 사용하면 ()를 튜플 정의로 인식하는 것이 아니고, \n",
    "# 일반 연산식의 우선순위 지정에 사용하는 ()로 인식한다.\n",
    "b = (1)\n",
    "print(type(b))\n",
    "print(b)\n",
    "print('-' * 20 )\n",
    "\n",
    "# 데이터가 1개인 튜플을 만드려면 ()안의 데이터 뒤에 반드시 ','를 입력해야 한다.\n",
    "c = (1,)\n",
    "print(type(c))\n",
    "print(c)\n",
    "print('-' * 20 )"
   ]
  },
  {
   "cell_type": "code",
   "execution_count": 10,
   "id": "a3d8e94c",
   "metadata": {},
   "outputs": [
    {
     "name": "stdout",
     "output_type": "stream",
     "text": [
      "(1, 2, 3)\n",
      "('a', 'b', 'c')\n",
      "(1, 'a', 2, 'bb')\n",
      "('a', 'b', 'c', (1, 2, 3))\n",
      "('a', 'b', 'c', [1, 2, 3])\n",
      "['a', 'b', 'c', (1, 2, 3)]\n"
     ]
    }
   ],
   "source": [
    "# 초기치를 가지는 튜플\n",
    "a = (1, 2, 3)\n",
    "print(a)\n",
    "b = ('a', 'b', 'c')\n",
    "print(b)\n",
    "c = (1, 'a', 2 , 'bb')\n",
    "print(c)\n",
    "d = ('a', 'b', 'c', (1, 2, 3))\n",
    "print(d)\n",
    "e = ('a', 'b', 'c', [1, 2, 3])\n",
    "print(e)\n",
    "f = ['a', 'b', 'c', (1, 2, 3)]\n",
    "print(f)"
   ]
  },
  {
   "cell_type": "markdown",
   "id": "40c489d4",
   "metadata": {},
   "source": [
    "튜플은 리스트와 같이 인덱싱과 슬라이싱이 가능하다"
   ]
  },
  {
   "cell_type": "code",
   "execution_count": 23,
   "id": "72d816d5",
   "metadata": {
    "scrolled": true
   },
   "outputs": [
    {
     "name": "stdout",
     "output_type": "stream",
     "text": [
      "('a', 'b', ('ab', 'cd'))\n",
      "a\n",
      "('ab', 'cd')\n",
      "('ab', 'cd')\n",
      "ab\n",
      "('a', 'b')\n",
      "('a', 'b')\n",
      "('b', ('ab', 'cd'))\n",
      "('b', ('ab', 'cd'))\n",
      "('a', 'b', ('ab', 'cd'))\n",
      "(('ab', 'cd'), 'b', 'a')\n"
     ]
    }
   ],
   "source": [
    "a = ('a', 'b', ('ab', 'cd'))\n",
    "print(a)\n",
    "print(a[0])\n",
    "print(a[2])\n",
    "print(a[-1])\n",
    "print(a[-1][0])\n",
    "print(a[0:2])\n",
    "print(a[:2])\n",
    "print(a[1:3])\n",
    "print(a[1:])\n",
    "print(a[:])\n",
    "print(a[::-1])"
   ]
  },
  {
   "cell_type": "markdown",
   "id": "b3885463",
   "metadata": {},
   "source": [
    "튜플은 리스트와 같이 덧셈(연결) 연산과 곱셈(반복) 연산이 가능하다."
   ]
  },
  {
   "cell_type": "code",
   "execution_count": 25,
   "id": "1f1b8023",
   "metadata": {},
   "outputs": [
    {
     "name": "stdout",
     "output_type": "stream",
     "text": [
      "(1, 2, 3, 4, 5, 6)\n",
      "(1, 2, 3, 1, 2, 3, 1, 2, 3)\n"
     ]
    }
   ],
   "source": [
    "a = (1, 2, 3)\n",
    "print(a + (4, 5, 6))\n",
    "print(a * 3)"
   ]
  },
  {
   "cell_type": "markdown",
   "id": "6893f903",
   "metadata": {},
   "source": [
    "튜플을 만들 때 ()를 사용하지 않고 데이터를 ','로 구분해서 넣으면 튜플로 인식한다."
   ]
  },
  {
   "cell_type": "code",
   "execution_count": 27,
   "id": "ffa8692e",
   "metadata": {},
   "outputs": [
    {
     "name": "stdout",
     "output_type": "stream",
     "text": [
      "<class 'tuple'>\n",
      "(1, 2, 3, 4, 5)\n"
     ]
    }
   ],
   "source": [
    "a = 1, 2, 3, 4, 5\n",
    "print(type(a))\n",
    "print(a)"
   ]
  },
  {
   "cell_type": "markdown",
   "id": "1288537e",
   "metadata": {},
   "source": [
    "튜플은 리스트와 달리 데이터의 수정 및 삭제를 할 수 없으므로 에러가 발생된다."
   ]
  },
  {
   "cell_type": "code",
   "execution_count": 28,
   "id": "d5de7ae8",
   "metadata": {},
   "outputs": [
    {
     "ename": "TypeError",
     "evalue": "'tuple' object does not support item assignment",
     "output_type": "error",
     "traceback": [
      "\u001b[1;31m---------------------------------------------------------------------------\u001b[0m",
      "\u001b[1;31mTypeError\u001b[0m                                 Traceback (most recent call last)",
      "\u001b[1;32m<ipython-input-28-8a105ad2fb0d>\u001b[0m in \u001b[0;36m<module>\u001b[1;34m\u001b[0m\n\u001b[0;32m      1\u001b[0m \u001b[0ma\u001b[0m \u001b[1;33m=\u001b[0m \u001b[1;36m1\u001b[0m\u001b[1;33m,\u001b[0m \u001b[1;36m2\u001b[0m\u001b[1;33m,\u001b[0m \u001b[1;36m3\u001b[0m\u001b[1;33m,\u001b[0m \u001b[1;36m4\u001b[0m\u001b[1;33m,\u001b[0m \u001b[1;36m5\u001b[0m\u001b[1;33m\u001b[0m\u001b[1;33m\u001b[0m\u001b[0m\n\u001b[1;32m----> 2\u001b[1;33m \u001b[0ma\u001b[0m\u001b[1;33m[\u001b[0m\u001b[1;36m0\u001b[0m\u001b[1;33m]\u001b[0m \u001b[1;33m=\u001b[0m \u001b[1;36m999\u001b[0m\u001b[1;33m\u001b[0m\u001b[1;33m\u001b[0m\u001b[0m\n\u001b[0m",
      "\u001b[1;31mTypeError\u001b[0m: 'tuple' object does not support item assignment"
     ]
    }
   ],
   "source": [
    "a = 1, 2, 3, 4, 5\n",
    "a[0] = 999 # 수정 불가능"
   ]
  },
  {
   "cell_type": "code",
   "execution_count": 29,
   "id": "97c04bb8",
   "metadata": {},
   "outputs": [
    {
     "ename": "TypeError",
     "evalue": "'tuple' object doesn't support item deletion",
     "output_type": "error",
     "traceback": [
      "\u001b[1;31m---------------------------------------------------------------------------\u001b[0m",
      "\u001b[1;31mTypeError\u001b[0m                                 Traceback (most recent call last)",
      "\u001b[1;32m<ipython-input-29-630f1530494f>\u001b[0m in \u001b[0;36m<module>\u001b[1;34m\u001b[0m\n\u001b[0;32m      1\u001b[0m \u001b[0ma\u001b[0m \u001b[1;33m=\u001b[0m \u001b[1;36m1\u001b[0m\u001b[1;33m,\u001b[0m \u001b[1;36m2\u001b[0m\u001b[1;33m,\u001b[0m \u001b[1;36m3\u001b[0m\u001b[1;33m,\u001b[0m \u001b[1;36m4\u001b[0m\u001b[1;33m,\u001b[0m \u001b[1;36m5\u001b[0m\u001b[1;33m\u001b[0m\u001b[1;33m\u001b[0m\u001b[0m\n\u001b[1;32m----> 2\u001b[1;33m \u001b[1;32mdel\u001b[0m \u001b[0ma\u001b[0m\u001b[1;33m[\u001b[0m\u001b[1;36m0\u001b[0m\u001b[1;33m]\u001b[0m\u001b[1;33m\u001b[0m\u001b[1;33m\u001b[0m\u001b[0m\n\u001b[0m",
      "\u001b[1;31mTypeError\u001b[0m: 'tuple' object doesn't support item deletion"
     ]
    }
   ],
   "source": [
    "a = 1, 2, 3, 4, 5\n",
    "del a[0] # 삭제 불가능"
   ]
  },
  {
   "cell_type": "code",
   "execution_count": 30,
   "id": "263d5985",
   "metadata": {},
   "outputs": [
    {
     "name": "stdout",
     "output_type": "stream",
     "text": [
      "(1, 2, 3, 4, 5)\n"
     ]
    },
    {
     "ename": "NameError",
     "evalue": "name 'a' is not defined",
     "output_type": "error",
     "traceback": [
      "\u001b[1;31m---------------------------------------------------------------------------\u001b[0m",
      "\u001b[1;31mNameError\u001b[0m                                 Traceback (most recent call last)",
      "\u001b[1;32m<ipython-input-30-4fe77017ae7f>\u001b[0m in \u001b[0;36m<module>\u001b[1;34m\u001b[0m\n\u001b[0;32m      3\u001b[0m \u001b[0mprint\u001b[0m\u001b[1;33m(\u001b[0m\u001b[0ma\u001b[0m\u001b[1;33m)\u001b[0m\u001b[1;33m\u001b[0m\u001b[1;33m\u001b[0m\u001b[0m\n\u001b[0;32m      4\u001b[0m \u001b[1;32mdel\u001b[0m \u001b[0ma\u001b[0m\u001b[1;33m\u001b[0m\u001b[1;33m\u001b[0m\u001b[0m\n\u001b[1;32m----> 5\u001b[1;33m \u001b[0mprint\u001b[0m\u001b[1;33m(\u001b[0m\u001b[0ma\u001b[0m\u001b[1;33m)\u001b[0m\u001b[1;33m\u001b[0m\u001b[1;33m\u001b[0m\u001b[0m\n\u001b[0m",
      "\u001b[1;31mNameError\u001b[0m: name 'a' is not defined"
     ]
    }
   ],
   "source": [
    "# del 명령을 사용해서 튜플 자체를 삭제하는 것은 가능하다.\n",
    "a = 1, 2, 3, 4, 5\n",
    "print(a)\n",
    "del a\n",
    "print(a)"
   ]
  },
  {
   "cell_type": "code",
   "execution_count": null,
   "id": "570b0fa5",
   "metadata": {},
   "outputs": [],
   "source": []
  },
  {
   "cell_type": "code",
   "execution_count": null,
   "id": "b00440eb",
   "metadata": {},
   "outputs": [],
   "source": []
  },
  {
   "cell_type": "code",
   "execution_count": null,
   "id": "1f68ec0e",
   "metadata": {},
   "outputs": [],
   "source": []
  },
  {
   "cell_type": "code",
   "execution_count": null,
   "id": "3fbd688f",
   "metadata": {},
   "outputs": [],
   "source": []
  },
  {
   "cell_type": "code",
   "execution_count": null,
   "id": "9dd36a89",
   "metadata": {},
   "outputs": [],
   "source": []
  }
 ],
 "metadata": {
  "kernelspec": {
   "display_name": "Python 3",
   "language": "python",
   "name": "python3"
  },
  "language_info": {
   "codemirror_mode": {
    "name": "ipython",
    "version": 3
   },
   "file_extension": ".py",
   "mimetype": "text/x-python",
   "name": "python",
   "nbconvert_exporter": "python",
   "pygments_lexer": "ipython3",
   "version": "3.6.8"
  }
 },
 "nbformat": 4,
 "nbformat_minor": 5
}

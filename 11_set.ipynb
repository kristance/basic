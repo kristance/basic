{
 "cells": [
  {
   "cell_type": "markdown",
   "id": "8ad06a6f",
   "metadata": {},
   "source": [
    "set 만들기\n",
    "\n",
    "set은 수학의 집합과 비슷한 형태로 중복되는 데이터의 입력을 허용하지 않고, 입력하는 데이터의 순서와 실제로 저장되는 데이터의 순서가 달라서\n",
    "인덱싱과 슬라이싱을 사용할 수 없다.\n",
    "\n",
    "딕셔너리처럼 {}를 사용해서 데이터를 감싸주지만 key가 존재하지 않고 value만 존재한다."
   ]
  },
  {
   "cell_type": "code",
   "execution_count": 2,
   "id": "bdaece5c",
   "metadata": {},
   "outputs": [
    {
     "name": "stdout",
     "output_type": "stream",
     "text": [
      "<class 'dict'>\n",
      "<class 'set'>\n",
      "set()\n"
     ]
    }
   ],
   "source": [
    "# 빈 set 만들기\n",
    "a = {} # 빈 set은 {}를 사용해서 만들 수 없다. -> 딕셔너리로 인식한다.\n",
    "print(type(a))\n",
    "\n",
    "# 빈 set을 만들 때 {}만 사용하면 딕셔너리가 생성되기때문에 반드시 생성자 함수를 사용해서 만들어 사용한다.\n",
    "b = set();\n",
    "print(type(b))\n",
    "print(b)"
   ]
  },
  {
   "cell_type": "code",
   "execution_count": 4,
   "id": "6c9ef80b",
   "metadata": {},
   "outputs": [
    {
     "name": "stdout",
     "output_type": "stream",
     "text": [
      "<class 'set'>\n",
      "{1, 2, 3, 4}\n"
     ]
    }
   ],
   "source": [
    "# 초기치를 가지는 set\n",
    "a = {1, 2, 3, 4}\n",
    "print(type(a))\n",
    "print(a)"
   ]
  },
  {
   "cell_type": "code",
   "execution_count": 8,
   "id": "29a7c3f9",
   "metadata": {},
   "outputs": [
    {
     "name": "stdout",
     "output_type": "stream",
     "text": [
      "<class 'set'>\n",
      "{1, 2, 3, 4}\n",
      "--------------------\n",
      "<class 'set'>\n",
      "{1, 2, 3, 4}\n"
     ]
    },
    {
     "ename": "TypeError",
     "evalue": "set expected at most 1 arguments, got 4",
     "output_type": "error",
     "traceback": [
      "\u001b[1;31m---------------------------------------------------------------------------\u001b[0m",
      "\u001b[1;31mTypeError\u001b[0m                                 Traceback (most recent call last)",
      "\u001b[1;32m<ipython-input-8-2cdda0118c62>\u001b[0m in \u001b[0;36m<module>\u001b[1;34m\u001b[0m\n\u001b[0;32m      9\u001b[0m \u001b[0mprint\u001b[0m\u001b[1;33m(\u001b[0m\u001b[0mb\u001b[0m\u001b[1;33m)\u001b[0m\u001b[1;33m\u001b[0m\u001b[1;33m\u001b[0m\u001b[0m\n\u001b[0;32m     10\u001b[0m \u001b[1;33m\u001b[0m\u001b[0m\n\u001b[1;32m---> 11\u001b[1;33m \u001b[0mc\u001b[0m \u001b[1;33m=\u001b[0m \u001b[0mset\u001b[0m\u001b[1;33m(\u001b[0m\u001b[1;36m1\u001b[0m\u001b[1;33m,\u001b[0m \u001b[1;36m2\u001b[0m\u001b[1;33m,\u001b[0m \u001b[1;36m3\u001b[0m\u001b[1;33m,\u001b[0m \u001b[1;36m4\u001b[0m\u001b[1;33m)\u001b[0m\u001b[1;33m\u001b[0m\u001b[1;33m\u001b[0m\u001b[0m\n\u001b[0m\u001b[0;32m     12\u001b[0m \u001b[0mprint\u001b[0m\u001b[1;33m(\u001b[0m\u001b[0mtype\u001b[0m\u001b[1;33m(\u001b[0m\u001b[0mc\u001b[0m\u001b[1;33m)\u001b[0m\u001b[1;33m)\u001b[0m\u001b[1;33m\u001b[0m\u001b[1;33m\u001b[0m\u001b[0m\n\u001b[0;32m     13\u001b[0m \u001b[0mprint\u001b[0m\u001b[1;33m(\u001b[0m\u001b[0mc\u001b[0m\u001b[1;33m)\u001b[0m\u001b[1;33m\u001b[0m\u001b[1;33m\u001b[0m\u001b[0m\n",
      "\u001b[1;31mTypeError\u001b[0m: set expected at most 1 arguments, got 4"
     ]
    }
   ],
   "source": [
    "# 생성자 함수의 인수로 리스트나 튜플을 넘겨서 set을 만들수 있다.\n",
    "a = set([1, 2, 3, 4])\n",
    "print(type(a))\n",
    "print(a)\n",
    "print('-' * 20)\n",
    "\n",
    "b = set((1, 2, 3, 4))\n",
    "print(type(b))\n",
    "print(b)\n",
    "\n",
    "c = set(1, 2, 3, 4) # 에러, set의 생성자 함수로 튜플을 넘길때 반드시 ()를 사용해야 한다. \n"
   ]
  },
  {
   "cell_type": "code",
   "execution_count": 9,
   "id": "79a97e85",
   "metadata": {},
   "outputs": [
    {
     "name": "stdout",
     "output_type": "stream",
     "text": [
      "<class 'set'>\n",
      "{1, 2, 3, 5}\n"
     ]
    }
   ],
   "source": [
    "# set은 중복되는 데이터의 입력을 허용하지 않는다.\n",
    "a = {1, 5, 1, 2, 1, 1, 5, 2, 3}\n",
    "print(type(a))\n",
    "print(a)"
   ]
  },
  {
   "cell_type": "code",
   "execution_count": 16,
   "id": "672f5757",
   "metadata": {},
   "outputs": [
    {
     "name": "stdout",
     "output_type": "stream",
     "text": [
      "set()\n",
      "{'뽀로로'}\n",
      "{'뽀로로', '루피'}\n",
      "{'뽀로로', '골드런', '루피'}\n",
      "{'뽀로로', '마젤란', '골드런', '루피'}\n"
     ]
    }
   ],
   "source": [
    "# add() 메소드로 데이터를 1개씩 추가할 수 있다.\n",
    "a = set()\n",
    "print(a)\n",
    "a.add('뽀로로')\n",
    "print(a)\n",
    "a.add('루피')\n",
    "print(a)\n",
    "a.add('골드런')\n",
    "print(a)\n",
    "a.add('마젤란')\n",
    "print(a)\n"
   ]
  },
  {
   "cell_type": "code",
   "execution_count": 24,
   "id": "9480c8c4",
   "metadata": {},
   "outputs": [
    {
     "name": "stdout",
     "output_type": "stream",
     "text": [
      "{'홍길동', '로우', '뽀로로', '마젤란'}\n",
      "--------------------------------------------------------------------------------\n",
      "['손오공', '저팔계', '사오정', '삼장법사']\n",
      "{'저팔계', '손오공', '로우', '마젤란', '삼장법사', '뽀로로', '사오정', '홍길동'}\n",
      "--------------------------------------------------------------------------------\n",
      "('괴물', '기생충', '설국열차', '헝거게임')\n",
      "{'저팔계', '손오공', '설국열차', '로우', '괴물', '마젤란', '삼장법사', '뽀로로', '사오정', '기생충', '홍길동', '헝거게임'}\n"
     ]
    }
   ],
   "source": [
    "# update() 메소드로 리스트나 튜플에 저장된 데이터를 set에 일괄적으로 추가할 수 있다.\n",
    "a = {'뽀로로', '홍길동', '마젤란', '로우'}\n",
    "print(a)\n",
    "print('-' * 80)\n",
    "\n",
    "b = ['손오공', '저팔계', '사오정', '삼장법사']\n",
    "print(b)\n",
    "a.update(b)\n",
    "print(a)\n",
    "print('-' * 80)\n",
    "\n",
    "c = ('괴물', '기생충', '설국열차', '헝거게임')\n",
    "print(c)\n",
    "a.update(c)\n",
    "print(a)"
   ]
  },
  {
   "cell_type": "code",
   "execution_count": 27,
   "id": "2186c794",
   "metadata": {},
   "outputs": [
    {
     "name": "stdout",
     "output_type": "stream",
     "text": [
      "{'홍길동', '로우', '뽀로로', '마젤란'}\n",
      "{'홍길동', '뽀로로', '마젤란'}\n"
     ]
    },
    {
     "ename": "KeyError",
     "evalue": "'로우'",
     "output_type": "error",
     "traceback": [
      "\u001b[1;31m---------------------------------------------------------------------------\u001b[0m",
      "\u001b[1;31mKeyError\u001b[0m                                  Traceback (most recent call last)",
      "\u001b[1;32m<ipython-input-27-58e47abb5551>\u001b[0m in \u001b[0;36m<module>\u001b[1;34m\u001b[0m\n\u001b[0;32m      5\u001b[0m \u001b[0ma\u001b[0m\u001b[1;33m.\u001b[0m\u001b[0mremove\u001b[0m\u001b[1;33m(\u001b[0m\u001b[1;34m'로우'\u001b[0m\u001b[1;33m)\u001b[0m\u001b[1;33m\u001b[0m\u001b[1;33m\u001b[0m\u001b[0m\n\u001b[0;32m      6\u001b[0m \u001b[0mprint\u001b[0m\u001b[1;33m(\u001b[0m\u001b[0ma\u001b[0m\u001b[1;33m)\u001b[0m\u001b[1;33m\u001b[0m\u001b[1;33m\u001b[0m\u001b[0m\n\u001b[1;32m----> 7\u001b[1;33m \u001b[0ma\u001b[0m\u001b[1;33m.\u001b[0m\u001b[0mremove\u001b[0m\u001b[1;33m(\u001b[0m\u001b[1;34m'로우'\u001b[0m\u001b[1;33m)\u001b[0m\u001b[1;33m\u001b[0m\u001b[1;33m\u001b[0m\u001b[0m\n\u001b[0m\u001b[0;32m      8\u001b[0m \u001b[0mprint\u001b[0m\u001b[1;33m(\u001b[0m\u001b[0ma\u001b[0m\u001b[1;33m)\u001b[0m\u001b[1;33m\u001b[0m\u001b[1;33m\u001b[0m\u001b[0m\n",
      "\u001b[1;31mKeyError\u001b[0m: '로우'"
     ]
    }
   ],
   "source": [
    "# remove() 메소드로 인수로 지정한 데이터를 set에서 제거할 수 있다.\n",
    "a = {'뽀로로', '홍길동', '마젤란', '로우'}\n",
    "print(a)\n",
    "\n",
    "a.remove('로우')\n",
    "print(a)\n",
    "a.remove('로우') # set에 존재하지 않는 데이터를 삭제하려했으므로 에로가 발생된다.\n",
    "print(a)"
   ]
  },
  {
   "cell_type": "code",
   "execution_count": 28,
   "id": "dc97b1af",
   "metadata": {},
   "outputs": [
    {
     "name": "stdout",
     "output_type": "stream",
     "text": [
      "{'홍길동', '로우', '뽀로로', '마젤란'}\n",
      "{'홍길동', '뽀로로', '마젤란'}\n",
      "{'홍길동', '뽀로로', '마젤란'}\n"
     ]
    }
   ],
   "source": [
    "# discard() 메소드로 인수로 지정한 데이터를 set에서 제거할 수 있다.\n",
    "a = {'뽀로로', '홍길동', '마젤란', '로우'}\n",
    "print(a)\n",
    "\n",
    "a.discard('로우')\n",
    "print(a)\n",
    "a.discard('로우') # set에 존재하지 않는 데이터를 삭제하려하면 메소드가 무시된다.\n",
    "print(a)"
   ]
  },
  {
   "cell_type": "code",
   "execution_count": 30,
   "id": "39581ddb",
   "metadata": {},
   "outputs": [
    {
     "name": "stdout",
     "output_type": "stream",
     "text": [
      "{'홍길동', '로우', '뽀로로', '마젤란'}\n",
      "set()\n"
     ]
    },
    {
     "ename": "NameError",
     "evalue": "name 'a' is not defined",
     "output_type": "error",
     "traceback": [
      "\u001b[1;31m---------------------------------------------------------------------------\u001b[0m",
      "\u001b[1;31mNameError\u001b[0m                                 Traceback (most recent call last)",
      "\u001b[1;32m<ipython-input-30-ec0930266e37>\u001b[0m in \u001b[0;36m<module>\u001b[1;34m\u001b[0m\n\u001b[0;32m      8\u001b[0m \u001b[1;31m# del 명령을 사용해서 set 자체를 메모리에서 제거할 수 있다.\u001b[0m\u001b[1;33m\u001b[0m\u001b[1;33m\u001b[0m\u001b[1;33m\u001b[0m\u001b[0m\n\u001b[0;32m      9\u001b[0m \u001b[1;32mdel\u001b[0m \u001b[0ma\u001b[0m\u001b[1;33m\u001b[0m\u001b[1;33m\u001b[0m\u001b[0m\n\u001b[1;32m---> 10\u001b[1;33m \u001b[0mprint\u001b[0m\u001b[1;33m(\u001b[0m\u001b[0ma\u001b[0m\u001b[1;33m)\u001b[0m\u001b[1;33m\u001b[0m\u001b[1;33m\u001b[0m\u001b[0m\n\u001b[0m",
      "\u001b[1;31mNameError\u001b[0m: name 'a' is not defined"
     ]
    }
   ],
   "source": [
    "# clear() 메소드로 set에 저장된 모든 데이터를 제거할 수 있다.\n",
    "a = {'뽀로로', '홍길동', '마젤란', '로우'}\n",
    "print(a)\n",
    "\n",
    "a.clear()\n",
    "print(a)\n",
    "\n",
    "# del 명령을 사용해서 set 자체를 메모리에서 제거할 수 있다.\n",
    "del a\n",
    "print(a)"
   ]
  },
  {
   "cell_type": "markdown",
   "id": "a939e935",
   "metadata": {},
   "source": [
    "집합 연산"
   ]
  },
  {
   "cell_type": "code",
   "execution_count": 38,
   "id": "824ab828",
   "metadata": {},
   "outputs": [
    {
     "name": "stdout",
     "output_type": "stream",
     "text": [
      "{1, 2, 3, 4, 5, 6, 7, 8}\n",
      "{1, 2, 3, 4, 5, 6, 7, 8}\n",
      "{4, 5}\n",
      "{4, 5}\n",
      "{1, 2, 3}\n",
      "{1, 2, 3}\n",
      "{8, 6, 7}\n",
      "{8, 6, 7}\n",
      "{1, 2, 3, 6, 7, 8}\n",
      "{1, 2, 3, 6, 7, 8}\n"
     ]
    }
   ],
   "source": [
    "a = {1, 2, 3, 4, 5}\n",
    "b = {4, 5, 6, 7, 8}\n",
    "\n",
    "# 합집합 -> union(), | \n",
    "print(a.union(b))\n",
    "print(a | b)\n",
    "\n",
    "# 교집합 -> intersection(), &\n",
    "print(a.intersection(b))\n",
    "print(a & b)\n",
    "\n",
    "# 차집합 -> difference(), -\n",
    "print(a.difference(b))\n",
    "print(a - b)\n",
    "print(b.difference(a))\n",
    "print(b - a)\n",
    "\n",
    "# 대칭 차집합 -> 합집합 - 교집합 -> symmetric_difference(), ^\n",
    "print(a.symmetric_difference(b))\n",
    "print(a ^ b)"
   ]
  },
  {
   "cell_type": "code",
   "execution_count": null,
   "id": "54d939f8",
   "metadata": {},
   "outputs": [],
   "source": []
  },
  {
   "cell_type": "code",
   "execution_count": null,
   "id": "b60dd166",
   "metadata": {},
   "outputs": [],
   "source": []
  },
  {
   "cell_type": "code",
   "execution_count": null,
   "id": "79013f11",
   "metadata": {},
   "outputs": [],
   "source": []
  },
  {
   "cell_type": "code",
   "execution_count": null,
   "id": "4255c577",
   "metadata": {},
   "outputs": [],
   "source": []
  },
  {
   "cell_type": "code",
   "execution_count": null,
   "id": "df0bfb81",
   "metadata": {},
   "outputs": [],
   "source": []
  },
  {
   "cell_type": "code",
   "execution_count": null,
   "id": "a4fa7fa9",
   "metadata": {},
   "outputs": [],
   "source": []
  },
  {
   "cell_type": "code",
   "execution_count": null,
   "id": "7ae22cb0",
   "metadata": {},
   "outputs": [],
   "source": []
  },
  {
   "cell_type": "code",
   "execution_count": null,
   "id": "1d57eeb9",
   "metadata": {},
   "outputs": [],
   "source": []
  },
  {
   "cell_type": "code",
   "execution_count": null,
   "id": "be344bb6",
   "metadata": {},
   "outputs": [],
   "source": []
  },
  {
   "cell_type": "code",
   "execution_count": null,
   "id": "1cca6c3f",
   "metadata": {},
   "outputs": [],
   "source": []
  },
  {
   "cell_type": "code",
   "execution_count": null,
   "id": "0275392d",
   "metadata": {},
   "outputs": [],
   "source": []
  },
  {
   "cell_type": "code",
   "execution_count": null,
   "id": "a3469b2d",
   "metadata": {},
   "outputs": [],
   "source": []
  },
  {
   "cell_type": "code",
   "execution_count": null,
   "id": "44c061cb",
   "metadata": {},
   "outputs": [],
   "source": []
  },
  {
   "cell_type": "code",
   "execution_count": null,
   "id": "6fa8c7e2",
   "metadata": {},
   "outputs": [],
   "source": []
  },
  {
   "cell_type": "code",
   "execution_count": null,
   "id": "0e99eef7",
   "metadata": {},
   "outputs": [],
   "source": []
  },
  {
   "cell_type": "code",
   "execution_count": null,
   "id": "2a2c987d",
   "metadata": {},
   "outputs": [],
   "source": []
  },
  {
   "cell_type": "code",
   "execution_count": null,
   "id": "1a533ead",
   "metadata": {},
   "outputs": [],
   "source": []
  },
  {
   "cell_type": "code",
   "execution_count": null,
   "id": "fb7d9123",
   "metadata": {},
   "outputs": [],
   "source": []
  }
 ],
 "metadata": {
  "kernelspec": {
   "display_name": "Python 3",
   "language": "python",
   "name": "python3"
  },
  "language_info": {
   "codemirror_mode": {
    "name": "ipython",
    "version": 3
   },
   "file_extension": ".py",
   "mimetype": "text/x-python",
   "name": "python",
   "nbconvert_exporter": "python",
   "pygments_lexer": "ipython3",
   "version": "3.6.8"
  }
 },
 "nbformat": 4,
 "nbformat_minor": 5
}

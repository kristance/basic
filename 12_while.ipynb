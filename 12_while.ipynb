{
 "cells": [
  {
   "cell_type": "markdown",
   "id": "4fba08cb",
   "metadata": {},
   "source": [
    "while  \n",
    "  \n",
    "while은 조건이 참인동안 반복하고 조건이 거짓이 되는 순간 반복을 종료한다.  \n",
    "while의 최초 진입 조건이 거짓일 경우 while 블록을 한 번도 실행하지 않는다.  \n",
    "while은 반복을 하기는 해야하는데 몇 번 반복해야하는지 모를 때 사용하고,  \n",
    "for는 반복횟수를 알고 있을 때 사용한다.\n",
    "***\n",
    "while 조건식 :  \n",
    "&nbsp;&nbsp;&nbsp;&nbsp;조건식이 참일 경우 실행할 문장  \n",
    "&nbsp;&nbsp;&nbsp;&nbsp;...  \n"
   ]
  },
  {
   "cell_type": "code",
   "execution_count": 1,
   "id": "32403f19",
   "metadata": {},
   "outputs": [
    {
     "name": "stdout",
     "output_type": "stream",
     "text": [
      "55\n"
     ]
    }
   ],
   "source": [
    "# 1 ~ 10의 합계\n",
    "# 파이썬은 변수 선언시 반드시 초기화 시켜야 한다.\n",
    "i = 0 # 1  ~ 10까지 증가할 변수\n",
    "total = 0 # 1 ~ 10까지 합계를 기억할 변수\n",
    "while i < 10 :\n",
    "    i += 1\n",
    "    total += i\n",
    "# ------------- while\n",
    "print(total)\n",
    "\n",
    "\n"
   ]
  },
  {
   "cell_type": "code",
   "execution_count": 2,
   "id": "88d8ffbb",
   "metadata": {},
   "outputs": [
    {
     "name": "stdout",
     "output_type": "stream",
     "text": [
      "55\n"
     ]
    }
   ],
   "source": [
    "i = 0\n",
    "total = 0\n",
    "# 의도적으로 무한 루프를 발생시키려면 조건을 항상 참이되도록 하면된다.\n",
    "# 의도적으로 발생시킨 무한 루프는 반드시 break를 이용해서 무한 루프를 탈출시키는 처리를 해야한다.\n",
    "while True :\n",
    "    i += 1\n",
    "    total += i\n",
    "    if i == 10 :\n",
    "        break\n",
    "    # ---------- if\n",
    "# -------------- while\n",
    "print(total)"
   ]
  },
  {
   "cell_type": "code",
   "execution_count": 3,
   "id": "304fe7ea",
   "metadata": {},
   "outputs": [
    {
     "name": "stdout",
     "output_type": "stream",
     "text": [
      "25\n"
     ]
    }
   ],
   "source": [
    "# break 명령은 반복 범위에 남아있는 문장을 실행하지 않고 반복을 탈출하고,\n",
    "# continue 명령은 반복 범위에 남아있는 문장들을 실행하지 않고 다음 반복을 실행한다.\n",
    "i = 0\n",
    "total = 0\n",
    "\n",
    "while i < 10 :\n",
    "    i += 1\n",
    "    \n",
    "    if i % 2 == 0 :\n",
    "        continue\n",
    "    # ---------- if     \n",
    "    total += i\n",
    "# -------------- while\n",
    "print(total)"
   ]
  },
  {
   "cell_type": "code",
   "execution_count": 9,
   "id": "c28d7028",
   "metadata": {},
   "outputs": [
    {
     "name": "stdout",
     "output_type": "stream",
     "text": [
      "==================================================\n",
      "1.입력  2.보기  3.수정  4.삭제  5.종료\n",
      "==================================================\n",
      "원하는 메뉴를 입력하고 Enter 키 누르세요.7\n",
      "메뉴는 1 - 5 사이의 값만 입력해야합니다.\n",
      "==================================================\n",
      "1.입력  2.보기  3.수정  4.삭제  5.종료\n",
      "==================================================\n",
      "원하는 메뉴를 입력하고 Enter 키 누르세요.2\n"
     ]
    }
   ],
   "source": [
    "menu = 0\n",
    "while menu != 5 :\n",
    "    while True :\n",
    "        print('=' * 50)\n",
    "        print('1.입력  2.보기  3.수정  4.삭제  5.종료')\n",
    "        print('=' * 50)\n",
    "        menu = int(input('원하는 메뉴를 입력하고 Enter 키 누르세요.'))\n",
    "\n",
    "        # 메뉴가 1 - 5 사이의 값이 입력되었다면 무한 루프를 탈출시킨다.\n",
    "        if 1 <= menu <= 5 :\n",
    "            break\n",
    "        else : \n",
    "            print('메뉴는 1 - 5 사이의 값만 입력해야합니다.')\n",
    "        # -------- if\n",
    "    # ------------ while\n",
    "\n",
    "    # 여기까지 넘어왔다면 menu에는 1 - 5 사이의 정수가 입력된 것이다.\n",
    "    if menu == 1 :\n",
    "        print('입력 작업')\n",
    "    elif menu == 2 :\n",
    "        print('보기 작업')\n",
    "    elif menu == 3 :\n",
    "        print('수정 작업')\n",
    "    elif menu == 4 :\n",
    "        print('삭제 작업')\n",
    "    # --------------if\n",
    "# ------------------ while menu !> 5\n",
    "print('프로그램 종료합니다. ###')"
   ]
  },
  {
   "cell_type": "code",
   "execution_count": null,
   "id": "7aeb867b",
   "metadata": {},
   "outputs": [],
   "source": []
  },
  {
   "cell_type": "code",
   "execution_count": 27,
   "id": "6ee9ca0c",
   "metadata": {},
   "outputs": [
    {
     "name": "stdout",
     "output_type": "stream",
     "text": [
      "[44]\n",
      "[44, 26]\n",
      "[44, 26, 19]\n",
      "[44, 26, 19, 37]\n",
      "[44, 26, 19, 37, 45]\n",
      "[44, 26, 19, 37, 45, 33]\n"
     ]
    },
    {
     "ename": "AttributeError",
     "evalue": "'list' object has no attribute 'rindex'",
     "output_type": "error",
     "traceback": [
      "\u001b[1;31m---------------------------------------------------------------------------\u001b[0m",
      "\u001b[1;31mAttributeError\u001b[0m                            Traceback (most recent call last)",
      "\u001b[1;32m<ipython-input-27-ff04c7eb0b5b>\u001b[0m in \u001b[0;36m<module>\u001b[1;34m\u001b[0m\n\u001b[0;32m      6\u001b[0m     \u001b[0ma\u001b[0m\u001b[1;33m.\u001b[0m\u001b[0mappend\u001b[0m\u001b[1;33m(\u001b[0m\u001b[0mrandom\u001b[0m\u001b[1;33m.\u001b[0m\u001b[0mrandint\u001b[0m\u001b[1;33m(\u001b[0m\u001b[1;36m1\u001b[0m\u001b[1;33m,\u001b[0m \u001b[1;36m45\u001b[0m\u001b[1;33m)\u001b[0m\u001b[1;33m)\u001b[0m\u001b[1;33m\u001b[0m\u001b[1;33m\u001b[0m\u001b[0m\n\u001b[0;32m      7\u001b[0m     \u001b[1;32mif\u001b[0m \u001b[0mlen\u001b[0m\u001b[1;33m(\u001b[0m\u001b[0ma\u001b[0m\u001b[1;33m)\u001b[0m \u001b[1;33m==\u001b[0m \u001b[1;36m7\u001b[0m \u001b[1;33m:\u001b[0m\u001b[1;33m\u001b[0m\u001b[1;33m\u001b[0m\u001b[0m\n\u001b[1;32m----> 8\u001b[1;33m         \u001b[1;32mwhile\u001b[0m \u001b[0ma\u001b[0m\u001b[1;33m.\u001b[0m\u001b[0mindex\u001b[0m\u001b[1;33m(\u001b[0m\u001b[0ma\u001b[0m\u001b[1;33m[\u001b[0m\u001b[1;36m0\u001b[0m\u001b[1;33m]\u001b[0m\u001b[1;33m)\u001b[0m \u001b[1;33m!=\u001b[0m \u001b[0ma\u001b[0m\u001b[1;33m.\u001b[0m\u001b[0mrindex\u001b[0m\u001b[1;33m(\u001b[0m\u001b[0ma\u001b[0m\u001b[1;33m[\u001b[0m\u001b[1;36m0\u001b[0m\u001b[1;33m]\u001b[0m\u001b[1;33m)\u001b[0m\u001b[1;33m:\u001b[0m\u001b[1;33m\u001b[0m\u001b[1;33m\u001b[0m\u001b[0m\n\u001b[0m\u001b[0;32m      9\u001b[0m             \u001b[1;32mbreak\u001b[0m\u001b[1;33m\u001b[0m\u001b[1;33m\u001b[0m\u001b[0m\n\u001b[0;32m     10\u001b[0m         \u001b[1;31m#-------------------- while a.index\u001b[0m\u001b[1;33m\u001b[0m\u001b[1;33m\u001b[0m\u001b[1;33m\u001b[0m\u001b[0m\n",
      "\u001b[1;31mAttributeError\u001b[0m: 'list' object has no attribute 'rindex'"
     ]
    }
   ],
   "source": []
  },
  {
   "cell_type": "code",
   "execution_count": null,
   "id": "b6505c68",
   "metadata": {},
   "outputs": [],
   "source": []
  },
  {
   "cell_type": "code",
   "execution_count": null,
   "id": "c3c64e6d",
   "metadata": {},
   "outputs": [],
   "source": []
  },
  {
   "cell_type": "code",
   "execution_count": null,
   "id": "bb93f01d",
   "metadata": {},
   "outputs": [],
   "source": []
  },
  {
   "cell_type": "code",
   "execution_count": null,
   "id": "a3ac2d44",
   "metadata": {},
   "outputs": [],
   "source": []
  },
  {
   "cell_type": "code",
   "execution_count": null,
   "id": "700680bf",
   "metadata": {},
   "outputs": [],
   "source": []
  },
  {
   "cell_type": "code",
   "execution_count": null,
   "id": "a0b1225f",
   "metadata": {},
   "outputs": [],
   "source": []
  },
  {
   "cell_type": "code",
   "execution_count": null,
   "id": "4bca2f9b",
   "metadata": {},
   "outputs": [],
   "source": []
  },
  {
   "cell_type": "code",
   "execution_count": null,
   "id": "9ebc53d2",
   "metadata": {},
   "outputs": [],
   "source": []
  },
  {
   "cell_type": "code",
   "execution_count": null,
   "id": "f238e21b",
   "metadata": {},
   "outputs": [],
   "source": []
  },
  {
   "cell_type": "code",
   "execution_count": null,
   "id": "630579d7",
   "metadata": {},
   "outputs": [],
   "source": []
  },
  {
   "cell_type": "code",
   "execution_count": null,
   "id": "bcdf1143",
   "metadata": {},
   "outputs": [],
   "source": []
  },
  {
   "cell_type": "code",
   "execution_count": null,
   "id": "b92bd0e8",
   "metadata": {},
   "outputs": [],
   "source": []
  },
  {
   "cell_type": "code",
   "execution_count": null,
   "id": "171a3861",
   "metadata": {},
   "outputs": [],
   "source": []
  },
  {
   "cell_type": "code",
   "execution_count": null,
   "id": "d79ad5b2",
   "metadata": {},
   "outputs": [],
   "source": []
  },
  {
   "cell_type": "code",
   "execution_count": null,
   "id": "1374e308",
   "metadata": {},
   "outputs": [],
   "source": []
  },
  {
   "cell_type": "code",
   "execution_count": null,
   "id": "fd096e9f",
   "metadata": {},
   "outputs": [],
   "source": []
  },
  {
   "cell_type": "code",
   "execution_count": null,
   "id": "8760c022",
   "metadata": {},
   "outputs": [],
   "source": []
  },
  {
   "cell_type": "code",
   "execution_count": null,
   "id": "8e5940e5",
   "metadata": {},
   "outputs": [],
   "source": []
  },
  {
   "cell_type": "code",
   "execution_count": null,
   "id": "fd46123b",
   "metadata": {},
   "outputs": [],
   "source": []
  },
  {
   "cell_type": "code",
   "execution_count": null,
   "id": "892a50f0",
   "metadata": {},
   "outputs": [],
   "source": []
  },
  {
   "cell_type": "code",
   "execution_count": null,
   "id": "0aa8dda3",
   "metadata": {},
   "outputs": [],
   "source": []
  },
  {
   "cell_type": "code",
   "execution_count": null,
   "id": "df2150a6",
   "metadata": {},
   "outputs": [],
   "source": []
  },
  {
   "cell_type": "code",
   "execution_count": null,
   "id": "ecf14a0c",
   "metadata": {},
   "outputs": [],
   "source": []
  },
  {
   "cell_type": "code",
   "execution_count": null,
   "id": "5508664e",
   "metadata": {},
   "outputs": [],
   "source": []
  },
  {
   "cell_type": "code",
   "execution_count": null,
   "id": "01fb762f",
   "metadata": {},
   "outputs": [],
   "source": []
  }
 ],
 "metadata": {
  "kernelspec": {
   "display_name": "Python 3",
   "language": "python",
   "name": "python3"
  },
  "language_info": {
   "codemirror_mode": {
    "name": "ipython",
    "version": 3
   },
   "file_extension": ".py",
   "mimetype": "text/x-python",
   "name": "python",
   "nbconvert_exporter": "python",
   "pygments_lexer": "ipython3",
   "version": "3.6.8"
  }
 },
 "nbformat": 4,
 "nbformat_minor": 5
}

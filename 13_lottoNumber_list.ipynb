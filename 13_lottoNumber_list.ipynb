{
 "cells": [
  {
   "cell_type": "code",
   "execution_count": 1,
   "id": "a7cb800e",
   "metadata": {},
   "outputs": [],
   "source": [
    "import random"
   ]
  },
  {
   "cell_type": "code",
   "execution_count": 2,
   "id": "09951ad3",
   "metadata": {},
   "outputs": [
    {
     "name": "stdout",
     "output_type": "stream",
     "text": [
      "1등 번호 : [8, 19, 33, 40, 42, 43]\n",
      "1등 번호 : [8, 19, 33, 40, 42, 43], 보너스 번호는 : 31\n"
     ]
    }
   ],
   "source": [
    "# 로또 1등 번호를 기억할 빈 리스트를 만든다.\n",
    "lotto = []\n",
    "\n",
    "# 1등 번호\n",
    "# 중복되는 번호가 나올 수 있기때문에 난수 발생시키는 작업을 몇 번 반복해야 하는지 알 수 없으므로\n",
    "# while 반복을 무한 루프를 돌려서 처리한다.\n",
    "while True :\n",
    "    # 1 - 45 사이의 난수를 정수로 발생시킨다.\n",
    "    number = random.randint(1, 45)\n",
    "    # print(number)\n",
    "    # 리스트에 중복되는 번호가 없다면 발생된 난수를 리스트에 추가한다.\n",
    "    if number not in lotto :\n",
    "        lotto.append(number)\n",
    "    # --------------- if    \n",
    "    # 리스트에 중복되지 않은 숫자가 6개 저장되면 무한 루프를 탈출한다.\n",
    "    if len(lotto) == 6 :\n",
    "        break\n",
    "    # --------------------if    \n",
    "# ------------- while True\n",
    "\n",
    "lotto.sort()\n",
    "print('1등 번호 : {}'.format(lotto))\n",
    "\n",
    "# 보너스 번호\n",
    "\n",
    "while True :\n",
    "    bonus = random.randint(1, 45)\n",
    "    #print(bonus)\n",
    "    if bonus not in lotto : \n",
    "        break;\n",
    "    # ------------- if\n",
    "#------ while True\n",
    "print('1등 번호 : {}, 보너스 번호는 : {}'.format(lotto, bonus))"
   ]
  },
  {
   "cell_type": "code",
   "execution_count": 3,
   "id": "992cfeee",
   "metadata": {},
   "outputs": [],
   "source": [
    "import time # sleep() 메소드를 사용하기 위해 import 한다."
   ]
  },
  {
   "cell_type": "code",
   "execution_count": 8,
   "id": "5afead73",
   "metadata": {},
   "outputs": [
    {
     "name": "stdout",
     "output_type": "stream",
     "text": [
      "1등 번호 : 08 19 33 40 42 43 보너스 번호 : 31\n"
     ]
    }
   ],
   "source": [
    "i = 0\n",
    "print('1등 번호 : ', end='')\n",
    "while i < 6 :\n",
    "    # time 모듈의 sleep() 메소드를 사용하면 지정한 시간만큼 프로그램을 멈출 수 있다.\n",
    "    # sleep() 메소드는 시간을 초 단위로 지정한다.\n",
    "    time.sleep(1)\n",
    "    # print('%02d' % lotto[i], end=' ')\n",
    "    print('{:02d}'.format(lotto[i]), end=' ')\n",
    "    i += 1\n",
    "# ------- while_1\n",
    "time.sleep(1)\n",
    "print('보너스 번호 : {:02d}'.format(bonus))"
   ]
  },
  {
   "cell_type": "code",
   "execution_count": null,
   "id": "301c108f",
   "metadata": {},
   "outputs": [],
   "source": []
  },
  {
   "cell_type": "code",
   "execution_count": null,
   "id": "ac96fd0e",
   "metadata": {},
   "outputs": [],
   "source": []
  },
  {
   "cell_type": "code",
   "execution_count": null,
   "id": "d5223849",
   "metadata": {},
   "outputs": [],
   "source": []
  },
  {
   "cell_type": "code",
   "execution_count": null,
   "id": "8d202d77",
   "metadata": {},
   "outputs": [],
   "source": []
  },
  {
   "cell_type": "code",
   "execution_count": null,
   "id": "67d865cc",
   "metadata": {},
   "outputs": [],
   "source": []
  },
  {
   "cell_type": "code",
   "execution_count": null,
   "id": "608e90b0",
   "metadata": {},
   "outputs": [],
   "source": []
  },
  {
   "cell_type": "code",
   "execution_count": null,
   "id": "16c13bab",
   "metadata": {},
   "outputs": [],
   "source": []
  },
  {
   "cell_type": "code",
   "execution_count": null,
   "id": "049a3980",
   "metadata": {},
   "outputs": [],
   "source": []
  },
  {
   "cell_type": "code",
   "execution_count": null,
   "id": "b596328f",
   "metadata": {},
   "outputs": [],
   "source": []
  }
 ],
 "metadata": {
  "kernelspec": {
   "display_name": "Python 3",
   "language": "python",
   "name": "python3"
  },
  "language_info": {
   "codemirror_mode": {
    "name": "ipython",
    "version": 3
   },
   "file_extension": ".py",
   "mimetype": "text/x-python",
   "name": "python",
   "nbconvert_exporter": "python",
   "pygments_lexer": "ipython3",
   "version": "3.6.8"
  }
 },
 "nbformat": 4,
 "nbformat_minor": 5
}

{
 "cells": [
  {
   "cell_type": "code",
   "execution_count": 2,
   "id": "c3d4136b",
   "metadata": {},
   "outputs": [],
   "source": [
    "import random"
   ]
  },
  {
   "cell_type": "code",
   "execution_count": 65,
   "id": "f46ec11b",
   "metadata": {},
   "outputs": [
    {
     "name": "stdout",
     "output_type": "stream",
     "text": [
      "1등 번호 : {34, 7, 42, 44, 26, 28}\n",
      "1등 번호 : {34, 7, 42, 44, 26, 28}, 보너스 번호는 : 8\n"
     ]
    }
   ],
   "source": [
    "# 로또 1등 번호를 기억할 빈 set을 만든다.\n",
    "lotto = set()\n",
    "\n",
    "# 1등 번호\n",
    "# 중복되는 번호가 나올 수 있기때문에 난수 발생시키는 작업을 몇 번 반복해야 하는지 알 수 없으므로\n",
    "# while 반복을 무한 루프를 돌려서 처리한다.\n",
    "while True :\n",
    "    # 1 - 45 사이의 난수를 정수로 발생시킨다.\n",
    "    number = random.randrange(1, 46)\n",
    "    # print(number)\n",
    "    # 리스트에 중복되는 번호가 없다면 발생된 난수를 리스트에 추가한다.\n",
    "    '''\n",
    "    if number not in lotto :\n",
    "        lotto.append(number)\n",
    "    # --------------- if\n",
    "    '''\n",
    "    # 리스트는 중복을 확인하는 if가 필요했지만 set은 중복 데이터를 허용하지 않기때문에\n",
    "    # 중복을 확인하는 if가 필요없다.\n",
    "    lotto.add(number)    \n",
    "    # 리스트에 중복되지 않은 숫자가 6개 저장되면 무한 루프를 탈출한다.\n",
    "    if len(lotto) == 6 :\n",
    "        break\n",
    "    # --------------------if    \n",
    "# ------------- while True\n",
    "\n",
    "# set은 입력 순서와 저장 순서가 다르기 때문에 sort() 메소드를 지원하지 않는다.\n",
    "# lotto.sort()\n",
    "print('1등 번호 : {}'.format(lotto))\n",
    "\n",
    "# 보너스 번호\n",
    "\n",
    "while True :\n",
    "    bonus = random.randrange(1, 46)\n",
    "    #print(bonus)\n",
    "    if bonus not in lotto : \n",
    "        break;\n",
    "    # ------------- if\n",
    "#------ while True\n",
    "print('1등 번호 : {}, 보너스 번호는 : {}'.format(lotto, bonus))"
   ]
  },
  {
   "cell_type": "code",
   "execution_count": null,
   "id": "8a7b3c5d",
   "metadata": {},
   "outputs": [],
   "source": []
  },
  {
   "cell_type": "code",
   "execution_count": null,
   "id": "343e73d1",
   "metadata": {},
   "outputs": [],
   "source": []
  },
  {
   "cell_type": "code",
   "execution_count": null,
   "id": "79f1b5bb",
   "metadata": {},
   "outputs": [],
   "source": []
  },
  {
   "cell_type": "code",
   "execution_count": null,
   "id": "2dd23eeb",
   "metadata": {},
   "outputs": [],
   "source": []
  },
  {
   "cell_type": "code",
   "execution_count": null,
   "id": "9594e182",
   "metadata": {},
   "outputs": [],
   "source": []
  },
  {
   "cell_type": "code",
   "execution_count": null,
   "id": "f7a3b2ae",
   "metadata": {},
   "outputs": [],
   "source": []
  },
  {
   "cell_type": "code",
   "execution_count": null,
   "id": "6f469aa6",
   "metadata": {},
   "outputs": [],
   "source": []
  },
  {
   "cell_type": "code",
   "execution_count": null,
   "id": "2e618fc8",
   "metadata": {},
   "outputs": [],
   "source": []
  },
  {
   "cell_type": "code",
   "execution_count": null,
   "id": "a00acae2",
   "metadata": {},
   "outputs": [],
   "source": []
  },
  {
   "cell_type": "code",
   "execution_count": null,
   "id": "126b710d",
   "metadata": {},
   "outputs": [],
   "source": []
  },
  {
   "cell_type": "code",
   "execution_count": null,
   "id": "279221ea",
   "metadata": {},
   "outputs": [],
   "source": []
  },
  {
   "cell_type": "code",
   "execution_count": null,
   "id": "9d93bbf8",
   "metadata": {},
   "outputs": [],
   "source": []
  },
  {
   "cell_type": "code",
   "execution_count": null,
   "id": "8fd40822",
   "metadata": {},
   "outputs": [],
   "source": []
  },
  {
   "cell_type": "code",
   "execution_count": null,
   "id": "902b9239",
   "metadata": {},
   "outputs": [],
   "source": []
  },
  {
   "cell_type": "code",
   "execution_count": null,
   "id": "fe3396cb",
   "metadata": {},
   "outputs": [],
   "source": []
  },
  {
   "cell_type": "code",
   "execution_count": null,
   "id": "f4286795",
   "metadata": {},
   "outputs": [],
   "source": []
  },
  {
   "cell_type": "code",
   "execution_count": null,
   "id": "43fa9b83",
   "metadata": {},
   "outputs": [],
   "source": []
  },
  {
   "cell_type": "code",
   "execution_count": null,
   "id": "dcbd8eca",
   "metadata": {},
   "outputs": [],
   "source": []
  },
  {
   "cell_type": "code",
   "execution_count": null,
   "id": "3ad151c1",
   "metadata": {},
   "outputs": [],
   "source": []
  },
  {
   "cell_type": "code",
   "execution_count": null,
   "id": "b81e60f2",
   "metadata": {},
   "outputs": [],
   "source": []
  },
  {
   "cell_type": "code",
   "execution_count": null,
   "id": "e7e97594",
   "metadata": {},
   "outputs": [],
   "source": []
  },
  {
   "cell_type": "code",
   "execution_count": null,
   "id": "5741dd42",
   "metadata": {},
   "outputs": [],
   "source": []
  },
  {
   "cell_type": "code",
   "execution_count": null,
   "id": "d7f8ef86",
   "metadata": {},
   "outputs": [],
   "source": []
  },
  {
   "cell_type": "code",
   "execution_count": null,
   "id": "9411775d",
   "metadata": {},
   "outputs": [],
   "source": []
  }
 ],
 "metadata": {
  "kernelspec": {
   "display_name": "Python 3",
   "language": "python",
   "name": "python3"
  },
  "language_info": {
   "codemirror_mode": {
    "name": "ipython",
    "version": 3
   },
   "file_extension": ".py",
   "mimetype": "text/x-python",
   "name": "python",
   "nbconvert_exporter": "python",
   "pygments_lexer": "ipython3",
   "version": "3.6.8"
  }
 },
 "nbformat": 4,
 "nbformat_minor": 5
}

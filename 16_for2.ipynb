{
 "cells": [
  {
   "cell_type": "markdown",
   "id": "5570ec75",
   "metadata": {},
   "source": [
    "리스트와 함께 사용하는 for"
   ]
  },
  {
   "cell_type": "code",
   "execution_count": 5,
   "id": "63e5ca03",
   "metadata": {
    "scrolled": false
   },
   "outputs": [
    {
     "name": "stdout",
     "output_type": "stream",
     "text": [
      "['Life', 'is', 'too', 'Good']\n",
      "------------------------------\n",
      "Life\n",
      "is\n",
      "too\n",
      "Good\n",
      "------------------------------\n",
      "Life\n",
      "is\n",
      "too\n",
      "Good\n",
      "------------------------------\n",
      "is\n",
      "too\n",
      "------------------------------\n"
     ]
    }
   ],
   "source": [
    " a = ['Life', 'is', 'too', 'Good']\n",
    "print(a)\n",
    "print('-' * 30)\n",
    "\n",
    "for i in a : \n",
    "    print(i)\n",
    "print('-' * 30)\n",
    "\n",
    "for i in range(len(a)) :\n",
    "    print(a[i])\n",
    "print('-' * 30)\n",
    "\n",
    "for i in a[1:3] : \n",
    "    print(i)"
   ]
  },
  {
   "cell_type": "markdown",
   "id": "a9c77794",
   "metadata": {},
   "source": [
    "튜플과 함께 사용하는 for"
   ]
  },
  {
   "cell_type": "code",
   "execution_count": 6,
   "id": "665bf287",
   "metadata": {
    "scrolled": false
   },
   "outputs": [
    {
     "name": "stdout",
     "output_type": "stream",
     "text": [
      "('Life', 'is', 'too', 'Good')\n",
      "------------------------------\n",
      "Life\n",
      "is\n",
      "too\n",
      "Good\n",
      "------------------------------\n",
      "Life\n",
      "is\n",
      "too\n",
      "Good\n",
      "------------------------------\n",
      "is\n",
      "too\n",
      "------------------------------\n"
     ]
    }
   ],
   "source": [
    " a = 'Life', 'is', 'too', 'Good'\n",
    "print(a)\n",
    "print('-' * 30)\n",
    "\n",
    "for i in a : \n",
    "    print(i)\n",
    "print('-' * 30)\n",
    "\n",
    "for i in range(len(a)) :\n",
    "    print(a[i])\n",
    "print('-' * 30)\n",
    "\n",
    "for i in a[1:3] : \n",
    "    print(i)\n",
    "print('-' * 30)"
   ]
  },
  {
   "cell_type": "markdown",
   "id": "f6104719",
   "metadata": {},
   "source": [
    "Set과 함께 사용하는 for"
   ]
  },
  {
   "cell_type": "code",
   "execution_count": 10,
   "id": "381707bd",
   "metadata": {
    "scrolled": false
   },
   "outputs": [
    {
     "name": "stdout",
     "output_type": "stream",
     "text": [
      "{'too', 'is', 'Good', 'Life'}\n",
      "------------------------------\n",
      "too\n",
      "is\n",
      "Good\n",
      "Life\n",
      "------------------------------\n"
     ]
    }
   ],
   "source": [
    " a = {'Life', 'is', 'too', 'Good'}\n",
    "print(a)\n",
    "print('-' * 30)\n",
    "\n",
    "# set은 입력하는 순서와 실제 저장되는 순서가 다르지만 전체를 대상으로 반복 작업은 가능하다.\n",
    "for i in a : \n",
    "    print(i)\n",
    "print('-' * 30)\n",
    "\n",
    "'''\n",
    "for i in range(len(a)) :\n",
    "    print(a[i]) # set은 입력되는 순서와 실제 저장되는 순서가 달라서 인덱싱을 사용할 수 없으므로 에러가 발생된다.\n",
    "\n",
    "for i in a[1:3] : # set은 입력되는 순서와 실제 저장되는 순서가 달라서 슬라이싱을 사용할 수 없으므로 에러가 발생된다.\n",
    "    print(i)\n",
    "'''\n",
    "pass"
   ]
  },
  {
   "cell_type": "markdown",
   "id": "af24010b",
   "metadata": {},
   "source": [
    "딕셔너리와 함께 사용하는 for"
   ]
  },
  {
   "cell_type": "code",
   "execution_count": 15,
   "id": "dfd1f3b1",
   "metadata": {},
   "outputs": [
    {
     "name": "stdout",
     "output_type": "stream",
     "text": [
      "{'apple': 1000, 'banana': 3500, 'melon': 1000, 'mango': 5000}\n",
      "dict_keys(['apple', 'banana', 'melon', 'mango'])\n",
      "dict_values([1000, 3500, 1000, 5000])\n",
      "dict_items([('apple', 1000), ('banana', 3500), ('melon', 1000), ('mango', 5000)])\n"
     ]
    }
   ],
   "source": [
    "a = {'apple' : 1000, 'banana' : 3500, 'melon' : 1000, 'mango' : 5000}\n",
    "print(a)\n",
    "print(a.keys())\n",
    "print(a.values())\n",
    "print(a.items())"
   ]
  },
  {
   "cell_type": "code",
   "execution_count": 18,
   "id": "205fce66",
   "metadata": {
    "scrolled": false
   },
   "outputs": [
    {
     "name": "stdout",
     "output_type": "stream",
     "text": [
      "apple\n",
      "banana\n",
      "melon\n",
      "mango\n",
      "------------------------------\n",
      "apple\n",
      "banana\n",
      "melon\n",
      "mango\n",
      "------------------------------\n",
      "1000\n",
      "3500\n",
      "1000\n",
      "5000\n",
      "------------------------------\n",
      "('apple', 1000)\n",
      "('banana', 3500)\n",
      "('melon', 1000)\n",
      "('mango', 5000)\n",
      "------------------------------\n"
     ]
    }
   ],
   "source": [
    "# 딕셔너리의 이름만 쓰면 딕셔너리이름.keys()와 같은 의미로 사용된다.\n",
    "for key in a :\n",
    "    print(key)\n",
    "print('-' * 30)\n",
    "\n",
    "for key in a.keys() :\n",
    "    print(key)\n",
    "print('-' * 30)\n",
    "\n",
    "for value in a.values() :\n",
    "    print(value)\n",
    "print('-' * 30)\n",
    "\n",
    "for item in a.items() :\n",
    "    print(item)\n",
    "print('-' * 30)"
   ]
  },
  {
   "cell_type": "code",
   "execution_count": 20,
   "id": "7b4b1471",
   "metadata": {},
   "outputs": [
    {
     "name": "stdout",
     "output_type": "stream",
     "text": [
      "1000\n",
      "3500\n",
      "1000\n",
      "5000\n",
      "------------------------------\n",
      "1000\n",
      "3500\n",
      "1000\n",
      "5000\n"
     ]
    }
   ],
   "source": [
    "# key값을 이용해서 value를 얻어오기\n",
    "for key in a.keys() :\n",
    "    print(a[key]) # 딕셔너리이름[key]\n",
    "print('-' * 30)\n",
    "\n",
    "for key in a.keys() :\n",
    "    print(a.get(key)) # 딕셔너리이름.get(key)"
   ]
  },
  {
   "cell_type": "code",
   "execution_count": 24,
   "id": "4c103467",
   "metadata": {},
   "outputs": [
    {
     "name": "stdout",
     "output_type": "stream",
     "text": [
      "('apple', 1000)\n",
      "('banana', 3500)\n",
      "('melon', 1000)\n",
      "('mango', 5000)\n",
      "------------------------------\n",
      "apple는(은) 1,000원 입니다.\n",
      "banana는(은) 3,500원 입니다.\n",
      "melon는(은) 1,000원 입니다.\n",
      "mango는(은) 5,000원 입니다.\n",
      "------------------------------\n",
      "apple는(은) 1,000원 입니다.\n",
      "banana는(은) 3,500원 입니다.\n",
      "melon는(은) 1,000원 입니다.\n",
      "mango는(은) 5,000원 입니다.\n"
     ]
    }
   ],
   "source": [
    "# item 값을 이용해서 key, value를 얻어오기\n",
    "for item in a.items() :\n",
    "    print(item)\n",
    "print('-' * 30)\n",
    "\n",
    "for item in a.items() :\n",
    "    print('{}는(은) {:,}원 입니다.'.format(item[0], item[1]))\n",
    "print('-' * 30)\n",
    "\n",
    "for key, value in a.items() :\n",
    "    print('{}는(은) {:,}원 입니다.'.format(key, value))"
   ]
  },
  {
   "cell_type": "markdown",
   "id": "c40e6857",
   "metadata": {},
   "source": [
    "enumerate() 함수는 인수로 지정된 리스트, 튜플, 딕셔너리, set의 index와 데이터를 쌍으로 묶은 튜플을 리턴한다."
   ]
  },
  {
   "cell_type": "code",
   "execution_count": 27,
   "id": "57e92aeb",
   "metadata": {},
   "outputs": [
    {
     "name": "stdout",
     "output_type": "stream",
     "text": [
      "<enumerate object at 0x000001E4A1DCA3A8>\n",
      "[(0, 'Life'), (1, 'is'), (2, 'too'), (3, 'Good')]\n",
      "0 Life\n",
      "1 is\n",
      "2 too\n",
      "3 Good\n"
     ]
    }
   ],
   "source": [
    "a = ['Life', 'is', 'too', 'Good']\n",
    "print(enumerate(a))\n",
    "print(list(enumerate(a)))\n",
    "\n",
    "for index, data in enumerate(a) : \n",
    "    print(index, data)"
   ]
  },
  {
   "cell_type": "code",
   "execution_count": 28,
   "id": "c82125f3",
   "metadata": {},
   "outputs": [
    {
     "name": "stdout",
     "output_type": "stream",
     "text": [
      "<enumerate object at 0x000001E4A1DCA3A8>\n",
      "[(0, 'Life'), (1, 'is'), (2, 'too'), (3, 'Good')]\n",
      "0 Life\n",
      "1 is\n",
      "2 too\n",
      "3 Good\n"
     ]
    }
   ],
   "source": [
    "a = 'Life', 'is', 'too', 'Good'\n",
    "print(enumerate(a))\n",
    "print(list(enumerate(a)))\n",
    "\n",
    "for index, data in enumerate(a) : \n",
    "    print(index, data)"
   ]
  },
  {
   "cell_type": "code",
   "execution_count": 117,
   "id": "873732fb",
   "metadata": {
    "scrolled": false
   },
   "outputs": [
    {
     "name": "stdout",
     "output_type": "stream",
     "text": [
      "<enumerate object at 0x000001E4A1E65C18>\n",
      "[(0, 'too'), (1, 'is'), (2, 'Good'), (3, 'Life')]\n",
      "0 too\n",
      "1 is\n",
      "2 Good\n",
      "3 Life\n"
     ]
    }
   ],
   "source": [
    "a = {'Life', 'is', 'too', 'Good'}\n",
    "print(enumerate(a))\n",
    "print(list(enumerate(a)))\n",
    "\n",
    "for index, data in enumerate(a) : \n",
    "    print(index, data)"
   ]
  },
  {
   "cell_type": "code",
   "execution_count": 33,
   "id": "f9d35921",
   "metadata": {},
   "outputs": [
    {
     "name": "stdout",
     "output_type": "stream",
     "text": [
      "<enumerate object at 0x000001E4A1D77480>\n",
      "[(0, 'apple'), (1, 'banana'), (2, 'melon'), (3, 'mango')]\n",
      "0 apple\n",
      "1 banana\n",
      "2 melon\n",
      "3 mango\n",
      "------------------------------\n",
      "0 apple\n",
      "1 banana\n",
      "2 melon\n",
      "3 mango\n",
      "------------------------------\n",
      "0 1000\n",
      "1 3500\n",
      "2 1000\n",
      "3 5000\n",
      "------------------------------\n",
      "0 ('apple', 1000)\n",
      "1 ('banana', 3500)\n",
      "2 ('melon', 1000)\n",
      "3 ('mango', 5000)\n",
      "------------------------------\n"
     ]
    }
   ],
   "source": [
    "a = {'apple' : 1000, 'banana' : 3500, 'melon' : 1000, 'mango' : 5000}\n",
    "print(enumerate(a))\n",
    "print(list(enumerate(a)))\n",
    "\n",
    "for index, data in enumerate(a) : \n",
    "    print(index, data)\n",
    "print('-' * 30)\n",
    "\n",
    "for index, data in enumerate(a.keys()) : \n",
    "    print(index, data)\n",
    "print('-' * 30)\n",
    "\n",
    "for index, data in enumerate(a.values()) : \n",
    "    print(index, data)\n",
    "print('-' * 30)\n",
    "\n",
    "for index, data in enumerate(a.items()) : \n",
    "    print(index, data)\n",
    "print('-' * 30)"
   ]
  },
  {
   "cell_type": "markdown",
   "id": "da72f726",
   "metadata": {},
   "source": [
    "zip() 함수는 서로 다른 데이터가 저장된 객체를 반복 가능한 형태로 묶는다."
   ]
  },
  {
   "cell_type": "code",
   "execution_count": 122,
   "id": "d17ebb5d",
   "metadata": {},
   "outputs": [
    {
     "name": "stdout",
     "output_type": "stream",
     "text": [
      "<zip object at 0x000001E4A1EB5788>\n",
      "[('java', 100), ('jsp', 95), ('python', 98)]\n",
      "('java', 100)\n",
      "('jsp', 95)\n",
      "('python', 98)\n"
     ]
    }
   ],
   "source": [
    "a = ['java', 'jsp', 'python']\n",
    "b = [100, 95, 98]\n",
    "print(zip(a, b))\n",
    "print(list(zip(a, b)))\n",
    "\n",
    "for i in zip(a, b) :\n",
    "    print(i)"
   ]
  },
  {
   "cell_type": "code",
   "execution_count": 128,
   "id": "758a36ce",
   "metadata": {},
   "outputs": [
    {
     "name": "stdout",
     "output_type": "stream",
     "text": [
      "[191, 182, 173]\n",
      "100 90 1\n",
      "100 80 2\n",
      "100 70 3\n",
      "[191, 182, 173]\n"
     ]
    }
   ],
   "source": [
    "java = [100, 100, 100]\n",
    "jsp = [90, 80, 70]\n",
    "python = [1, 2, 3]\n",
    "\n",
    "total = []\n",
    "for i in range(len(java)) :\n",
    "    total.append(java[i] + jsp[i] + python[i])\n",
    "print(total)\n",
    "\n",
    "total = []\n",
    "for a, b, c in zip(java, jsp, python) :\n",
    "    total.append(a + b + c)\n",
    "print(total)\n"
   ]
  },
  {
   "cell_type": "code",
   "execution_count": null,
   "id": "0fe15922",
   "metadata": {},
   "outputs": [],
   "source": []
  },
  {
   "cell_type": "code",
   "execution_count": null,
   "id": "12a4000a",
   "metadata": {},
   "outputs": [],
   "source": []
  },
  {
   "cell_type": "code",
   "execution_count": null,
   "id": "8e90a9d2",
   "metadata": {},
   "outputs": [],
   "source": []
  },
  {
   "cell_type": "code",
   "execution_count": null,
   "id": "707f60dc",
   "metadata": {},
   "outputs": [],
   "source": []
  },
  {
   "cell_type": "code",
   "execution_count": null,
   "id": "f011c41d",
   "metadata": {},
   "outputs": [],
   "source": []
  },
  {
   "cell_type": "code",
   "execution_count": null,
   "id": "66ae7ef3",
   "metadata": {},
   "outputs": [],
   "source": []
  },
  {
   "cell_type": "code",
   "execution_count": null,
   "id": "e38800aa",
   "metadata": {},
   "outputs": [],
   "source": []
  },
  {
   "cell_type": "code",
   "execution_count": null,
   "id": "1715e158",
   "metadata": {},
   "outputs": [],
   "source": []
  },
  {
   "cell_type": "code",
   "execution_count": null,
   "id": "c0372bbf",
   "metadata": {},
   "outputs": [],
   "source": []
  }
 ],
 "metadata": {
  "kernelspec": {
   "display_name": "Python 3",
   "language": "python",
   "name": "python3"
  },
  "language_info": {
   "codemirror_mode": {
    "name": "ipython",
    "version": 3
   },
   "file_extension": ".py",
   "mimetype": "text/x-python",
   "name": "python",
   "nbconvert_exporter": "python",
   "pygments_lexer": "ipython3",
   "version": "3.6.8"
  }
 },
 "nbformat": 4,
 "nbformat_minor": 5
}

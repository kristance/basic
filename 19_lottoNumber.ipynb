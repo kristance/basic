{
 "cells": [
  {
   "cell_type": "code",
   "execution_count": 2,
   "id": "cc4a0d6a",
   "metadata": {},
   "outputs": [],
   "source": [
    "import random\n",
    "lotto = [i for i in range(1, 46)]"
   ]
  },
  {
   "cell_type": "code",
   "execution_count": 31,
   "id": "fe543082",
   "metadata": {},
   "outputs": [
    {
     "name": "stdout",
     "output_type": "stream",
     "text": [
      "구매 금액 입력 : 10000\n",
      "  1 game : 01  12  16  23  32  40  \n",
      "  2 game : 05  15  17  29  30  31  \n",
      "  3 game : 06  09  13  29  35  45  \n",
      "  4 game : 25  32  33  34  40  41  \n",
      "  5 game : 03  05  18  27  33  37  \n",
      "  6 game : 10  14  17  19  20  21  \n",
      "  7 game : 09  13  19  22  28  44  \n",
      "  8 game : 06  21  30  37  38  45  \n",
      "  9 game : 04  08  14  18  25  38  \n",
      " 10 game : 02  10  26  33  42  43  \n"
     ]
    }
   ],
   "source": [
    "# 로또 복권 구매 금액을 입력받아 입력받은 금액만큼 로또 번호를 생성하는 프로그램\n",
    "# 로또 복권 구매 금액을 입력받는다.\n",
    "money = int(input('구매 금액 입력 : '))\n",
    "# 로또 번호 구매 금액만큼 반복하며 로또 번호를 생성한다.\n",
    "for i in range(money // 1000) :\n",
    "    random.shuffle(lotto)\n",
    "    print('{:3d} game : '.format(i + 1), end='')\n",
    "    result = lotto[:6]\n",
    "    result.sort()\n",
    "    for j in range(6) :\n",
    "        print('{:02d} '.format(result[j]), end=' ')\n",
    "    # ---------------- for j\n",
    "    print()\n",
    "# ------------------ for i"
   ]
  },
  {
   "cell_type": "code",
   "execution_count": null,
   "id": "3bd226d3",
   "metadata": {},
   "outputs": [],
   "source": []
  },
  {
   "cell_type": "code",
   "execution_count": 34,
   "id": "d6375246",
   "metadata": {},
   "outputs": [
    {
     "name": "stdout",
     "output_type": "stream",
     "text": [
      "구매 금액 입력 : 10000\n",
      "  1 game : 03  12  31  37  39  40  \n",
      "  2 game : 07  20  22  23  25  36  \n",
      "  3 game : 10  16  17  27  28  39  \n",
      "  4 game : 03  05  06  07  25  34  \n",
      "  5 game : 05  20  22  28  30  37  \n",
      "  6 game : 05  07  09  19  39  41  \n",
      "  7 game : 03  20  24  26  31  32  \n",
      "  8 game : 01  11  20  27  34  40  \n",
      "  9 game : 06  12  21  30  35  37  \n",
      " 10 game : 08  09  14  28  36  45  \n"
     ]
    }
   ],
   "source": [
    "money = int(input('구매 금액 입력 : '))\n",
    "# 로또 번호 구매 금액만큼 반복하며 로또 번호를 생성한다.\n",
    "for i in range(money // 1000) :\n",
    "    # random.shuffle(lotto)\n",
    "    print('{:3d} game : '.format(i + 1), end='')\n",
    "    # result = lotto[:6]\n",
    "    result = random.sample(lotto, 6)\n",
    "    result.sort()\n",
    "    for j in range(6) :\n",
    "        print('{:02d} '.format(result[j]), end=' ')\n",
    "    # ---------------- for j\n",
    "    print()\n",
    "# ------------------ for i"
   ]
  },
  {
   "cell_type": "code",
   "execution_count": null,
   "id": "7beb6c3a",
   "metadata": {},
   "outputs": [],
   "source": []
  },
  {
   "cell_type": "code",
   "execution_count": null,
   "id": "2a1b5c1b",
   "metadata": {},
   "outputs": [],
   "source": []
  },
  {
   "cell_type": "code",
   "execution_count": null,
   "id": "b2531c7f",
   "metadata": {},
   "outputs": [],
   "source": []
  },
  {
   "cell_type": "code",
   "execution_count": null,
   "id": "7421a4d4",
   "metadata": {},
   "outputs": [],
   "source": []
  },
  {
   "cell_type": "code",
   "execution_count": null,
   "id": "18cc6432",
   "metadata": {},
   "outputs": [],
   "source": []
  },
  {
   "cell_type": "code",
   "execution_count": null,
   "id": "609184de",
   "metadata": {},
   "outputs": [],
   "source": []
  },
  {
   "cell_type": "code",
   "execution_count": null,
   "id": "0edd558f",
   "metadata": {},
   "outputs": [],
   "source": []
  },
  {
   "cell_type": "code",
   "execution_count": null,
   "id": "a41c8213",
   "metadata": {},
   "outputs": [],
   "source": []
  },
  {
   "cell_type": "code",
   "execution_count": null,
   "id": "fb3f66c2",
   "metadata": {},
   "outputs": [],
   "source": []
  },
  {
   "cell_type": "code",
   "execution_count": null,
   "id": "4a06d721",
   "metadata": {},
   "outputs": [],
   "source": []
  }
 ],
 "metadata": {
  "kernelspec": {
   "display_name": "Python 3",
   "language": "python",
   "name": "python3"
  },
  "language_info": {
   "codemirror_mode": {
    "name": "ipython",
    "version": 3
   },
   "file_extension": ".py",
   "mimetype": "text/x-python",
   "name": "python",
   "nbconvert_exporter": "python",
   "pygments_lexer": "ipython3",
   "version": "3.6.8"
  }
 },
 "nbformat": 4,
 "nbformat_minor": 5
}

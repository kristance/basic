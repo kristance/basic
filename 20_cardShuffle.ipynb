{
 "cells": [
  {
   "cell_type": "code",
   "execution_count": 1,
   "id": "fc8548c0",
   "metadata": {},
   "outputs": [],
   "source": [
    "import random\n"
   ]
  },
  {
   "cell_type": "code",
   "execution_count": 12,
   "id": "e74614fd",
   "metadata": {},
   "outputs": [],
   "source": [
    "# 카드 출력에 사용할 숫자와 무늬를 기억하는 리스트 또는 튜플을 만든다.\n",
    "number = ['A', '2', '3', '4', '5', '6', '7', '8', '9', '10', 'J', 'Q', 'K']\n",
    "symbol = '◆', '♠', '♥', '♣'"
   ]
  },
  {
   "cell_type": "code",
   "execution_count": 107,
   "id": "4c16cd17",
   "metadata": {},
   "outputs": [
    {
     "name": "stdout",
     "output_type": "stream",
     "text": [
      "◆A  ◆2  ◆3  ◆4  ◆5  ◆6  ◆7  ◆8  ◆9  ◆10 ◆J  ◆Q  ◆K  \n",
      "♠A  ♠2  ♠3  ♠4  ♠5  ♠6  ♠7  ♠8  ♠9  ♠10 ♠J  ♠Q  ♠K  \n",
      "♥A  ♥2  ♥3  ♥4  ♥5  ♥6  ♥7  ♥8  ♥9  ♥10 ♥J  ♥Q  ♥K  \n",
      "♣A  ♣2  ♣3  ♣4  ♣5  ♣6  ♣7  ♣8  ♣9  ♣10 ♣J  ♣Q  ♣K  \n",
      "--------------------------------------------------섞기 전\n",
      "♥5  ♠8  ◆6  ♠2  ♠10 ♠6  ♠9  ♥6  ♠4  ♣9  ♣6  ◆K  ♠3  \n",
      "♠K  ◆7  ♥Q  ◆2  ◆3  ♥A  ♣10 ♥3  ♣8  ♠J  ♥9  ♠A  ◆A  \n",
      "♣3  ♥7  ◆5  ♣5  ♥2  ♠5  ♥10 ♣7  ♥4  ◆8  ♣Q  ♠7  ◆10 \n",
      "♣4  ♣K  ♥8  ◆4  ♥K  ♣A  ♠Q  ♣J  ♥J  ♣2  ◆J  ◆9  ◆Q  \n",
      "--------------------------------------------------섞은 후\n"
     ]
    }
   ],
   "source": [
    "# 0 - 51 사이의 숫자가 채워진 리스트를 만든다.\n",
    "card = [i for i in range(52)]\n",
    "# print(card)\n",
    "\n",
    "# 섞기전 상태를 출력한다. -> 1줄에 숫자를 13개씩 출력한다.\n",
    "for i in range(len(card)) :\n",
    "   # print('{:2d}'.format(card[i]), end=' ')\n",
    "   # print('{:2s}'.format(number[card[i] % 13]), end=' ') # 숫자만\n",
    "   # print('{:s}'.format(symbol[card[i] // 13]), end=' ') # 무늬만\n",
    "    print('{:s}{:2s}'.format(symbol[card[i] // 13], number[card[i] % 13]), end=' ')\n",
    "    if (i + 1) % 13 == 0 :\n",
    "        print()\n",
    "    #---------------if\n",
    "#------- for\n",
    "print('-' * 50 + '섞기 전')\n",
    "\n",
    "random.shuffle(card)\n",
    "\n",
    "for i in range(len(card)) :\n",
    "    print('{:s}{:2s}'.format(symbol[card[i] // 13], number[card[i] % 13]), end=' ')\n",
    "\n",
    "    if (i + 1) % 13 == 0 :\n",
    "        print()\n",
    "    #---------------if\n",
    "#------- for\n",
    "print('-' * 50 + '섞은 후')\n",
    "\n"
   ]
  },
  {
   "cell_type": "code",
   "execution_count": null,
   "id": "9817cac2",
   "metadata": {},
   "outputs": [],
   "source": []
  },
  {
   "cell_type": "code",
   "execution_count": null,
   "id": "32e40122",
   "metadata": {},
   "outputs": [],
   "source": []
  },
  {
   "cell_type": "code",
   "execution_count": null,
   "id": "1dd9a9aa",
   "metadata": {},
   "outputs": [],
   "source": []
  },
  {
   "cell_type": "code",
   "execution_count": null,
   "id": "599c1079",
   "metadata": {},
   "outputs": [],
   "source": []
  },
  {
   "cell_type": "code",
   "execution_count": null,
   "id": "dadf2fd7",
   "metadata": {},
   "outputs": [],
   "source": []
  },
  {
   "cell_type": "code",
   "execution_count": null,
   "id": "a5d3f885",
   "metadata": {},
   "outputs": [],
   "source": []
  },
  {
   "cell_type": "code",
   "execution_count": null,
   "id": "129b07b1",
   "metadata": {},
   "outputs": [],
   "source": []
  },
  {
   "cell_type": "code",
   "execution_count": null,
   "id": "f22cf955",
   "metadata": {},
   "outputs": [],
   "source": []
  },
  {
   "cell_type": "code",
   "execution_count": null,
   "id": "17d07d50",
   "metadata": {},
   "outputs": [],
   "source": []
  },
  {
   "cell_type": "code",
   "execution_count": null,
   "id": "3eb9fe16",
   "metadata": {},
   "outputs": [],
   "source": []
  },
  {
   "cell_type": "code",
   "execution_count": null,
   "id": "bd3dea6b",
   "metadata": {},
   "outputs": [],
   "source": []
  },
  {
   "cell_type": "code",
   "execution_count": null,
   "id": "8594647f",
   "metadata": {},
   "outputs": [],
   "source": []
  },
  {
   "cell_type": "code",
   "execution_count": null,
   "id": "5a4b5297",
   "metadata": {},
   "outputs": [],
   "source": []
  },
  {
   "cell_type": "code",
   "execution_count": null,
   "id": "6ee84557",
   "metadata": {},
   "outputs": [],
   "source": []
  }
 ],
 "metadata": {
  "kernelspec": {
   "display_name": "Python 3",
   "language": "python",
   "name": "python3"
  },
  "language_info": {
   "codemirror_mode": {
    "name": "ipython",
    "version": 3
   },
   "file_extension": ".py",
   "mimetype": "text/x-python",
   "name": "python",
   "nbconvert_exporter": "python",
   "pygments_lexer": "ipython3",
   "version": "3.6.8"
  }
 },
 "nbformat": 4,
 "nbformat_minor": 5
}

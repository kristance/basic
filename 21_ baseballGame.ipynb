{
 "cells": [
  {
   "cell_type": "code",
   "execution_count": 37,
   "id": "659ff857",
   "metadata": {},
   "outputs": [],
   "source": [
    "import random\n",
    "# 1 - 9 사이의 숫자가 채워진 리스트를 만든다.\n",
    "baseball = [i for i in range(1, 10)]\n",
    "# print(baseball)\n",
    "from datetime import datetime as dt"
   ]
  },
  {
   "cell_type": "code",
   "execution_count": 47,
   "id": "5c6d8db0",
   "metadata": {
    "scrolled": false
   },
   "outputs": [
    {
     "name": "stdout",
     "output_type": "stream",
     "text": [
      "레벨을 입력하세요(1 - 9). : 1\n",
      "[5]\n",
      "답을 입력하세요 : 5\n",
      "1번만에 정답입니다. 1.433172 걸려서 상품을 받아가세요. lol\n"
     ]
    }
   ],
   "source": [
    "# 레벨을 입력받는다.\n",
    "level = int(input('레벨을 입력하세요(1 - 9). : '))\n",
    "# 입력받은 레벨만큼 baseball 리스트에 저장된 숫자를 섞어서 뽑아낸다.\n",
    "# random.shuffle(baseball) # 리턴값이 없음\n",
    "# print(baseball)\n",
    "# cpu = baseball[0:level]\n",
    "cpu = random.sample(baseball, level)\n",
    "print(cpu)\n",
    "\n",
    "# 몇 번만에 맞췄나 기억할 변수를 선언하고 0으로 초기화한다.\n",
    "count = 0\n",
    "\n",
    "# baseball 게임 시작 시간을 저장한다.\n",
    "start = dt.now()\n",
    "# print(start)\n",
    "\n",
    "# ----------------------------------------------------------------\n",
    "\n",
    "# 몇 번만에 맞출지 모르기때문에 무한 루프를 돌려서 처리한다.\n",
    "while True : \n",
    "    # 새 반복이 시작될 때마다 스트라이크 갯수와 볼의 갯수를 세는 변수를 0으로 초기화한다.\n",
    "    # 초기화 시키지 않으면 이전 반복의 스트라이크 갯수와 볼의 갯수가 현재 반복의 스트라이크, 볼의 갯수에 누적된다.\n",
    "    s = 0 # 스트라이크 갯수\n",
    "    b = 0 # 볼의 갯수\n",
    "    \n",
    "    # 컴퓨터가 랜덤하게 발생시킨 숨겨놓은 숫자를 맞추기 위해 유저에게 입력을 요구한다.\n",
    "    user = input('답을 입력하세요 : ')\n",
    "    # 입력받을 때마다 몇 번만에 맞췄나 기억하는 변수를 1증가 시킨다.\n",
    "    count += 1\n",
    "    \n",
    "    # 레벨만큼 반복하며 스트라이크와 볼의 갯수를 센다.\n",
    "    for i in range(level) :\n",
    "        # 스트라이크 -> cpu와 user의 같은 인덱스의 데이터가 같은 경우\n",
    "        # cpu와 user의 데이터 타입이 다르기 때문에 str() 또는 int() 함수로 데이터 타입을 일치시켜야한다.\n",
    "        # str() 함수는 인수로 지정된 숫자를 문자열로 변환한다.\n",
    "        # chr() 함수는 인수로 지정된 코드값에 해당되는 문자를 리턴한다.\n",
    "        # int() 함수는 인수로 지정된 문자열을 숫자로 변환한다.\n",
    "        if cpu[i] == int(user[i]) : # if str(cpu[i]) == user[i]와 같이 조건을 비교해도 된다.\n",
    "            s += 1\n",
    "            \n",
    "        # 볼 -> user[i] 값이 cpu 리스트에 포함되어 있는 경우\n",
    "        elif int(user[i]) in cpu :\n",
    "            b += 1\n",
    "        #----------- if    \n",
    "    # ------------ for\n",
    "    \n",
    "    \n",
    "    # 스트라이크의 갯수와 레벨이 같으면 맞춘 것이므로 무한 루프를 탈출한다.\n",
    "    if s == level :\n",
    "        break\n",
    "    # ------------ if\n",
    "    # 맞추지 못했으므로 힌트를 출력한다.\n",
    "    print(f'{s} 스트라이크, {b} 볼')\n",
    "# ---------------------- while\n",
    "\n",
    "# baseball 게임 종료 시간을 저장한다.\n",
    "end = dt.now()\n",
    "# print(end)\n",
    "\n",
    "# 맞추는데 걸린 시간을 계산한다.\n",
    "time = end - start\n",
    "\n",
    "print(f' {time.total_seconds()}초 걸려서 {count}번만에 정답입니다. 상품을 받아가세요. lol')"
   ]
  },
  {
   "cell_type": "code",
   "execution_count": 20,
   "id": "bc964c0c",
   "metadata": {},
   "outputs": [
    {
     "name": "stdout",
     "output_type": "stream",
     "text": [
      "5\n",
      "<class 'str'>\n",
      "A\n",
      "5\n",
      "<class 'int'>\n"
     ]
    }
   ],
   "source": [
    "print(str(5))\n",
    "print(type(str(5)))\n",
    "print(chr(65))\n",
    "print(int('5'))\n",
    "print(type(int('5')))"
   ]
  },
  {
   "cell_type": "code",
   "execution_count": null,
   "id": "ac3b92a1",
   "metadata": {},
   "outputs": [],
   "source": []
  },
  {
   "cell_type": "code",
   "execution_count": 47,
   "id": "a99451d7",
   "metadata": {
    "scrolled": false
   },
   "outputs": [
    {
     "name": "stdout",
     "output_type": "stream",
     "text": [
      "레벨을 입력하세요(1 - 9). : 1\n",
      "[5]\n",
      "답을 입력하세요 : 5\n",
      "1번만에 정답입니다. 1.433172 걸려서 상품을 받아가세요. lol\n"
     ]
    }
   ],
   "source": [
    "level = int(input('레벨을 입력하세요(1 - 9). : '))\n",
    "cpu = random.sample(baseball, level)\n",
    "print(cpu)\n",
    "count = 0\n",
    "\n",
    "start = dt.now()\n",
    "\n",
    "while True : \n",
    "    s = 0; b = 0 \n",
    "    user = input('답을 입력하세요 : ')\n",
    "    count += 1\n",
    "    \n",
    "    for i in range(level) :\n",
    "        if cpu[i] == int(user[i]) :\n",
    "            s += 1\n",
    "        elif int(user[i]) in cpu :\n",
    "            b += 1\n",
    "    # 000000000000\n",
    "    if s == level :\n",
    "        break\n",
    "    print(f'{s} 스트라이크, {b} 볼')\n",
    "# 000000000000    \n",
    "end = dt.now()\n",
    "time = end - start\n",
    "\n",
    "print(f' {time.total_seconds()}초 걸려서 {count}번만에 정답입니다. 상품을 받아가세요. lol')"
   ]
  },
  {
   "cell_type": "code",
   "execution_count": null,
   "id": "4742b9b2",
   "metadata": {},
   "outputs": [],
   "source": []
  },
  {
   "cell_type": "code",
   "execution_count": null,
   "id": "9e68ff04",
   "metadata": {},
   "outputs": [],
   "source": []
  },
  {
   "cell_type": "code",
   "execution_count": null,
   "id": "ee257a20",
   "metadata": {},
   "outputs": [],
   "source": []
  },
  {
   "cell_type": "code",
   "execution_count": null,
   "id": "1b458771",
   "metadata": {},
   "outputs": [],
   "source": []
  },
  {
   "cell_type": "code",
   "execution_count": null,
   "id": "4c9e853e",
   "metadata": {},
   "outputs": [],
   "source": []
  },
  {
   "cell_type": "code",
   "execution_count": null,
   "id": "3f2bfcee",
   "metadata": {},
   "outputs": [],
   "source": []
  },
  {
   "cell_type": "code",
   "execution_count": null,
   "id": "3237f3fd",
   "metadata": {},
   "outputs": [],
   "source": []
  },
  {
   "cell_type": "code",
   "execution_count": null,
   "id": "1e8e0607",
   "metadata": {},
   "outputs": [],
   "source": []
  },
  {
   "cell_type": "code",
   "execution_count": null,
   "id": "b40c090f",
   "metadata": {},
   "outputs": [],
   "source": []
  },
  {
   "cell_type": "code",
   "execution_count": null,
   "id": "9c96a1fc",
   "metadata": {},
   "outputs": [],
   "source": []
  },
  {
   "cell_type": "code",
   "execution_count": null,
   "id": "9d55a747",
   "metadata": {},
   "outputs": [],
   "source": []
  },
  {
   "cell_type": "code",
   "execution_count": null,
   "id": "cacf7fc3",
   "metadata": {},
   "outputs": [],
   "source": []
  }
 ],
 "metadata": {
  "kernelspec": {
   "display_name": "Python 3",
   "language": "python",
   "name": "python3"
  },
  "language_info": {
   "codemirror_mode": {
    "name": "ipython",
    "version": 3
   },
   "file_extension": ".py",
   "mimetype": "text/x-python",
   "name": "python",
   "nbconvert_exporter": "python",
   "pygments_lexer": "ipython3",
   "version": "3.6.8"
  }
 },
 "nbformat": 4,
 "nbformat_minor": 5
}

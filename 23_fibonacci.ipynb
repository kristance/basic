{
 "cells": [
  {
   "cell_type": "markdown",
   "id": "d299e7b3",
   "metadata": {},
   "source": [
    "\n",
    "\n",
    "\n",
    "<img src='fibonacci2.png'>"
   ]
  },
  {
   "cell_type": "markdown",
   "id": "e88727b8",
   "metadata": {},
   "source": [
    "<img src='fibonacci1.png'>"
   ]
  },
  {
   "cell_type": "code",
   "execution_count": 3,
   "id": "f8ec5524",
   "metadata": {},
   "outputs": [
    {
     "name": "stdout",
     "output_type": "stream",
     "text": [
      "피보나치 수열의 합계를 계산할 항을 입력10\n",
      "피보나치 수열 10번째 항까지의 합계 : 143\n"
     ]
    }
   ],
   "source": [
    "a = 1 # 1번째 항 초기화, 피보나치 수열의 n-2번째 항의 값\n",
    "b = 1 # 2번째 항 초기화, 피보나치 수열의 n-1번째 항의 값\n",
    "y = 2 # 1번쨰 항과 2번째 항의 합계 -> n번째 항까지의 피보나치 수열의 합계를 기억할 변수\n",
    "\n",
    "# 피보나치 수열의 합계를 계산할 항(n)을 입력받는다.\n",
    "n = int(input('피보나치 수열의 합계를 계산할 항을 입력'))\n",
    "\n",
    "# 1번째 항과 2번쨰 항은 이미 합계가 계산되었다는 가정하에 작업을 시작하므로 3번째 항부터 n번째 항까지\n",
    "# 반복하며 합계를 계산한다.\n",
    "\n",
    "for k in range(3, n + 1) :\n",
    "    c = a + b # k번째 항의 피보나치 수를 계산한다.\n",
    "    y += c # k번째 항까지의 피보나치 수열의 합계를 계산한다.\n",
    "    # 다음 항의 값을 계산하기 위해서 현재 반복의 n-1번째 항의 값(b)을 다음 반복의 n-2의 값(a)에 넣어준다.\n",
    "    a = b\n",
    "    # 다음 항의 값을 계산하기 위해서 현재 반복의 n번째 항의 값(c)을 다음 반복의 n-1의 값(b)에 넣어준다.\n",
    "    b = c\n",
    "# 0000000000000000000000 for\n",
    "print(f'피보나치 수열 {n}번째 항까지의 합계 : {y}')\n",
    "\n",
    "    \n",
    "\n",
    "\n",
    "    "
   ]
  },
  {
   "cell_type": "code",
   "execution_count": 22,
   "id": "eed084ea",
   "metadata": {},
   "outputs": [
    {
     "name": "stdout",
     "output_type": "stream",
     "text": [
      "피보나치 수열의 합계를 계산할 항을 입력10\n",
      "피보나치 수열 10번째 항까지의 합계 : 143 = [1, 1, 2, 3, 5, 8, 13, 21, 34, 55]\n"
     ]
    }
   ],
   "source": [
    "# 피보나치 수열의 1번째 항과 2번쨰 항의 값으로 초기화된 리스트를 만든다. -> 3번째 항부터의 값을 추가한다.\n",
    "f =[1, 1]\n",
    "n = int(input('피보나치 수열의 합계를 계산할 항을 입력'))\n",
    "for k in range(3, n + 1) :\n",
    "    f.append(f[k - 3] + f[k - 2])\n",
    "print(f'피보나치 수열 {n}번째 항까지의 합계 : {sum(f)} = {f}')"
   ]
  },
  {
   "cell_type": "code",
   "execution_count": 43,
   "id": "5cec5339",
   "metadata": {},
   "outputs": [
    {
     "name": "stdout",
     "output_type": "stream",
     "text": [
      "피보나치 수열 10번째 항까지의 합계 : 143 = 1 + 1 + 2 + 3 + 5 + 8 + 13 + 21 + 34 + 55\n"
     ]
    }
   ],
   "source": [
    "# 피보나치 수열 수열 10번째 항까지의 합계  : 143 = 1 + 1 + 2 + 3 + 5 + 8 + 13 + 21 + 34 + 55]\n",
    "print(f'피보나치 수열 {n}번째 항까지의 합계 : {sum(f)} = ', end='')\n",
    "for i in range(len(f) - 1) :\n",
    "    print(f[i], end=' + ')\n",
    "print(f[-1])"
   ]
  },
  {
   "cell_type": "code",
   "execution_count": 44,
   "id": "bfcff21a",
   "metadata": {},
   "outputs": [
    {
     "name": "stdout",
     "output_type": "stream",
     "text": [
      "피보나치 수열 10번째 항까지의 합계 : 143 = 1 + 1 + 2 + 3 + 5 + 8 + 13 + 21 + 34 + 55"
     ]
    }
   ],
   "source": [
    "print(f'피보나치 수열 {n}번째 항까지의 합계 : {sum(f)} = ', end='')\n",
    "for i in range(len(f)) :\n",
    "    if i > 0 :\n",
    "        print(' + ' , end='')\n",
    "    print(f[i], end='')"
   ]
  },
  {
   "cell_type": "code",
   "execution_count": 49,
   "id": "62c057b4",
   "metadata": {},
   "outputs": [
    {
     "name": "stdout",
     "output_type": "stream",
     "text": [
      "피보나치 수열 10번째 항까지의 합계 : 143 = 1 + 1 + 2 + 3 + 5 + 8 + 13 + 21 + 34 + 55"
     ]
    }
   ],
   "source": [
    "# p = []\n",
    "# for i in range(len(f)) :\n",
    "#     p.append(str(f[i]))\n",
    "# p = [str(f[i]) for i in range(len(f))]\n",
    "p = [str(i) for i in f]\n",
    "\n",
    "print(f'피보나치 수열 {n}번째 항까지의 합계 : {sum(f)} = {\" + \".join(p)}', end='')\n"
   ]
  },
  {
   "cell_type": "code",
   "execution_count": 50,
   "id": "718cc4b0",
   "metadata": {},
   "outputs": [
    {
     "name": "stdout",
     "output_type": "stream",
     "text": [
      "피보나치 수열 10번째 항까지의 합계 : 143 = 1 + 1 + 2 + 3 + 5 + 8 + 13 + 21 + 34 + 55\n"
     ]
    }
   ],
   "source": [
    "print(f'피보나치 수열 {n}번째 항까지의 합계 : {sum(f)} = ', end='')\n",
    "for i in range(len(f)) :\n",
    "    print(f[i], end=' + ' if i < len(f) - 1 else '\\n')"
   ]
  },
  {
   "cell_type": "code",
   "execution_count": null,
   "id": "16cf83e6",
   "metadata": {},
   "outputs": [],
   "source": []
  },
  {
   "cell_type": "code",
   "execution_count": null,
   "id": "19aa3189",
   "metadata": {},
   "outputs": [],
   "source": []
  },
  {
   "cell_type": "code",
   "execution_count": null,
   "id": "4aa36e99",
   "metadata": {},
   "outputs": [],
   "source": []
  },
  {
   "cell_type": "code",
   "execution_count": null,
   "id": "d1c83f13",
   "metadata": {},
   "outputs": [],
   "source": []
  },
  {
   "cell_type": "code",
   "execution_count": null,
   "id": "938e6fc7",
   "metadata": {},
   "outputs": [],
   "source": []
  },
  {
   "cell_type": "code",
   "execution_count": null,
   "id": "8050101b",
   "metadata": {},
   "outputs": [],
   "source": []
  }
 ],
 "metadata": {
  "kernelspec": {
   "display_name": "Python 3",
   "language": "python",
   "name": "python3"
  },
  "language_info": {
   "codemirror_mode": {
    "name": "ipython",
    "version": 3
   },
   "file_extension": ".py",
   "mimetype": "text/x-python",
   "name": "python",
   "nbconvert_exporter": "python",
   "pygments_lexer": "ipython3",
   "version": "3.6.8"
  }
 },
 "nbformat": 4,
 "nbformat_minor": 5
}

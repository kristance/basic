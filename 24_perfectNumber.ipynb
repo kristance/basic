{
 "cells": [
  {
   "cell_type": "markdown",
   "id": "7b39edd6",
   "metadata": {},
   "source": [
    "완전수  \n",
    "  \n",
    "완전수는 자기 자신을 제외한 약수의 합계가 자기 자신과 같은 숫자를 말한다.\n",
    "6의 약수는 1, 2, 3, 6이고 여기서 자기 자신인 6을 제외한 1, 2, 3의 합계가 자기 자신인 6이 되므로 6은 완전수이다.\n",
    "***\n",
    "<img src=\"./perfectNumber.png\" width=\"700px\" align=\"left\"> "
   ]
  },
  {
   "cell_type": "markdown",
   "id": "07e2ef9a",
   "metadata": {},
   "source": [
    "4 - 10000 사이의 완전수를 구하고 완전수의 갯수를 출력하는 프로그램"
   ]
  },
  {
   "cell_type": "code",
   "execution_count": 6,
   "id": "b73613e7",
   "metadata": {},
   "outputs": [
    {
     "name": "stdout",
     "output_type": "stream",
     "text": [
      "1번째 완전수 :    6\n",
      "2번째 완전수 :   28\n",
      "3번째 완전수 :  496\n",
      "4번째 완전수 : 8128\n",
      "완전수의 갯수는 4개 입니다.\n",
      "Wall time: 2.55 s\n"
     ]
    }
   ],
   "source": [
    "%%time\n",
    "lm = 0 # 완전수의 갯수를 세는 변수\n",
    "# 바깥 반복은 4 - 10000 사이의 완전수를 판별해야하므로 완전수인가 판별할 수를 4부터 10000까지 1씩 증가시킨다.\n",
    "for n in range(4, 10001) :\n",
    "    # 완전수인가 판별할 숫자(n)가 바뀔 때마다 약수의 합계를 다시 계산해야하므로 n이 바뀔때마다 초기화한다.\n",
    "    # n이 바뀔때마다 초기화시키지 않으면 이전 숫자의 약수 합계에 현재 숫자의 약수가 누적된다.\n",
    "    total = 0 # 완전수인가 판별할 수의 자신을 제외한 약수의 합계를 기억하는 변수\n",
    "    # 어떤 숫자를 나눠서 떨어뜨릴 수 있는 가장 큰 숫자는 자신의 제외하면 자신의 절반을 넘어가지 않는다.\n",
    "    # 완전수는 자신을 제외한 약수의 합이 자신과 같으면 되므로 자신으로 나눌 필요가 없다.\n",
    "    k = n // 2\n",
    "    # 안쪽 반복은 n이 완전수인가 판별하기 위해서 자신을 제외한 약수의 합계를 계산한다.\n",
    "    for j in range(1, k + 1) :\n",
    "        # 완전수인가 판별한 수의 약수를 계산하기 위해서 1 - k 사이의 숫자로 나눈 나머지를 계산한다.\n",
    "        r = n % j\n",
    "        # n을 j로 나눈 나머지가 0이면 j는 n의 약수이므로 약수의 합계를 계산한다.\n",
    "        if r == 0 : # j가 n의 약수인가?\n",
    "            total += j # j가 n의 약수이므로 약수의 합계를 계산한다.\n",
    "        ###################### if    \n",
    "    ################# for j    \n",
    "    # n이 완전수인가 판단해서 완전수면 n을 출력하고 완전수의 갯수를 1증가시킨다.\n",
    "    if n == total : # 완전수인가?\n",
    "        lm += 1 # 완전수의 갯수를 증가시킨다.\n",
    "        print('{}번째 완전수 : {:4d}'.format(lm, n))\n",
    "    ############# if    \n",
    "######################  for n\n",
    "print(f'완전수의 갯수는 {lm}개 입니다.') # 완전수의 갯수를 출력한다."
   ]
  },
  {
   "cell_type": "code",
   "execution_count": 3,
   "id": "96f40485",
   "metadata": {},
   "outputs": [
    {
     "name": "stdout",
     "output_type": "stream",
     "text": [
      "3\n",
      "3\n"
     ]
    }
   ],
   "source": [
    "n = 7\n",
    "print(n % 4)\n",
    "print(n - (n // 4 * 4))"
   ]
  },
  {
   "cell_type": "code",
   "execution_count": null,
   "id": "9083866c",
   "metadata": {},
   "outputs": [],
   "source": []
  },
  {
   "cell_type": "code",
   "execution_count": null,
   "id": "5428afe8",
   "metadata": {},
   "outputs": [],
   "source": []
  },
  {
   "cell_type": "code",
   "execution_count": null,
   "id": "8beb8f1e",
   "metadata": {},
   "outputs": [],
   "source": []
  },
  {
   "cell_type": "code",
   "execution_count": null,
   "id": "1f46429b",
   "metadata": {},
   "outputs": [],
   "source": []
  },
  {
   "cell_type": "code",
   "execution_count": null,
   "id": "0deda35b",
   "metadata": {},
   "outputs": [],
   "source": []
  },
  {
   "cell_type": "code",
   "execution_count": null,
   "id": "ef995f8a",
   "metadata": {},
   "outputs": [],
   "source": []
  },
  {
   "cell_type": "code",
   "execution_count": null,
   "id": "a8273065",
   "metadata": {},
   "outputs": [],
   "source": []
  },
  {
   "cell_type": "code",
   "execution_count": null,
   "id": "7fe2bbdc",
   "metadata": {},
   "outputs": [],
   "source": []
  },
  {
   "cell_type": "code",
   "execution_count": null,
   "id": "fbaa65c7",
   "metadata": {},
   "outputs": [],
   "source": []
  },
  {
   "cell_type": "code",
   "execution_count": null,
   "id": "e7158437",
   "metadata": {},
   "outputs": [],
   "source": []
  },
  {
   "cell_type": "code",
   "execution_count": null,
   "id": "691f138a",
   "metadata": {},
   "outputs": [],
   "source": []
  },
  {
   "cell_type": "code",
   "execution_count": null,
   "id": "cc531249",
   "metadata": {},
   "outputs": [],
   "source": []
  }
 ],
 "metadata": {
  "kernelspec": {
   "display_name": "Python 3",
   "language": "python",
   "name": "python3"
  },
  "language_info": {
   "codemirror_mode": {
    "name": "ipython",
    "version": 3
   },
   "file_extension": ".py",
   "mimetype": "text/x-python",
   "name": "python",
   "nbconvert_exporter": "python",
   "pygments_lexer": "ipython3",
   "version": "3.6.8"
  }
 },
 "nbformat": 4,
 "nbformat_minor": 5
}

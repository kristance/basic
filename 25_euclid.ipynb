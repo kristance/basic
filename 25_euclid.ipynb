{
 "cells": [
  {
   "cell_type": "markdown",
   "id": "373ec926",
   "metadata": {},
   "source": [
    "유클리드 호제법을 이용한  최대공약수와 최소공배수 계산하기 \n",
    "  \n",
    "숫자 2개를 입력받아 큰수와 작은 수로 구분한다.  \n",
    "큰수를 작은 수로 나눠 떨어지면 작은수가 최대공약수가 되고 큰 수를 작은 수로 나눠 떨어지지않으면 큰수를 기억하던 기억장소에 작은 수를 넣어주고  \n",
    "작은 수를 기억하던 기억장소에 큰수를 작은수로 나눈 <u>나머지</u>를 넣어준 후 계산을 반복한다.\n",
    "최대공약수가 계산되면 입력받은 숫자 2개를 곱한 결과를 최대 공약수로 나눠주면 최소 공배수가 계산된다.\n",
    "***\n",
    "\n",
    "<img src=\"./euclid2.png\" width=\"500px\" align=\"left\">"
   ]
  },
  {
   "cell_type": "code",
   "execution_count": 31,
   "id": "b138ab9a",
   "metadata": {},
   "outputs": [
    {
     "name": "stdout",
     "output_type": "stream",
     "text": [
      "숫자 2개를 입력하세요 : 12 18\n",
      "18은 큰수, 12은 작은수\n",
      "최대공약수는 6, 최소공배수는 36\n",
      "최대공약수는 6, 최소공배수는 36\n",
      "최대공약수는 6, 최소공배수는 36\n"
     ]
    }
   ],
   "source": [
    "# 숫자 2개를 입력받아 큰수, 작은수를 판별한다.\n",
    "\n",
    "a, b = map(int, input('숫자 2개를 입력하세요 : ').split());\n",
    "if a > b :\n",
    "    big = a; small = b\n",
    "else :\n",
    "    big = b; small = a\n",
    "print(f'{big}은 큰수, {small}은 작은수')\n",
    "\n",
    "# 입력받은 숫자에 따라 계산에 필요한 반복 횟수가 달라지므로 무한 루프를 돌려서 처리한다.\n",
    "while True : \n",
    "    r = big % small  # 큰 수를 작은 수로 나눈 나머지를 계산한다.\n",
    "    # 큰 수를 작은 수로 나눠 떨어지면 최대공약수가 계산된 것이므로 무한루프를 탈출한다.\n",
    "    if r == 0 :\n",
    "        break\n",
    "    #############  if big / small\n",
    "    # 큰 수를 작은 수로 나눠 떨어지지 않았으면 다음 작업을 위해서 큰 수르 기억하던 기억장소에 작은 수를,\n",
    "    # 작은 수를 기억하던 기억장소에 나머지를 넣어준다.\n",
    "    big = small\n",
    "    small = r\n",
    "########## while True\n",
    "\n",
    "# 최대공약수가 계산되었으면 최소공배수를 계산하고 출력한다.\n",
    "print('최대공약수는 %d, 최소공배수는 %d' % ( small, (a * b // small) ))\n",
    "print('최대공약수는 {}, 최소공배수는 {}'.format( small, (a * b // small) ))\n",
    "print(f'최대공약수는 {small}, 최소공배수는 {(a * b) // small}')"
   ]
  },
  {
   "cell_type": "markdown",
   "id": "6fc55acc",
   "metadata": {},
   "source": [
    "<img src=\"./euclid1.png\" width=\"500px\" align=\"left\">"
   ]
  },
  {
   "cell_type": "code",
   "execution_count": 41,
   "id": "1c380aa7",
   "metadata": {},
   "outputs": [
    {
     "name": "stdout",
     "output_type": "stream",
     "text": [
      "숫자 2개를 입력하세요 : 13 39\n",
      "39은 큰수, 13은 작은수\n",
      "최대공약수는 13, 최소공배수는 39\n"
     ]
    }
   ],
   "source": [
    "\n",
    "a, b = map(int, input('숫자 2개를 입력하세요 : ').split());\n",
    "r = 1 # 큰 수를 작은 수로 나눈 나머지를 기억하는 변수\n",
    "if a > b :\n",
    "    high = a; low = b\n",
    "else :\n",
    "    high = b; low = a\n",
    "print(f'{high}은 큰수, {low}은 작은수')\n",
    "\n",
    "# 나머지를 기억하는 변수 r의 초기치가 1이므로 while의 최초 진입 조건이 참이되므로 while 반복을 시작하고,\n",
    "# 나머지가 0이 되면 while 반복을 탈출한다.\n",
    "while r > 0 :\n",
    "    r = high % low\n",
    "    high = low\n",
    "    low = r\n",
    "############# while r > 0\n",
    "\n",
    "l = (a * b) // high # 최소공배수를 계산한다.\n",
    "print(f'최대공약수는 {high}, 최소공배수는 {l}')"
   ]
  },
  {
   "cell_type": "code",
   "execution_count": null,
   "id": "cff4e5a9",
   "metadata": {},
   "outputs": [],
   "source": []
  },
  {
   "cell_type": "code",
   "execution_count": null,
   "id": "c212cffa",
   "metadata": {},
   "outputs": [],
   "source": []
  },
  {
   "cell_type": "code",
   "execution_count": null,
   "id": "0f99d397",
   "metadata": {},
   "outputs": [],
   "source": []
  },
  {
   "cell_type": "code",
   "execution_count": null,
   "id": "d339ace6",
   "metadata": {},
   "outputs": [],
   "source": []
  },
  {
   "cell_type": "code",
   "execution_count": null,
   "id": "bc3a758e",
   "metadata": {},
   "outputs": [],
   "source": []
  },
  {
   "cell_type": "code",
   "execution_count": null,
   "id": "f11c4dce",
   "metadata": {},
   "outputs": [],
   "source": []
  },
  {
   "cell_type": "code",
   "execution_count": null,
   "id": "850dc634",
   "metadata": {},
   "outputs": [],
   "source": []
  },
  {
   "cell_type": "code",
   "execution_count": null,
   "id": "00ceb505",
   "metadata": {},
   "outputs": [],
   "source": []
  },
  {
   "cell_type": "code",
   "execution_count": null,
   "id": "740dbc67",
   "metadata": {},
   "outputs": [],
   "source": []
  },
  {
   "cell_type": "code",
   "execution_count": null,
   "id": "33a354b6",
   "metadata": {},
   "outputs": [],
   "source": []
  },
  {
   "cell_type": "code",
   "execution_count": null,
   "id": "a7655b4d",
   "metadata": {},
   "outputs": [],
   "source": []
  },
  {
   "cell_type": "code",
   "execution_count": null,
   "id": "74e9003d",
   "metadata": {},
   "outputs": [],
   "source": []
  },
  {
   "cell_type": "code",
   "execution_count": null,
   "id": "54eece0b",
   "metadata": {},
   "outputs": [],
   "source": []
  },
  {
   "cell_type": "code",
   "execution_count": null,
   "id": "fe3d7da9",
   "metadata": {},
   "outputs": [],
   "source": []
  }
 ],
 "metadata": {
  "kernelspec": {
   "display_name": "Python 3",
   "language": "python",
   "name": "python3"
  },
  "language_info": {
   "codemirror_mode": {
    "name": "ipython",
    "version": 3
   },
   "file_extension": ".py",
   "mimetype": "text/x-python",
   "name": "python",
   "nbconvert_exporter": "python",
   "pygments_lexer": "ipython3",
   "version": "3.6.8"
  }
 },
 "nbformat": 4,
 "nbformat_minor": 5
}

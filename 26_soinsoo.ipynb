{
 "cells": [
  {
   "cell_type": "markdown",
   "id": "0810aa2d",
   "metadata": {},
   "source": [
    "소인수 분해\n",
    "\n",
    "<img src=\"./soinsoo3.png\" width=\"700px\" align=\"left\"/>\n"
   ]
  },
  {
   "cell_type": "markdown",
   "id": "02ec59ca",
   "metadata": {},
   "source": [
    "<img src=\"./soinsoo1.png\" width=\"500px\" align=\"left\"/>"
   ]
  },
  {
   "cell_type": "markdown",
   "id": "69a0b4f5",
   "metadata": {},
   "source": [
    "<img src=\"./soinsoo2.png\" width=\"500px\" align=\"left\"/>"
   ]
  },
  {
   "cell_type": "code",
   "execution_count": null,
   "id": "edd6b394",
   "metadata": {},
   "outputs": [
    {
     "name": "stdout",
     "output_type": "stream",
     "text": [
      "소인수분해할 숫자를 입력 : 132\n",
      "입력 : 132 -> 출력 : 2 * 2 * 3 * 11\n"
     ]
    }
   ],
   "source": [
    "# 소인수분해가 불가능한 숫자가 입력될 때까지 실행해야 하기때문에 무한 루프를 돌려 처리한다.\n",
    "while True : \n",
    "    n = int (input ('소인수분해할 숫자를 입력 : '))\n",
    "    if n < 2 :\n",
    "        print('2보다 작으면 소인수분해 불가')\n",
    "        break\n",
    "    ######### if n < 2\n",
    "    # 2 이상인 숫가가 입력되었으므로 소인수분해를 실행한다.\n",
    "    s = [] # 분해된 소인수를 기억할 빈 리스트를 선언한다.\n",
    "    c = 0 # 소인수의 갯수를 기억할 변수를 선언하고 초기화한다.\n",
    "    number = n # 소인수분해 결과를 출력하기 위해 입력받은 숫자를 number라는 변수에 보관한다.\n",
    "    \n",
    "    # 소인수분해를 시작한다.\n",
    "    # 소인수분해를 하기위해서 입력된 숫자(n)의 크기에 따라서 반복 횟수가 달라지므로 무한 루프를 돌려 처리한다.\n",
    "    while True :\n",
    "        k = 2 # 소인수분해를 시작할 수를 초기화시킨다. 1은 모든 수를 나눠서 떨어뜨릴 수 있으므로 2부터 시작한다.\n",
    "        while True :\n",
    "            r = n % k\n",
    "            if r == 0 : # 소인수분해가 되었는가?\n",
    "                break\n",
    "            ########  if\n",
    "            else :\n",
    "                k += 1 # 소인수 분해가 안되면 k값을 1증가시킨다.\n",
    "        ###################### while True 3\n",
    "        c += 1 # 소인수분해가 되었으면 소인수의 갯수를 1증가시킨다. -> 소인수의 갯수가 1개면 n은 소수이다.\n",
    "        s.append(k) # 발생된 소인수를 리스트에 저장한다.\n",
    "        # 다음 소인수를 계산하기 위해서 소인수분해되고 남은 숫자(몫)을 다시 n에 저장한다.\n",
    "        n //= k\n",
    "        if n == 1 : # 소인수분해가 끝났는가?\n",
    "            break\n",
    "        ##############  if\n",
    "    ############ while True 2\n",
    "    \n",
    "    # 소인수분해를 하기위해서 입력한 숫자가 소수인가 비교한다.\n",
    "    if  c == 1 : # 소수인가?\n",
    "        print(f'입력 : {number} -> 출력 : 소수')\n",
    "    else :\n",
    "        print(f'입력 : {number} -> 출력 : ', end='')\n",
    "        for i in range(c - 1) :\n",
    "            print(s[i], end=' * ')\n",
    "        ###########  for\n",
    "        print(s[-1])\n",
    "    ###################   if\n",
    "########## while True 1\n",
    "print(f'입력 : {n} -> 출력 : 프로그램 종료')"
   ]
  },
  {
   "cell_type": "code",
   "execution_count": null,
   "id": "3c4441d4",
   "metadata": {},
   "outputs": [],
   "source": []
  },
  {
   "cell_type": "code",
   "execution_count": null,
   "id": "542e5201",
   "metadata": {},
   "outputs": [],
   "source": []
  },
  {
   "cell_type": "code",
   "execution_count": null,
   "id": "5dd6e99c",
   "metadata": {},
   "outputs": [],
   "source": []
  },
  {
   "cell_type": "code",
   "execution_count": null,
   "id": "fd23d272",
   "metadata": {},
   "outputs": [],
   "source": []
  },
  {
   "cell_type": "code",
   "execution_count": null,
   "id": "60ba2a1c",
   "metadata": {},
   "outputs": [],
   "source": []
  },
  {
   "cell_type": "code",
   "execution_count": null,
   "id": "b004615a",
   "metadata": {},
   "outputs": [],
   "source": []
  },
  {
   "cell_type": "code",
   "execution_count": null,
   "id": "2458d761",
   "metadata": {},
   "outputs": [],
   "source": []
  },
  {
   "cell_type": "code",
   "execution_count": null,
   "id": "1f5927fa",
   "metadata": {},
   "outputs": [],
   "source": []
  },
  {
   "cell_type": "code",
   "execution_count": null,
   "id": "36811040",
   "metadata": {},
   "outputs": [],
   "source": []
  },
  {
   "cell_type": "code",
   "execution_count": null,
   "id": "ce07ec7a",
   "metadata": {},
   "outputs": [],
   "source": []
  },
  {
   "cell_type": "code",
   "execution_count": null,
   "id": "7a6f0917",
   "metadata": {},
   "outputs": [],
   "source": []
  },
  {
   "cell_type": "code",
   "execution_count": null,
   "id": "9bc32827",
   "metadata": {},
   "outputs": [],
   "source": []
  },
  {
   "cell_type": "code",
   "execution_count": null,
   "id": "d175bbd1",
   "metadata": {},
   "outputs": [],
   "source": []
  },
  {
   "cell_type": "code",
   "execution_count": null,
   "id": "4c35074d",
   "metadata": {},
   "outputs": [],
   "source": []
  }
 ],
 "metadata": {
  "kernelspec": {
   "display_name": "Python 3",
   "language": "python",
   "name": "python3"
  },
  "language_info": {
   "codemirror_mode": {
    "name": "ipython",
    "version": 3
   },
   "file_extension": ".py",
   "mimetype": "text/x-python",
   "name": "python",
   "nbconvert_exporter": "python",
   "pygments_lexer": "ipython3",
   "version": "3.6.8"
  }
 },
 "nbformat": 4,
 "nbformat_minor": 5
}

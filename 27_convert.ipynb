{
 "cells": [
  {
   "cell_type": "markdown",
   "id": "779dafcd",
   "metadata": {},
   "source": [
    "진법 변환  \n",
    "\n",
    "\n",
    "<img src=\"./convert.png\" width=\"800px\" align=\"left\"/>"
   ]
  },
  {
   "cell_type": "markdown",
   "id": "d68f0f84",
   "metadata": {},
   "source": [
    "10진수를 2진수로 : 26<sub>(10)</sub> -> 11010<sub>(2)</sub>\n"
   ]
  },
  {
   "cell_type": "code",
   "execution_count": 5,
   "id": "b04ad47d",
   "metadata": {},
   "outputs": [
    {
     "name": "stdout",
     "output_type": "stream",
     "text": [
      "10진수를 입력하세요 : 26\n",
      "[0, 1, 0, 1, 1]\n",
      "11010"
     ]
    }
   ],
   "source": [
    "dec = int(input('10진수를 입력하세요 : '))\n",
    "b = [] # 10진수가 2진수로 변환된 결과를 기억할 빈 리스트를 선언한다.\n",
    "# 입력되는 10진수의 크기에 따라 반복횟수가 달라지므로 무한루프를 돌려서 처리한다.\n",
    "while True:\n",
    "    m = dec // 2 # 10진수를 2로 나눈 몫\n",
    "    r = dec % 2 # 10진수를 2로 나눈 나머지를 계산한다.\n",
    "    b.append(r) # 나머지를 2진수로 변환된 결과를 기억할 리스트에 저장한다.\n",
    "    # 몫이 0이되면 진법 변환이 완료된 것이므로 무한루프를 탈출한다.\n",
    "    if m == 0 :\n",
    "        break\n",
    "    ############ if\n",
    "    # 다음 계산을 위해서 dec를 몫으로 수정한다.\n",
    "    dec = m\n",
    "#############  while True\n",
    "print(b)\n",
    "# print(b[::-1])\n",
    "# b.reverse()\n",
    "# print(b)\n",
    "for i in range(len(b) - 1, -1, -1) :\n",
    "    print(b[i], end='')\n"
   ]
  },
  {
   "cell_type": "markdown",
   "id": "9e2ff168",
   "metadata": {},
   "source": [
    "10진수를 8진수로 : 26<sub>(10)</sub> -> 32<sub>(8)</sub>"
   ]
  },
  {
   "cell_type": "code",
   "execution_count": 6,
   "id": "e8160d6b",
   "metadata": {},
   "outputs": [
    {
     "name": "stdout",
     "output_type": "stream",
     "text": [
      "10진수를 입력하세요 : 26\n",
      "[2, 3]\n",
      "32"
     ]
    }
   ],
   "source": [
    "dec = int(input('10진수를 입력하세요 : '))\n",
    "o = [] # 10진수가 8진수로 변환된 결과를 기억할 빈 리스트를 선언한다.\n",
    "while True:\n",
    "    m = dec // 8 # 10진수를 8로 나눈 몫\n",
    "    r = dec % 8 # 10진수를 8로 나눈 나머지를 계산한다.\n",
    "    o.append(r) # 나머지를 8진수로 변환된 결과를 기억할 리스트에 저장한다.\n",
    "    # 몫이 0이되면 진법 변환이 완료된 것이므로 무한루프를 탈출한다.\n",
    "    if m == 0 :\n",
    "        break\n",
    "    ############ if\n",
    "    dec = m\n",
    "#############  while True\n",
    "print(o)\n",
    "for i in range(len(o) - 1, -1, -1) :\n",
    "    print(o[i], end='')\n"
   ]
  },
  {
   "cell_type": "markdown",
   "id": "0816a733",
   "metadata": {},
   "source": [
    "10진수를 8진수로 : 26<sub>(10)</sub> -> 1A<sub>(16)</sub>"
   ]
  },
  {
   "cell_type": "code",
   "execution_count": 9,
   "id": "dc98addd",
   "metadata": {},
   "outputs": [
    {
     "name": "stdout",
     "output_type": "stream",
     "text": [
      "10진수를 입력하세요 : 4095\n",
      "[15, 15, 15]\n",
      "FFF"
     ]
    }
   ],
   "source": [
    "dec = int(input('10진수를 입력하세요 : '))\n",
    "h = [] # 10진수가 16진수로 변환된 결과를 기억할 빈 리스트를 선언한다.\n",
    "# 16진수를 기억하는 리스트 또는 튜플을 만든다.\n",
    "hex16 = '0', '1', '2', '3', '4', '5', '6', '7', '8', '9', 'A', 'B', 'C', 'D', 'E', 'F'\n",
    "while True:\n",
    "    m = dec // 16 # 10진수를 16로 나눈 몫\n",
    "    r = dec % 16 # 10진수를 16로 나눈 나머지를 계산한다.\n",
    "    h.append(r) # 나머지를 16진수로 변환된 결과를 기억할 리스트에 저장한다.\n",
    "    # 몫이 0이되면 진법 변환이 완료된 것이므로 무한루프를 탈출한다.\n",
    "    if m == 0 :\n",
    "        break\n",
    "    ############ if\n",
    "    dec = m\n",
    "#############  while True\n",
    "print(h)\n",
    "for i in range(len(h) - 1, -1, -1) :\n",
    "    # print(h[i], end='') # 110\n",
    "    print(hex16[h[i]], end='') # 1A"
   ]
  },
  {
   "cell_type": "markdown",
   "id": "8a95ce8c",
   "metadata": {},
   "source": [
    "10진수를 n진수로"
   ]
  },
  {
   "cell_type": "code",
   "execution_count": 14,
   "id": "f50554f1",
   "metadata": {},
   "outputs": [
    {
     "name": "stdout",
     "output_type": "stream",
     "text": [
      "A\n",
      "A B C D E F\n"
     ]
    }
   ],
   "source": [
    "print(chr(65))\n",
    "print(chr(10 + 55), chr(11 + 55), chr(12 + 55), chr(13 + 55), chr(14 + 55), chr(15 + 55))"
   ]
  },
  {
   "cell_type": "code",
   "execution_count": 32,
   "id": "89562e52",
   "metadata": {},
   "outputs": [
    {
     "name": "stdout",
     "output_type": "stream",
     "text": [
      "10진수와 변환할 진법을 입력하세요 : 35 37\n",
      "[35]\n",
      "Z"
     ]
    }
   ],
   "source": [
    "dec, n = map(int, input('10진수와 변환할 진법을 입력하세요 : ').split())\n",
    "c = [] # 10진수가 16진수로 변환된 결과를 기억할 빈 리스트를 선언한다.\n",
    "while True:\n",
    "    m = dec // n # 10진수를 n로 나눈 몫\n",
    "    r = dec % n # 10진수를 n로 나눈 나머지를 계산한다.\n",
    "    c.append(r) # 나머지를 n진수로 변환된 결과를 기억할 리스트에 저장한다.\n",
    "    # 몫이 0이되면 진법 변환이 완료된 것이므로 무한루프를 탈출한다.\n",
    "    if m == 0 :\n",
    "        break\n",
    "    ############ if\n",
    "    dec = m\n",
    "#############  while True\n",
    "print(c)\n",
    "for i in range(len(c) - 1, -1, -1) :\n",
    "    # chr() 함수는 인수로 지정된 코드값에 해당되믄 문자를 리턴한다.\n",
    "    print(c[i] if c[i] < 10 else chr(c[i] + 55), end='')"
   ]
  },
  {
   "cell_type": "code",
   "execution_count": 31,
   "id": "b704ac58",
   "metadata": {},
   "outputs": [
    {
     "name": "stdout",
     "output_type": "stream",
     "text": [
      "['0', '1', '2', '3', '4', '5', '6', '7', '8', '9']\n",
      "['A', 'B', 'C', 'D', 'E', 'F', 'G', 'H', 'I', 'J', 'K', 'L', 'M', 'N', 'O', 'P', 'Q', 'R', 'S', 'T', 'U', 'V', 'W', 'X', 'Y', 'Z']\n",
      "['0', '1', '2', '3', '4', '5', '6', '7', '8', '9', 'A', 'B', 'C', 'D', 'E', 'F', 'G', 'H', 'I', 'J', 'K', 'L', 'M', 'N', 'O', 'P', 'Q', 'R', 'S', 'T', 'U', 'V', 'W', 'X', 'Y', 'Z']\n"
     ]
    }
   ],
   "source": [
    "a = [chr(i) for i in range(48, 58)]\n",
    "print(a)\n",
    "b = [chr(i) for i in range (65, 91)]\n",
    "print(b)\n",
    "c = a + b\n",
    "print(c)"
   ]
  },
  {
   "cell_type": "code",
   "execution_count": null,
   "id": "c3aaf05a",
   "metadata": {},
   "outputs": [],
   "source": []
  },
  {
   "cell_type": "code",
   "execution_count": null,
   "id": "d40a06e3",
   "metadata": {},
   "outputs": [],
   "source": []
  },
  {
   "cell_type": "code",
   "execution_count": null,
   "id": "20164719",
   "metadata": {},
   "outputs": [],
   "source": []
  },
  {
   "cell_type": "code",
   "execution_count": null,
   "id": "5d5a47c1",
   "metadata": {},
   "outputs": [],
   "source": []
  },
  {
   "cell_type": "code",
   "execution_count": null,
   "id": "8c9c7ec9",
   "metadata": {},
   "outputs": [],
   "source": []
  },
  {
   "cell_type": "code",
   "execution_count": null,
   "id": "4a43f1aa",
   "metadata": {},
   "outputs": [],
   "source": []
  },
  {
   "cell_type": "code",
   "execution_count": null,
   "id": "296fca70",
   "metadata": {},
   "outputs": [],
   "source": []
  },
  {
   "cell_type": "code",
   "execution_count": null,
   "id": "31458223",
   "metadata": {},
   "outputs": [],
   "source": []
  },
  {
   "cell_type": "code",
   "execution_count": null,
   "id": "c56cb10e",
   "metadata": {},
   "outputs": [],
   "source": []
  },
  {
   "cell_type": "code",
   "execution_count": null,
   "id": "308d58d9",
   "metadata": {},
   "outputs": [],
   "source": []
  },
  {
   "cell_type": "code",
   "execution_count": null,
   "id": "1d09ed13",
   "metadata": {},
   "outputs": [],
   "source": []
  },
  {
   "cell_type": "code",
   "execution_count": null,
   "id": "6b25e9ed",
   "metadata": {},
   "outputs": [],
   "source": []
  },
  {
   "cell_type": "code",
   "execution_count": null,
   "id": "d9f0ba59",
   "metadata": {},
   "outputs": [],
   "source": []
  },
  {
   "cell_type": "code",
   "execution_count": null,
   "id": "809118b5",
   "metadata": {},
   "outputs": [],
   "source": []
  },
  {
   "cell_type": "code",
   "execution_count": null,
   "id": "82b29ad9",
   "metadata": {},
   "outputs": [],
   "source": []
  },
  {
   "cell_type": "code",
   "execution_count": null,
   "id": "3a7345b3",
   "metadata": {},
   "outputs": [],
   "source": []
  },
  {
   "cell_type": "code",
   "execution_count": null,
   "id": "6ad4974c",
   "metadata": {},
   "outputs": [],
   "source": []
  },
  {
   "cell_type": "code",
   "execution_count": null,
   "id": "ef129865",
   "metadata": {},
   "outputs": [],
   "source": []
  }
 ],
 "metadata": {
  "kernelspec": {
   "display_name": "Python 3",
   "language": "python",
   "name": "python3"
  },
  "language_info": {
   "codemirror_mode": {
    "name": "ipython",
    "version": 3
   },
   "file_extension": ".py",
   "mimetype": "text/x-python",
   "name": "python",
   "nbconvert_exporter": "python",
   "pygments_lexer": "ipython3",
   "version": "3.6.8"
  }
 },
 "nbformat": 4,
 "nbformat_minor": 5
}

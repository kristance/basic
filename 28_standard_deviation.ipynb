{
 "cells": [
  {
   "cell_type": "markdown",
   "id": "7c6193e0",
   "metadata": {},
   "source": [
    "분산, 표준편차  \n",
    "\n",
    "n의 데이터(999가 입력되기 전까지)를 입력받아 최대값과 최소값을 제외한 나머지 데이터의 표준편차를 계산하는 프로그램  \n",
    "***\n",
    "표준편차 공식  \n",
    "$$\\sqrt{\\frac{\\sum_{i=1}^{n-2}(x_i - \\bar{x})^2}{n - 2}}$$\n",
    "\n",
    "<img src=\"./standard_deviation.png\" width=\"700px\">"
   ]
  },
  {
   "cell_type": "markdown",
   "id": "69fecc1f",
   "metadata": {},
   "source": [
    "999가 입력되기 전까지 데이터를 입력받기"
   ]
  },
  {
   "cell_type": "code",
   "execution_count": 1,
   "id": "88414aec",
   "metadata": {},
   "outputs": [
    {
     "name": "stdout",
     "output_type": "stream",
     "text": [
      "n : 1\n",
      "n : 2\n",
      "n : 999\n",
      "[1, 2]\n"
     ]
    }
   ],
   "source": [
    "data = []\n",
    "while True : \n",
    "    n = int(input('n : '))\n",
    "    if n == 999 :\n",
    "        break;\n",
    "    data.append(n)\n",
    "    ########## if n\n",
    "print(data)\n",
    "############# while True"
   ]
  },
  {
   "cell_type": "markdown",
   "id": "e54c63bb",
   "metadata": {},
   "source": [
    "최대값, 최소값 판단하기 -> 최대값을 기억할 변수는 아주 작은 값을, 최소값을 기억할 변수는 아주 큰 값을 초기치로 넣어주고 비교한다."
   ]
  },
  {
   "cell_type": "code",
   "execution_count": 9,
   "id": "f76a566d",
   "metadata": {},
   "outputs": [
    {
     "name": "stdout",
     "output_type": "stream",
     "text": [
      "91: 최대값, 35 : 최소값\n"
     ]
    }
   ],
   "source": [
    "# data = [35, 91, 75, 62, 84]\n",
    "data = [35, 62, 75, 84, 91]\n",
    "big = 0\n",
    "small = 100\n",
    "for i in range(len(data)) :\n",
    "    if big < data[i] :\n",
    "        big = data[i]\n",
    "    #######\n",
    "    if small > data[i] :\n",
    "        small = data[i]\n",
    "    #######\n",
    "########\n",
    "print(f'{big}: 최대값, {small} : 최소값')"
   ]
  },
  {
   "cell_type": "code",
   "execution_count": 10,
   "id": "64428fd1",
   "metadata": {},
   "outputs": [
    {
     "name": "stdout",
     "output_type": "stream",
     "text": [
      "91: 최대값, 35 : 최소값\n"
     ]
    }
   ],
   "source": [
    "data = [35, 62, 75, 84, 91]\n",
    "big = 0\n",
    "small = 100\n",
    "for score in data :\n",
    "    if big < score :\n",
    "        big = score\n",
    "    #######\n",
    "    if small > score :\n",
    "        small = score\n",
    "    #######\n",
    "########\n",
    "print(f'{big}: 최대값, {small} : 최소값')"
   ]
  },
  {
   "cell_type": "markdown",
   "id": "d01d4744",
   "metadata": {},
   "source": [
    "최대값, 최소값 판단하기 -> 최대값과 최소값을 기억할 변수는 각각 리스트의 0번째 인덱스의 값을 초기치로 넣어주고 비교한다.\n"
   ]
  },
  {
   "cell_type": "code",
   "execution_count": 11,
   "id": "5e3d3aab",
   "metadata": {},
   "outputs": [
    {
     "name": "stdout",
     "output_type": "stream",
     "text": [
      "91: 최대값, 35 : 최소값\n"
     ]
    }
   ],
   "source": [
    "# data = [35, 91, 75, 62, 84]\n",
    "data = [35, 62, 75, 84, 91]\n",
    "big = data[0]\n",
    "small = data[0]\n",
    "for i in range(1, len(data)) :\n",
    "    if big < data[i] :\n",
    "        big = data[i]\n",
    "    #######\n",
    "    if small > data[i] :\n",
    "        small = data[i]\n",
    "    #######\n",
    "########\n",
    "print(f'{big}: 최대값, {small} : 최소값')"
   ]
  },
  {
   "cell_type": "code",
   "execution_count": 16,
   "id": "d6197cbc",
   "metadata": {},
   "outputs": [
    {
     "name": "stdout",
     "output_type": "stream",
     "text": [
      "91: 최대값, 35 : 최소값\n"
     ]
    }
   ],
   "source": [
    "data = [35, 62, 75, 84, 91]\n",
    "big = data[0]\n",
    "small = data[0]\n",
    "for score in data[1:] :\n",
    "    if big < score :\n",
    "        big = score\n",
    "    #######\n",
    "    if small > score :\n",
    "        small = score\n",
    "    #######\n",
    "########\n",
    "print(f'{big}: 최대값, {small} : 최소값')"
   ]
  },
  {
   "cell_type": "markdown",
   "id": "d56de914",
   "metadata": {},
   "source": [
    "max(), min() 함수로 최대값, 최소값 판단하기"
   ]
  },
  {
   "cell_type": "code",
   "execution_count": 17,
   "id": "b2c6f574",
   "metadata": {},
   "outputs": [
    {
     "name": "stdout",
     "output_type": "stream",
     "text": [
      "91: 최대값, 35 : 최소값\n"
     ]
    }
   ],
   "source": [
    "data = [35, 62, 75, 84, 91]\n",
    "print(f'{max(data)}: 최대값, {min(data)} : 최소값')"
   ]
  },
  {
   "cell_type": "markdown",
   "id": "65b13e15",
   "metadata": {},
   "source": [
    "데이터를 정렬시켜서 최대값, 최소값 판단하기"
   ]
  },
  {
   "cell_type": "code",
   "execution_count": 24,
   "id": "c25540ee",
   "metadata": {},
   "outputs": [
    {
     "name": "stdout",
     "output_type": "stream",
     "text": [
      "[35, 62, 75, 84, 91]\n",
      "91: 최대값, 35 : 최소값\n",
      "[91, 84, 75, 62, 35]\n",
      "91: 최대값, 35 : 최소값\n"
     ]
    }
   ],
   "source": [
    "data = [35, 91, 75, 62, 84]\n",
    "data.sort() # 오름차순\n",
    "print(data)\n",
    "print(f'{data[-1]}: 최대값, {data[0]} : 최소값')\n",
    "\n",
    "data = [35, 91, 75, 62, 84]\n",
    "data.sort(reverse=True) # 내림차순\n",
    "print(data)\n",
    "print(f'{data[0]}: 최대값, {data[-1]} : 최소값')"
   ]
  },
  {
   "cell_type": "markdown",
   "id": "fcc85d4c",
   "metadata": {},
   "source": [
    "표준편차를 계산할 데이터를 입력받는다."
   ]
  },
  {
   "cell_type": "code",
   "execution_count": 39,
   "id": "24badf73",
   "metadata": {},
   "outputs": [
    {
     "name": "stdout",
     "output_type": "stream",
     "text": [
      "1번째 표준편차를 계산할 데이터를 입력 : 1\n",
      "2번째 표준편차를 계산할 데이터를 입력 : 2\n",
      "3번째 표준편차를 계산할 데이터를 입력 : 3\n",
      "4번째 표준편차를 계산할 데이터를 입력 : 4\n",
      "5번째 표준편차를 계산할 데이터를 입력 : 5\n",
      "6번째 표준편차를 계산할 데이터를 입력 : 999\n",
      "입력받은 데이터는 5개이고 데이터는 [1, 2, 3, 4, 5]입니다.\n"
     ]
    }
   ],
   "source": [
    "# 표준편차를 계산할 데이터를 999가 입력될 때까지 입력받는다.\n",
    "score = []\n",
    "# 999가 몇번째 데이터로 입력될지 모르기때문에 무한 루프를 돌린다.\n",
    "while True :\n",
    "    data = int(input('{}번째 표준편차를 계산할 데이터를 입력 : '.format(len(score) + 1)))\n",
    "    # 입력받은 데이터가 999면 더이상 데이터를 입력받을 필요없으므로 무한루프를 탈출한다.\n",
    "    if data == 999 :\n",
    "        break\n",
    "    ######### if\n",
    "    # 999가 입력되지 않았으므로 리스트에 입력받은 데이터를 추가한다.\n",
    "    score.append(data)\n",
    "############# while True\n",
    "print(f'입력받은 데이터는 {len(score)}개이고 데이터는 {score}입니다.')"
   ]
  },
  {
   "cell_type": "markdown",
   "id": "e7eef4c7",
   "metadata": {},
   "source": [
    "최대값과 최소값을 제외한 나머지 데이터의 평균을 계산한다."
   ]
  },
  {
   "cell_type": "code",
   "execution_count": 44,
   "id": "cd9215d6",
   "metadata": {},
   "outputs": [
    {
     "name": "stdout",
     "output_type": "stream",
     "text": [
      "최대값과 최소값을 제외한 나머지 데이터의 합계 : 9\n",
      "최대값과 최소값을 제외한 나머지 데이터의 평균 : 3.0\n"
     ]
    }
   ],
   "source": [
    "big = max(score)\n",
    "small = min(score)\n",
    "'''\n",
    "total = 0\n",
    "for s in score : \n",
    "    total += s\n",
    "########\n",
    "# total = total - big - small\n",
    "total -= big + small\n",
    "'''\n",
    "total = sum(score) - big - small\n",
    "print(f'최대값과 최소값을 제외한 나머지 데이터의 합계 : {total}')\n",
    "mean = total / (len(score) - 2)\n",
    "print(f'최대값과 최소값을 제외한 나머지 데이터의 평균 : {mean}')\n"
   ]
  },
  {
   "cell_type": "code",
   "execution_count": 51,
   "id": "b1f784c5",
   "metadata": {},
   "outputs": [
    {
     "name": "stdout",
     "output_type": "stream",
     "text": [
      "[1, 2, 3, 4, 5]\n",
      "최대값과 최소값을 제외한 나머지 데이터의 합계 : 9\n",
      "최대값과 최소값을 제외한 나머지 데이터의 평균 : 3.0\n"
     ]
    }
   ],
   "source": [
    "score.sort()\n",
    "print(score)\n",
    "'''\n",
    "total = 0\n",
    "# for s in score[1 : (len(score) - 1)] :\n",
    "for s in score[1 : -1] :\n",
    "    total += s\n",
    "#######\n",
    "'''\n",
    "total = sum(score[1:-1])\n",
    "print(f'최대값과 최소값을 제외한 나머지 데이터의 합계 : {total}')\n",
    "mean = total / (len(score) - 2)\n",
    "print(f'최대값과 최소값을 제외한 나머지 데이터의 평균 : {mean}')\n"
   ]
  },
  {
   "cell_type": "markdown",
   "id": "f2eb83f5",
   "metadata": {},
   "source": [
    "최대값과 최소값을 제외한 나머지 데이터와 산술평균의 편차의 제곱의 합계를 계산한다."
   ]
  },
  {
   "cell_type": "code",
   "execution_count": 65,
   "id": "d7e9ce56",
   "metadata": {},
   "outputs": [],
   "source": [
    "import math"
   ]
  },
  {
   "cell_type": "code",
   "execution_count": 66,
   "id": "d850127a",
   "metadata": {},
   "outputs": [
    {
     "name": "stdout",
     "output_type": "stream",
     "text": [
      "최대값과 최소값을 제외한 나머지 데이터의 산술평균의 편차의 제곱의 합계 : 2.0\n"
     ]
    }
   ],
   "source": [
    "total = 0\n",
    "for s in score[1:-1] :\n",
    "    #total += (s - mean) * (s - mean)\n",
    "    #total += (s - mean) ** 2\n",
    "    total += math.pow(s - mean, 2)\n",
    "print(f'최대값과 최소값을 제외한 나머지 데이터의 산술평균의 편차의 제곱의 합계 : {total}')"
   ]
  },
  {
   "cell_type": "markdown",
   "id": "8eee557f",
   "metadata": {},
   "source": [
    "최대값과 최소값을 제외한 나머지 데이터의 분산과 표준편차를 계산한다"
   ]
  },
  {
   "cell_type": "code",
   "execution_count": 70,
   "id": "a028848d",
   "metadata": {},
   "outputs": [
    {
     "name": "stdout",
     "output_type": "stream",
     "text": [
      "최대값과 최소값을 제외한 나머지 데이터의 분산 : 0.6666666666666666\n",
      "최대값과 최소값을 제외한 나머지 데이터의 표준편차 : 0.816496580927726\n"
     ]
    }
   ],
   "source": [
    "var = total / (len(score) - 2)\n",
    "print(f'최대값과 최소값을 제외한 나머지 데이터의 분산 : {var}')\n",
    "#std = var ** 0.5\n",
    "std = math.sqrt(var)\n",
    "print(f'최대값과 최소값을 제외한 나머지 데이터의 표준편차 : {std}')"
   ]
  },
  {
   "cell_type": "markdown",
   "id": "0e00d8a3",
   "metadata": {},
   "source": [
    "numpy 라이브러리를 이용해서 분산과 표준편차 계산하기\n",
    "\n",
    "numpy는 파이썬을 설치할 때 같이 설치되는 라이브러리가 아니기때문에 별도로 설치하는 과정이 필요하다.  \n",
    "콘솔창에서는 pip install numpy와 같이 입력해서 설치하면 되고 jupyter notebook에서 외부 라이브러리를 설치하려면 !pip install numpy와 같이 pip 앞에 '!'를  \n",
    "붙여서 실행하면 된다.  "
   ]
  },
  {
   "cell_type": "code",
   "execution_count": 71,
   "id": "4db949e1",
   "metadata": {},
   "outputs": [
    {
     "name": "stdout",
     "output_type": "stream",
     "text": [
      "Requirement already satisfied: numpy in c:\\python\\lib\\site-packages (1.19.5)\n"
     ]
    }
   ],
   "source": [
    "!pip install numpy"
   ]
  },
  {
   "cell_type": "code",
   "execution_count": 72,
   "id": "a143727d",
   "metadata": {},
   "outputs": [],
   "source": [
    "import numpy as np"
   ]
  },
  {
   "cell_type": "code",
   "execution_count": 73,
   "id": "74c597df",
   "metadata": {},
   "outputs": [
    {
     "name": "stdout",
     "output_type": "stream",
     "text": [
      "최대값과 최소값을 제외한 나머지 데이터의 분산 : 0.6666666666666666\n",
      "최대값과 최소값을 제외한 나머지 데이터의 표준편차 : 0.816496580927726\n"
     ]
    }
   ],
   "source": [
    "print(f'최대값과 최소값을 제외한 나머지 데이터의 분산 : {np.var(score[1:-1])}')\n",
    "print(f'최대값과 최소값을 제외한 나머지 데이터의 표준편차 : {np.std(score[1:-1])}')"
   ]
  },
  {
   "cell_type": "code",
   "execution_count": null,
   "id": "36c02c91",
   "metadata": {},
   "outputs": [],
   "source": []
  },
  {
   "cell_type": "code",
   "execution_count": null,
   "id": "48d5f3f6",
   "metadata": {},
   "outputs": [],
   "source": []
  },
  {
   "cell_type": "code",
   "execution_count": null,
   "id": "e8b88ef2",
   "metadata": {},
   "outputs": [],
   "source": []
  },
  {
   "cell_type": "code",
   "execution_count": null,
   "id": "5030c28d",
   "metadata": {},
   "outputs": [],
   "source": []
  },
  {
   "cell_type": "code",
   "execution_count": null,
   "id": "06bc4b29",
   "metadata": {},
   "outputs": [],
   "source": []
  },
  {
   "cell_type": "code",
   "execution_count": null,
   "id": "e371b4c8",
   "metadata": {},
   "outputs": [],
   "source": []
  },
  {
   "cell_type": "code",
   "execution_count": null,
   "id": "f2adcd66",
   "metadata": {},
   "outputs": [],
   "source": []
  },
  {
   "cell_type": "code",
   "execution_count": null,
   "id": "866c4f57",
   "metadata": {},
   "outputs": [],
   "source": []
  },
  {
   "cell_type": "code",
   "execution_count": null,
   "id": "d5ae44ee",
   "metadata": {},
   "outputs": [],
   "source": []
  },
  {
   "cell_type": "code",
   "execution_count": null,
   "id": "b6693020",
   "metadata": {},
   "outputs": [],
   "source": []
  }
 ],
 "metadata": {
  "kernelspec": {
   "display_name": "Python 3",
   "language": "python",
   "name": "python3"
  },
  "language_info": {
   "codemirror_mode": {
    "name": "ipython",
    "version": 3
   },
   "file_extension": ".py",
   "mimetype": "text/x-python",
   "name": "python",
   "nbconvert_exporter": "python",
   "pygments_lexer": "ipython3",
   "version": "3.6.8"
  }
 },
 "nbformat": 4,
 "nbformat_minor": 5
}

{
 "cells": [
  {
   "cell_type": "markdown",
   "id": "07594c09",
   "metadata": {},
   "source": [
    "디폴트 인수를 사용하는 함수 -> 변수이름 = 디폴트값"
   ]
  },
  {
   "cell_type": "code",
   "execution_count": 15,
   "id": "a69bb2bc",
   "metadata": {},
   "outputs": [],
   "source": [
    "#함수가 호출될 때 인수로 데이터가 넘어오면 넘어온 데이터로 함수로 실행하고, \n",
    "#데이터가 넘어오지 않으면 디폴트로 지정한 디폴트로 지정한 데이터로 함수를 실행한다.\n",
    "def func4 (a = 8, b = 6) :\n",
    "#일반인수와 디폴트 인술를 모두 사용할 경우 일반 인수가 인수 목록에 마지막에 위치하면 에러가 발생된다.\n",
    "#def func4 (a = 8, b) : #에러\n",
    "#함수를 선언할 때 디폴트 인수가 필요하다면 일반 인수를 모두 선언한 후 인수 목록의 뒤쪽에 선언한다.\n",
    "#def func4 (a, b = 6) : #정상\n",
    "    print(f'{a} + {b} = {a + b}')"
   ]
  },
  {
   "cell_type": "code",
   "execution_count": 11,
   "id": "2ff32c22",
   "metadata": {},
   "outputs": [
    {
     "name": "stdout",
     "output_type": "stream",
     "text": [
      "1 + 2 = 3\n"
     ]
    }
   ],
   "source": [
    "func4(1, 2)"
   ]
  },
  {
   "cell_type": "code",
   "execution_count": 16,
   "id": "c5e32b8c",
   "metadata": {},
   "outputs": [
    {
     "name": "stdout",
     "output_type": "stream",
     "text": [
      "8 + 6 = 14\n"
     ]
    }
   ],
   "source": [
    "func4()"
   ]
  },
  {
   "cell_type": "code",
   "execution_count": 20,
   "id": "c9e32c91",
   "metadata": {},
   "outputs": [
    {
     "name": "stdout",
     "output_type": "stream",
     "text": [
      "8 + 9 = 17\n"
     ]
    }
   ],
   "source": [
    "func4(9)"
   ]
  },
  {
   "cell_type": "code",
   "execution_count": 21,
   "id": "d02eac4f",
   "metadata": {},
   "outputs": [
    {
     "name": "stdout",
     "output_type": "stream",
     "text": [
      "8 + 9 = 17\n"
     ]
    }
   ],
   "source": [
    "func4(b=9)"
   ]
  },
  {
   "cell_type": "code",
   "execution_count": 28,
   "id": "78605549",
   "metadata": {},
   "outputs": [],
   "source": [
    "#데이터가 넘어오면 1부터 넘어온 데이터까지 합계를 계산하고 데이터가 넘어오지 않으면 100까지 합계를 계산하는 함수\n",
    "def func5(n = 100) :\n",
    "    total = 0;\n",
    "    for i in range(1, n + 1):\n",
    "        total += i\n",
    "    ####### for i\n",
    "    return total;\n",
    "####### func5()"
   ]
  },
  {
   "cell_type": "code",
   "execution_count": 29,
   "id": "4bdcff4f",
   "metadata": {},
   "outputs": [
    {
     "name": "stdout",
     "output_type": "stream",
     "text": [
      "55\n"
     ]
    }
   ],
   "source": [
    "print(func5(10)) #10이 n에 넘어가서 1 - 10의 합계가 계산된다."
   ]
  },
  {
   "cell_type": "code",
   "execution_count": 30,
   "id": "df653591",
   "metadata": {},
   "outputs": [
    {
     "name": "stdout",
     "output_type": "stream",
     "text": [
      "5050\n"
     ]
    }
   ],
   "source": [
    "print(func5()) #n에 넘어가는 데이터가 없으므로 디폴트로 지정된 1 - 100 합계가 계산된다."
   ]
  },
  {
   "cell_type": "code",
   "execution_count": null,
   "id": "d480647b",
   "metadata": {},
   "outputs": [],
   "source": []
  },
  {
   "cell_type": "code",
   "execution_count": null,
   "id": "36d05f11",
   "metadata": {},
   "outputs": [],
   "source": []
  },
  {
   "cell_type": "code",
   "execution_count": null,
   "id": "34fde7d6",
   "metadata": {},
   "outputs": [],
   "source": []
  },
  {
   "cell_type": "code",
   "execution_count": null,
   "id": "096754c4",
   "metadata": {},
   "outputs": [],
   "source": []
  },
  {
   "cell_type": "code",
   "execution_count": null,
   "id": "6dc9f714",
   "metadata": {},
   "outputs": [],
   "source": []
  },
  {
   "cell_type": "code",
   "execution_count": null,
   "id": "d271d181",
   "metadata": {},
   "outputs": [],
   "source": []
  },
  {
   "cell_type": "code",
   "execution_count": null,
   "id": "927fccaa",
   "metadata": {},
   "outputs": [],
   "source": []
  },
  {
   "cell_type": "code",
   "execution_count": null,
   "id": "fb80adbe",
   "metadata": {},
   "outputs": [],
   "source": []
  },
  {
   "cell_type": "code",
   "execution_count": null,
   "id": "2443a3ad",
   "metadata": {},
   "outputs": [],
   "source": []
  },
  {
   "cell_type": "code",
   "execution_count": null,
   "id": "dd787170",
   "metadata": {},
   "outputs": [],
   "source": []
  },
  {
   "cell_type": "code",
   "execution_count": null,
   "id": "d7c5b22c",
   "metadata": {},
   "outputs": [],
   "source": []
  },
  {
   "cell_type": "code",
   "execution_count": null,
   "id": "cd450dc7",
   "metadata": {},
   "outputs": [],
   "source": []
  },
  {
   "cell_type": "code",
   "execution_count": null,
   "id": "c2415a75",
   "metadata": {},
   "outputs": [],
   "source": []
  },
  {
   "cell_type": "code",
   "execution_count": null,
   "id": "cfef2de0",
   "metadata": {},
   "outputs": [],
   "source": []
  },
  {
   "cell_type": "code",
   "execution_count": null,
   "id": "0e3603e9",
   "metadata": {},
   "outputs": [],
   "source": []
  },
  {
   "cell_type": "code",
   "execution_count": null,
   "id": "0f9285c6",
   "metadata": {},
   "outputs": [],
   "source": []
  },
  {
   "cell_type": "code",
   "execution_count": null,
   "id": "a0e816e2",
   "metadata": {},
   "outputs": [],
   "source": []
  },
  {
   "cell_type": "code",
   "execution_count": null,
   "id": "b0c43755",
   "metadata": {},
   "outputs": [],
   "source": []
  }
 ],
 "metadata": {
  "kernelspec": {
   "display_name": "Python 3",
   "language": "python",
   "name": "python3"
  },
  "language_info": {
   "codemirror_mode": {
    "name": "ipython",
    "version": 3
   },
   "file_extension": ".py",
   "mimetype": "text/x-python",
   "name": "python",
   "nbconvert_exporter": "python",
   "pygments_lexer": "ipython3",
   "version": "3.6.8"
  }
 },
 "nbformat": 4,
 "nbformat_minor": 5
}

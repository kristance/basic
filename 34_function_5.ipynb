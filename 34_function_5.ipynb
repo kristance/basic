{
 "cells": [
  {
   "cell_type": "markdown",
   "id": "4ebda04d",
   "metadata": {},
   "source": [
    "디폴트 인수를 사용하는 함수로 함수 오버로딩 효과를 흉내낼 수 있지만, 인수가 많아지면 비효율적이다."
   ]
  },
  {
   "cell_type": "code",
   "execution_count": 9,
   "id": "5a0e8210",
   "metadata": {},
   "outputs": [],
   "source": [
    "def func6(a = 0, b = 0, c = 0, d = 0, e = 0, f = 0, g = 0) :\n",
    "    print('{}'.format(a + b + c + d + e + f + g))\n"
   ]
  },
  {
   "cell_type": "code",
   "execution_count": 7,
   "id": "78787de8",
   "metadata": {},
   "outputs": [
    {
     "name": "stdout",
     "output_type": "stream",
     "text": [
      "0\n",
      "1\n",
      "3\n",
      "6\n",
      "10\n",
      "15\n",
      "21\n",
      "28\n"
     ]
    },
    {
     "ename": "TypeError",
     "evalue": "func6() takes from 0 to 7 positional arguments but 8 were given",
     "output_type": "error",
     "traceback": [
      "\u001b[1;31m---------------------------------------------------------------------------\u001b[0m",
      "\u001b[1;31mTypeError\u001b[0m                                 Traceback (most recent call last)",
      "\u001b[1;32m<ipython-input-7-2dc681abefb4>\u001b[0m in \u001b[0;36m<module>\u001b[1;34m\u001b[0m\n\u001b[0;32m      7\u001b[0m \u001b[0mfunc6\u001b[0m\u001b[1;33m(\u001b[0m\u001b[1;36m1\u001b[0m\u001b[1;33m,\u001b[0m \u001b[1;36m2\u001b[0m\u001b[1;33m,\u001b[0m \u001b[1;36m3\u001b[0m\u001b[1;33m,\u001b[0m \u001b[1;36m4\u001b[0m\u001b[1;33m,\u001b[0m \u001b[1;36m5\u001b[0m\u001b[1;33m,\u001b[0m \u001b[1;36m6\u001b[0m\u001b[1;33m)\u001b[0m\u001b[1;33m\u001b[0m\u001b[1;33m\u001b[0m\u001b[0m\n\u001b[0;32m      8\u001b[0m \u001b[0mfunc6\u001b[0m\u001b[1;33m(\u001b[0m\u001b[1;36m1\u001b[0m\u001b[1;33m,\u001b[0m \u001b[1;36m2\u001b[0m\u001b[1;33m,\u001b[0m \u001b[1;36m3\u001b[0m\u001b[1;33m,\u001b[0m \u001b[1;36m4\u001b[0m\u001b[1;33m,\u001b[0m \u001b[1;36m5\u001b[0m\u001b[1;33m,\u001b[0m \u001b[1;36m6\u001b[0m\u001b[1;33m,\u001b[0m \u001b[1;36m7\u001b[0m\u001b[1;33m)\u001b[0m\u001b[1;33m\u001b[0m\u001b[1;33m\u001b[0m\u001b[0m\n\u001b[1;32m----> 9\u001b[1;33m \u001b[0mfunc6\u001b[0m\u001b[1;33m(\u001b[0m\u001b[1;36m1\u001b[0m\u001b[1;33m,\u001b[0m \u001b[1;36m2\u001b[0m\u001b[1;33m,\u001b[0m \u001b[1;36m3\u001b[0m\u001b[1;33m,\u001b[0m \u001b[1;36m4\u001b[0m\u001b[1;33m,\u001b[0m \u001b[1;36m5\u001b[0m\u001b[1;33m,\u001b[0m \u001b[1;36m6\u001b[0m\u001b[1;33m,\u001b[0m \u001b[1;36m7\u001b[0m\u001b[1;33m,\u001b[0m \u001b[1;36m8\u001b[0m\u001b[1;33m)\u001b[0m\u001b[1;33m\u001b[0m\u001b[1;33m\u001b[0m\u001b[0m\n\u001b[0m",
      "\u001b[1;31mTypeError\u001b[0m: func6() takes from 0 to 7 positional arguments but 8 were given"
     ]
    }
   ],
   "source": [
    "func6()\n",
    "func6(1)\n",
    "func6(1, 2)\n",
    "func6(1, 2, 3)\n",
    "func6(1, 2, 3, 4)\n",
    "func6(1, 2, 3, 4, 5)\n",
    "func6(1, 2, 3, 4, 5, 6)\n",
    "func6(1, 2, 3, 4, 5, 6, 7)\n",
    "func6(1, 2, 3, 4, 5, 6, 7, 8) #8때문에 에러"
   ]
  },
  {
   "cell_type": "markdown",
   "id": "9b6acf8e",
   "metadata": {},
   "source": [
    "가변 인자를 사용되는 함수"
   ]
  },
  {
   "cell_type": "code",
   "execution_count": 20,
   "id": "548a235c",
   "metadata": {},
   "outputs": [],
   "source": [
    "#가변 인자는 '*변수이름' 형태로 표현한다. -> 가변 인자는 넘어오는 데이터를 튜플로 받는다.\n",
    "def func7 (*args) :\n",
    "    #print(type(args))\n",
    "    #print(args)\n",
    "    total = 0\n",
    "    for arg in args :\n",
    "        total += arg\n",
    "    ####### for arg\n",
    "    print(total);\n",
    "####### func7()"
   ]
  },
  {
   "cell_type": "code",
   "execution_count": 25,
   "id": "21a38917",
   "metadata": {},
   "outputs": [
    {
     "name": "stdout",
     "output_type": "stream",
     "text": [
      "0\n",
      "1\n",
      "3\n",
      "6\n",
      "10\n",
      "15\n",
      "21\n",
      "28\n",
      "36\n",
      "91\n"
     ]
    }
   ],
   "source": [
    "func7()\n",
    "func7(1)\n",
    "func7(1, 2)\n",
    "func7(1, 2, 3)\n",
    "func7(1, 2, 3, 4)\n",
    "func7(1, 2, 3, 4, 5)\n",
    "func7(1, 2, 3, 4, 5, 6)\n",
    "func7(1, 2, 3, 4, 5, 6, 7)\n",
    "func7(1, 2, 3, 4, 5, 6, 7, 8)\n",
    "func7(1, 2, 3, 4, 5, 6, 7, 8, 9, 10, 11, 12, 13)"
   ]
  },
  {
   "cell_type": "code",
   "execution_count": 41,
   "id": "b4ab8961",
   "metadata": {},
   "outputs": [],
   "source": [
    "#가변 인자를 사용하면 가변 인자에 할당해야 할 메모리 크기를 모르기때문에 인수 목록의 맨 마지막에 딱 1번만 사용한다.\n",
    "#함수 선언시 가변 인자가 2번이상 사용되었으므로 함수 선언시 에러가 발생된다.\n",
    "def func7(*args1, *args2) : \n",
    "    pass"
   ]
  },
  {
   "cell_type": "code",
   "execution_count": 43,
   "id": "5a389d74",
   "metadata": {},
   "outputs": [],
   "source": [
    "#이함수를 에러없이 실행하려면 func8(a = 100) 형태로 a에 전달될 데이터를 지정해야 에러없이 실행된다.\n",
    "#가변 인자가 모든 데이터를 다 받아버리므로 a에 전달되는 인수가 없어서 실행시 에러가 발생된다.\n",
    "def func7(*args1, a) : \n",
    "    pass"
   ]
  },
  {
   "cell_type": "code",
   "execution_count": 49,
   "id": "d01afa53",
   "metadata": {},
   "outputs": [
    {
     "name": "stdout",
     "output_type": "stream",
     "text": [
      "100 ()\n"
     ]
    }
   ],
   "source": [
    "func7(a = 100)"
   ]
  },
  {
   "cell_type": "code",
   "execution_count": 50,
   "id": "ef4c595f",
   "metadata": {},
   "outputs": [],
   "source": [
    "#함수를 호출할 때 첫번째 인수가 a에 전달되고 나머지 인수는 가변 인자로 전달된다.\n",
    "def func7(a, *args) :\n",
    "    print(a, args)"
   ]
  },
  {
   "cell_type": "code",
   "execution_count": 51,
   "id": "29258f78",
   "metadata": {},
   "outputs": [
    {
     "name": "stdout",
     "output_type": "stream",
     "text": [
      "1 (2, 3)\n"
     ]
    }
   ],
   "source": [
    "func7(1, 2, 3)"
   ]
  },
  {
   "cell_type": "code",
   "execution_count": 52,
   "id": "79cee464",
   "metadata": {},
   "outputs": [
    {
     "name": "stdout",
     "output_type": "stream",
     "text": [
      "100 ()\n"
     ]
    }
   ],
   "source": [
    "func7(a=100)"
   ]
  },
  {
   "cell_type": "code",
   "execution_count": null,
   "id": "ddc7b9dc",
   "metadata": {},
   "outputs": [],
   "source": []
  },
  {
   "cell_type": "code",
   "execution_count": null,
   "id": "cdd73bb4",
   "metadata": {},
   "outputs": [],
   "source": []
  },
  {
   "cell_type": "code",
   "execution_count": null,
   "id": "2234dd46",
   "metadata": {},
   "outputs": [],
   "source": []
  },
  {
   "cell_type": "code",
   "execution_count": null,
   "id": "0fd82a8f",
   "metadata": {},
   "outputs": [],
   "source": []
  },
  {
   "cell_type": "code",
   "execution_count": null,
   "id": "2d132292",
   "metadata": {},
   "outputs": [],
   "source": []
  },
  {
   "cell_type": "code",
   "execution_count": null,
   "id": "5246f6a5",
   "metadata": {},
   "outputs": [],
   "source": []
  },
  {
   "cell_type": "code",
   "execution_count": null,
   "id": "9807db45",
   "metadata": {},
   "outputs": [],
   "source": []
  },
  {
   "cell_type": "code",
   "execution_count": null,
   "id": "1cc23a56",
   "metadata": {},
   "outputs": [],
   "source": []
  },
  {
   "cell_type": "code",
   "execution_count": null,
   "id": "c2c1fb11",
   "metadata": {},
   "outputs": [],
   "source": []
  },
  {
   "cell_type": "code",
   "execution_count": null,
   "id": "3bd0c982",
   "metadata": {},
   "outputs": [],
   "source": []
  },
  {
   "cell_type": "code",
   "execution_count": null,
   "id": "763504f0",
   "metadata": {},
   "outputs": [],
   "source": []
  }
 ],
 "metadata": {
  "kernelspec": {
   "display_name": "Python 3",
   "language": "python",
   "name": "python3"
  },
  "language_info": {
   "codemirror_mode": {
    "name": "ipython",
    "version": 3
   },
   "file_extension": ".py",
   "mimetype": "text/x-python",
   "name": "python",
   "nbconvert_exporter": "python",
   "pygments_lexer": "ipython3",
   "version": "3.6.8"
  }
 },
 "nbformat": 4,
 "nbformat_minor": 5
}

{
 "cells": [
  {
   "cell_type": "markdown",
   "id": "e7b88a78",
   "metadata": {},
   "source": [
    "넘겨받은 인수를 뎌너리 혀태로 변환하는 함수 -> 딕셔너리 변환 인자는 '**변수이름' 형태로 만든다.  "
   ]
  },
  {
   "cell_type": "code",
   "execution_count": 26,
   "id": "b36bf5ed",
   "metadata": {},
   "outputs": [],
   "source": [
    "def func8(**args) :\n",
    "    print(type(args))\n",
    "    print(args)\n"
   ]
  },
  {
   "cell_type": "code",
   "execution_count": 27,
   "id": "29bfdd0f",
   "metadata": {},
   "outputs": [
    {
     "name": "stdout",
     "output_type": "stream",
     "text": [
      "<class 'dict'>\n",
      "{}\n"
     ]
    }
   ],
   "source": [
    "func8()"
   ]
  },
  {
   "cell_type": "code",
   "execution_count": 28,
   "id": "94b53215",
   "metadata": {},
   "outputs": [
    {
     "name": "stdout",
     "output_type": "stream",
     "text": [
      "<class 'dict'>\n",
      "{'apple': 1000}\n"
     ]
    }
   ],
   "source": [
    "# '**변수이름' 형태로 인수를 사용하는 경우, 함수에는 key와 key에 할당할 value를 'key=value' 형태로 전달한다.\n",
    "#func8(1000) # 'key=value'형태로 인수를 전달하지 않아서 에러가 발생한다.\n",
    "func8(apple=1000)"
   ]
  },
  {
   "cell_type": "code",
   "execution_count": 29,
   "id": "be0fdbaf",
   "metadata": {},
   "outputs": [
    {
     "name": "stdout",
     "output_type": "stream",
     "text": [
      "<class 'dict'>\n",
      "{'apple': 1000, 'orange': 3000}\n"
     ]
    }
   ],
   "source": [
    "func8(apple=1000, orange=3000)"
   ]
  },
  {
   "cell_type": "code",
   "execution_count": null,
   "id": "575299b8",
   "metadata": {},
   "outputs": [],
   "source": []
  },
  {
   "cell_type": "code",
   "execution_count": null,
   "id": "072af08e",
   "metadata": {},
   "outputs": [],
   "source": []
  },
  {
   "cell_type": "code",
   "execution_count": null,
   "id": "971172c6",
   "metadata": {},
   "outputs": [],
   "source": []
  },
  {
   "cell_type": "code",
   "execution_count": null,
   "id": "9bde2fbd",
   "metadata": {},
   "outputs": [],
   "source": []
  },
  {
   "cell_type": "code",
   "execution_count": null,
   "id": "65133497",
   "metadata": {},
   "outputs": [],
   "source": []
  },
  {
   "cell_type": "code",
   "execution_count": null,
   "id": "56d33943",
   "metadata": {},
   "outputs": [],
   "source": []
  },
  {
   "cell_type": "code",
   "execution_count": null,
   "id": "d58abf5b",
   "metadata": {},
   "outputs": [],
   "source": []
  },
  {
   "cell_type": "code",
   "execution_count": null,
   "id": "20e1c625",
   "metadata": {},
   "outputs": [],
   "source": []
  },
  {
   "cell_type": "code",
   "execution_count": null,
   "id": "98a734de",
   "metadata": {},
   "outputs": [],
   "source": []
  },
  {
   "cell_type": "code",
   "execution_count": null,
   "id": "389f2479",
   "metadata": {},
   "outputs": [],
   "source": []
  },
  {
   "cell_type": "code",
   "execution_count": null,
   "id": "3517a489",
   "metadata": {},
   "outputs": [],
   "source": []
  },
  {
   "cell_type": "code",
   "execution_count": null,
   "id": "c9a97c84",
   "metadata": {},
   "outputs": [],
   "source": []
  },
  {
   "cell_type": "code",
   "execution_count": null,
   "id": "9e5770cd",
   "metadata": {},
   "outputs": [],
   "source": []
  },
  {
   "cell_type": "code",
   "execution_count": null,
   "id": "513e340f",
   "metadata": {},
   "outputs": [],
   "source": []
  },
  {
   "cell_type": "code",
   "execution_count": null,
   "id": "c8f3aaea",
   "metadata": {},
   "outputs": [],
   "source": []
  },
  {
   "cell_type": "code",
   "execution_count": null,
   "id": "04893c8a",
   "metadata": {},
   "outputs": [],
   "source": []
  }
 ],
 "metadata": {
  "kernelspec": {
   "display_name": "Python 3",
   "language": "python",
   "name": "python3"
  },
  "language_info": {
   "codemirror_mode": {
    "name": "ipython",
    "version": 3
   },
   "file_extension": ".py",
   "mimetype": "text/x-python",
   "name": "python",
   "nbconvert_exporter": "python",
   "pygments_lexer": "ipython3",
   "version": "3.6.8"
  }
 },
 "nbformat": 4,
 "nbformat_minor": 5
}

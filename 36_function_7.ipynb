{
 "cells": [
  {
   "cell_type": "markdown",
   "id": "3a2eef9c",
   "metadata": {},
   "source": [
    "모든 프로그래밍 언어는 함수의 실행 결과를 return 뒤에 딱 1개만 부텽서 return 시킬수 있다. -> 파이썬도 예외는 아니다."
   ]
  },
  {
   "cell_type": "code",
   "execution_count": 2,
   "id": "b4ddca4e",
   "metadata": {},
   "outputs": [],
   "source": [
    "def swap (a, b):\n",
    "    temp = a\n",
    "    a = b\n",
    "    b = temp\n",
    "    #데이터를 ','로 구분해서 나열하면 ()로 묶지 않아도 튜플이 만들어진다.\n",
    "    #return을 ()를 사용하지 않고 튜플 형태로 리턴시키면 return 값이 2개 이상인 것 같은 효과를 낸다.\n",
    "    return a, b # (a, b) 형태의 튜플을 리턴시킨다. -> 마치 return 값이 2개인 것처럼 보인다."
   ]
  },
  {
   "cell_type": "code",
   "execution_count": 8,
   "id": "1e78c6ce",
   "metadata": {},
   "outputs": [
    {
     "name": "stdout",
     "output_type": "stream",
     "text": [
      "a = 3, b = 5\n",
      "a = 5, b = 3\n",
      "a = 3, b = 5\n",
      "a = 5, b = 3\n",
      "<class 'tuple'>\n",
      "a = 3, b = 5\n",
      "a = 3, b = 5\n"
     ]
    }
   ],
   "source": [
    "a = 3; b = 5\n",
    "print(f'a = {a}, b = {b}')\n",
    "[a, b] = [b, a]\n",
    "print(f'a = {a}, b = {b}')\n",
    "(a, b) = (b, a)\n",
    "print(f'a = {a}, b = {b}')\n",
    "a, b = b , a\n",
    "print(f'a = {a}, b = {b}')\n",
    "result = swap(a, b)\n",
    "print(type(result))\n",
    "print(f'a = {result[0]}, b = {result[1]}')\n",
    "a, b = swap(a, b)\n",
    "print(f'a = {a}, b = {b}')"
   ]
  },
  {
   "cell_type": "code",
   "execution_count": null,
   "id": "69cbcbd0",
   "metadata": {},
   "outputs": [],
   "source": []
  },
  {
   "cell_type": "code",
   "execution_count": null,
   "id": "a674582d",
   "metadata": {},
   "outputs": [],
   "source": []
  },
  {
   "cell_type": "code",
   "execution_count": null,
   "id": "6a0eee72",
   "metadata": {},
   "outputs": [],
   "source": []
  },
  {
   "cell_type": "code",
   "execution_count": null,
   "id": "f7de39d4",
   "metadata": {},
   "outputs": [],
   "source": []
  },
  {
   "cell_type": "code",
   "execution_count": null,
   "id": "3d72fba1",
   "metadata": {},
   "outputs": [],
   "source": []
  },
  {
   "cell_type": "code",
   "execution_count": null,
   "id": "3b7551c4",
   "metadata": {},
   "outputs": [],
   "source": []
  },
  {
   "cell_type": "code",
   "execution_count": null,
   "id": "1c54d6ad",
   "metadata": {},
   "outputs": [],
   "source": []
  },
  {
   "cell_type": "code",
   "execution_count": null,
   "id": "ca66cdde",
   "metadata": {},
   "outputs": [],
   "source": []
  },
  {
   "cell_type": "code",
   "execution_count": null,
   "id": "fba1fe55",
   "metadata": {},
   "outputs": [],
   "source": []
  },
  {
   "cell_type": "code",
   "execution_count": null,
   "id": "2240ba87",
   "metadata": {},
   "outputs": [],
   "source": []
  },
  {
   "cell_type": "code",
   "execution_count": null,
   "id": "a04a9383",
   "metadata": {},
   "outputs": [],
   "source": []
  },
  {
   "cell_type": "code",
   "execution_count": null,
   "id": "18bd660a",
   "metadata": {},
   "outputs": [],
   "source": []
  },
  {
   "cell_type": "code",
   "execution_count": null,
   "id": "c2f73859",
   "metadata": {},
   "outputs": [],
   "source": []
  }
 ],
 "metadata": {
  "kernelspec": {
   "display_name": "Python 3",
   "language": "python",
   "name": "python3"
  },
  "language_info": {
   "codemirror_mode": {
    "name": "ipython",
    "version": 3
   },
   "file_extension": ".py",
   "mimetype": "text/x-python",
   "name": "python",
   "nbconvert_exporter": "python",
   "pygments_lexer": "ipython3",
   "version": "3.6.8"
  }
 },
 "nbformat": 4,
 "nbformat_minor": 5
}

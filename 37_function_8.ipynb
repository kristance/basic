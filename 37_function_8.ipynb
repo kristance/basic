{
 "cells": [
  {
   "cell_type": "markdown",
   "id": "92402e15",
   "metadata": {},
   "source": [
    "함수 내부의 변수와 함수 외부의 변수는 이름이 같더라도 독립된 기억공간을 가진다."
   ]
  },
  {
   "cell_type": "code",
   "execution_count": 1,
   "id": "94a07cca",
   "metadata": {},
   "outputs": [],
   "source": [
    "def func9(var1):\n",
    "    var1 += 1\n",
    "    print(f'func9() 함수 내부의 변수 var1 : {var1}')"
   ]
  },
  {
   "cell_type": "code",
   "execution_count": 3,
   "id": "3aae7037",
   "metadata": {},
   "outputs": [
    {
     "name": "stdout",
     "output_type": "stream",
     "text": [
      "func9() 함수 내부의 변수 var1 : 2\n",
      "func9() 함수 외부의 변수 var1 : 1\n"
     ]
    }
   ],
   "source": [
    "var1 = 1\n",
    "func9(var1)\n",
    "print(f'func9() 함수 외부의 변수 var1 : {var1}')"
   ]
  },
  {
   "cell_type": "markdown",
   "id": "22b5380c",
   "metadata": {},
   "source": [
    "global 예약어를 사용하면 함수 내부에서 함수 외부의 변수를 사용할 수 있다."
   ]
  },
  {
   "cell_type": "code",
   "execution_count": 5,
   "id": "dba0ce51",
   "metadata": {},
   "outputs": [],
   "source": [
    "def func10() :\n",
    "    #c/c++ 언어의 call by reference(참조에 의한 호출) 방식처럼 사용된다.  -> 부작용(side effect) 현상이 발생될 수 있으니 주의해서 사용해야한다.\n",
    "    #global로 사용한 변수는 함수의 인수로 선언하면 안된다.\n",
    "    #global로 사용할 변수를 함수의 인수로 선언하면 함수 내부에서 독립적인 메모리를 할당받는 변수가 된다.\n",
    "    #global로 선언된 변수는 함수 내부에서 값을 변경시키면 함수 외부의 값도 같이 변경된다.\n",
    "    global var2 #함수 외부에서 선언한 var2라는 변수를 함수 내부에서 사용하겠다고 선언한다.\n",
    "    var2 += 1\n",
    "    print(f'func10() 함수 내부의 변수 var2 : {var2}')"
   ]
  },
  {
   "cell_type": "code",
   "execution_count": 6,
   "id": "3160346d",
   "metadata": {},
   "outputs": [
    {
     "name": "stdout",
     "output_type": "stream",
     "text": [
      "func10() 함수 내부의 변수 var2 : 1000\n",
      "func10() 함수 외부의 변수 var2 : 1000\n"
     ]
    }
   ],
   "source": [
    "var2 = 999\n",
    "func10()\n",
    "print(f'func10() 함수 외부의 변수 var2 : {var2}')"
   ]
  },
  {
   "cell_type": "code",
   "execution_count": null,
   "id": "d74c55ed",
   "metadata": {},
   "outputs": [],
   "source": []
  },
  {
   "cell_type": "code",
   "execution_count": null,
   "id": "c6eb4b72",
   "metadata": {},
   "outputs": [],
   "source": []
  },
  {
   "cell_type": "code",
   "execution_count": null,
   "id": "8df945db",
   "metadata": {},
   "outputs": [],
   "source": []
  },
  {
   "cell_type": "code",
   "execution_count": null,
   "id": "1d2e9234",
   "metadata": {},
   "outputs": [],
   "source": []
  },
  {
   "cell_type": "code",
   "execution_count": null,
   "id": "a9bc592f",
   "metadata": {},
   "outputs": [],
   "source": []
  },
  {
   "cell_type": "code",
   "execution_count": null,
   "id": "6d4e4c44",
   "metadata": {},
   "outputs": [],
   "source": []
  },
  {
   "cell_type": "code",
   "execution_count": null,
   "id": "c4964cb1",
   "metadata": {},
   "outputs": [],
   "source": []
  },
  {
   "cell_type": "code",
   "execution_count": null,
   "id": "0d190c0d",
   "metadata": {},
   "outputs": [],
   "source": []
  },
  {
   "cell_type": "code",
   "execution_count": null,
   "id": "9158e713",
   "metadata": {},
   "outputs": [],
   "source": []
  },
  {
   "cell_type": "code",
   "execution_count": null,
   "id": "b11ec633",
   "metadata": {},
   "outputs": [],
   "source": []
  },
  {
   "cell_type": "code",
   "execution_count": null,
   "id": "73fd4ed6",
   "metadata": {},
   "outputs": [],
   "source": []
  },
  {
   "cell_type": "code",
   "execution_count": null,
   "id": "faa0f151",
   "metadata": {},
   "outputs": [],
   "source": []
  },
  {
   "cell_type": "code",
   "execution_count": null,
   "id": "fc4b71d9",
   "metadata": {},
   "outputs": [],
   "source": []
  },
  {
   "cell_type": "code",
   "execution_count": null,
   "id": "ef7b0453",
   "metadata": {},
   "outputs": [],
   "source": []
  },
  {
   "cell_type": "code",
   "execution_count": null,
   "id": "2d07c8e9",
   "metadata": {},
   "outputs": [],
   "source": []
  },
  {
   "cell_type": "code",
   "execution_count": null,
   "id": "c14f6956",
   "metadata": {},
   "outputs": [],
   "source": []
  },
  {
   "cell_type": "code",
   "execution_count": null,
   "id": "4d09a138",
   "metadata": {},
   "outputs": [],
   "source": []
  },
  {
   "cell_type": "code",
   "execution_count": null,
   "id": "3584cda1",
   "metadata": {},
   "outputs": [],
   "source": []
  },
  {
   "cell_type": "code",
   "execution_count": null,
   "id": "6baaa010",
   "metadata": {},
   "outputs": [],
   "source": []
  },
  {
   "cell_type": "code",
   "execution_count": null,
   "id": "797995bd",
   "metadata": {},
   "outputs": [],
   "source": []
  },
  {
   "cell_type": "code",
   "execution_count": null,
   "id": "62148a6f",
   "metadata": {},
   "outputs": [],
   "source": []
  }
 ],
 "metadata": {
  "kernelspec": {
   "display_name": "Python 3",
   "language": "python",
   "name": "python3"
  },
  "language_info": {
   "codemirror_mode": {
    "name": "ipython",
    "version": 3
   },
   "file_extension": ".py",
   "mimetype": "text/x-python",
   "name": "python",
   "nbconvert_exporter": "python",
   "pygments_lexer": "ipython3",
   "version": "3.6.8"
  }
 },
 "nbformat": 4,
 "nbformat_minor": 5
}

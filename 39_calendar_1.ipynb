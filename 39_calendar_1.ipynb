{
 "cells": [
  {
   "cell_type": "code",
   "execution_count": 1,
   "id": "93948e44",
   "metadata": {},
   "outputs": [],
   "source": [
    "def isLeapYear(year):\n",
    "    return year % 4 == 0 and year % 100 != 0 or year % 400 == 0\n",
    "########\n"
   ]
  },
  {
   "cell_type": "code",
   "execution_count": 2,
   "id": "f214dbea",
   "metadata": {},
   "outputs": [],
   "source": [
    "def lastDay(year, month) :\n",
    "    m = [31, 0, 31, 30, 31, 30, 31, 31, 30, 31, 30, 31]\n",
    "    m[1] = 29 if isLeapYear(year) else 28\n",
    "    return m[month - 1]\n"
   ]
  },
  {
   "cell_type": "code",
   "execution_count": 3,
   "id": "281f84de",
   "metadata": {},
   "outputs": [],
   "source": [
    "def totalDay(year, month, day):\n",
    "    total = (year - 1) * 365 + ((year - 1) // 4) - ((year - 1) // 100) + ((year - 1) // 400)\n",
    "    for i in range(1, month):\n",
    "        total += lastDay(year, i)\n",
    "    ########\n",
    "    return total + day;"
   ]
  },
  {
   "cell_type": "code",
   "execution_count": 4,
   "id": "736909cd",
   "metadata": {},
   "outputs": [],
   "source": [
    "def weekDay(year, month, day):\n",
    "    return totalDay(year, month, day) % 7"
   ]
  },
  {
   "cell_type": "code",
   "execution_count": 75,
   "id": "728f774a",
   "metadata": {
    "scrolled": false
   },
   "outputs": [
    {
     "name": "stdout",
     "output_type": "stream",
     "text": [
      "달력 만들 연도와 월을 입력2024 8\n",
      "----------------------------\n",
      "        2024년 8월\n",
      "----------------------------\n",
      " 일  월  화  수  목  금  토 \n",
      "----------------------------\n",
      "                  1   2   3 \n",
      "  4   5   6   7   8   9  10 \n",
      " 11  12  13  14  15  16  17 \n",
      " 18  19  20  21  22  23  24 \n",
      " 25  26  27  28  29  30  31 \n",
      "----------------------------\n"
     ]
    }
   ],
   "source": [
    "#달력을 출력할 년, 월을 입력받는다.\n",
    "year, month = map(int, input('달력 만들 연도와 월을 입력').split())\n",
    "\n",
    "print('-' * 28)\n",
    "print('        {:4d}년{:2d}월'.format(year, month))\n",
    "print('-' * 28)\n",
    "print(' 일  월  화  수  목  금  토 ')\n",
    "print('-' * 28)\n",
    "\n",
    "#1일이 출력될 위치(요일)을 맞추기 위해서 1일의 요일만큼 반복하며 빈칸을 출력한다. -> 빈칸은 요일당 4칸\n",
    "for _ in range(weekDay(year, month, 1)) :\n",
    "    print('    ', end='')\n",
    "\n",
    "#1일부터 달력을 출력할 달의 마지막 날짜까지 반복하며 날짜를 출력한다.\n",
    "for i in range(1, lastDay(year, month) + 1) :\n",
    "    print(' {:2d} '.format(i), end='')\n",
    "    #출력한 날짜(i)가 토요일이고 그 달의 마지막 날짜가 아니면 줄을 바꾼다.\n",
    "    if weekDay(year, month, i) == 6 and i != lastDay(year, month) :\n",
    "        print()\n",
    "    ######## if\n",
    "######## for i\n",
    "print('\\n' + '-' * 28)"
   ]
  },
  {
   "cell_type": "code",
   "execution_count": null,
   "id": "1c7d4e15",
   "metadata": {},
   "outputs": [],
   "source": []
  },
  {
   "cell_type": "code",
   "execution_count": null,
   "id": "35c0d042",
   "metadata": {},
   "outputs": [],
   "source": []
  },
  {
   "cell_type": "code",
   "execution_count": null,
   "id": "783bb695",
   "metadata": {},
   "outputs": [],
   "source": []
  },
  {
   "cell_type": "code",
   "execution_count": null,
   "id": "4f98f953",
   "metadata": {},
   "outputs": [],
   "source": []
  },
  {
   "cell_type": "code",
   "execution_count": null,
   "id": "fbca9ece",
   "metadata": {},
   "outputs": [],
   "source": []
  },
  {
   "cell_type": "code",
   "execution_count": null,
   "id": "094eb9be",
   "metadata": {},
   "outputs": [],
   "source": []
  },
  {
   "cell_type": "code",
   "execution_count": null,
   "id": "bd4ae7b6",
   "metadata": {},
   "outputs": [],
   "source": []
  },
  {
   "cell_type": "code",
   "execution_count": null,
   "id": "487dee0b",
   "metadata": {},
   "outputs": [],
   "source": []
  },
  {
   "cell_type": "code",
   "execution_count": null,
   "id": "fbd4d58c",
   "metadata": {},
   "outputs": [],
   "source": []
  },
  {
   "cell_type": "code",
   "execution_count": null,
   "id": "1554955b",
   "metadata": {},
   "outputs": [],
   "source": []
  },
  {
   "cell_type": "code",
   "execution_count": null,
   "id": "493eb09a",
   "metadata": {},
   "outputs": [],
   "source": []
  }
 ],
 "metadata": {
  "kernelspec": {
   "display_name": "Python 3",
   "language": "python",
   "name": "python3"
  },
  "language_info": {
   "codemirror_mode": {
    "name": "ipython",
    "version": 3
   },
   "file_extension": ".py",
   "mimetype": "text/x-python",
   "name": "python",
   "nbconvert_exporter": "python",
   "pygments_lexer": "ipython3",
   "version": "3.6.8"
  }
 },
 "nbformat": 4,
 "nbformat_minor": 5
}

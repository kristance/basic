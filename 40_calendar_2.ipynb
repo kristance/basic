{
 "cells": [
  {
   "cell_type": "markdown",
   "id": "6a1ca99d",
   "metadata": {},
   "source": [
    "모듈 import\n",
    "\n",
    "사용자가 만든 파이썬 파일을 import시켜서 사용할 수 있다.  \n",
    "import할 모듈 이름은 반드시 문자로 시작해야하고 현재 작성중인 소스 파일 이름과 같으면 안된다."
   ]
  },
  {
   "cell_type": "code",
   "execution_count": 1,
   "id": "1ff2bdde",
   "metadata": {},
   "outputs": [],
   "source": [
    "#calendarModule.py의 모든 함수가 import 된다.\n",
    "import calendarModule"
   ]
  },
  {
   "cell_type": "markdown",
   "id": "4d74ebae",
   "metadata": {},
   "source": [
    "import된 모듈의 함수를 실행하려면 모듈이름.함수이름() 형태로 실행한다"
   ]
  },
  {
   "cell_type": "code",
   "execution_count": 4,
   "id": "728f774a",
   "metadata": {
    "scrolled": false
   },
   "outputs": [
    {
     "name": "stdout",
     "output_type": "stream",
     "text": [
      "달력 만들 연도와 월을 입력2024 2\n",
      "----------------------------\n",
      "        2024년 2월\n",
      "----------------------------\n",
      " 일  월  화  수  목  금  토 \n",
      "----------------------------\n",
      "                  1   2   3 \n",
      "  4   5   6   7   8   9  10 \n",
      " 11  12  13  14  15  16  17 \n",
      " 18  19  20  21  22  23  24 \n",
      " 25  26  27  28  29 \n",
      "----------------------------\n"
     ]
    }
   ],
   "source": [
    "year, month = map(int, input('달력 만들 연도와 월을 입력').split())\n",
    "\n",
    "print('-' * 28)\n",
    "print('        {:4d}년{:2d}월'.format(year, month))\n",
    "print('-' * 28)\n",
    "print(' 일  월  화  수  목  금  토 ')\n",
    "print('-' * 28)\n",
    "\n",
    "for _ in range(calendarModule.weekDay(year, month, 1)) :\n",
    "    print('    ', end='')\n",
    "\n",
    "for i in range(1, calendarModule.lastDay(year, month) + 1) :\n",
    "    print(' {:2d} '.format(i), end='')\n",
    "    if calendarModule.weekDay(year, month, i) == 6 and i != calendarModule.lastDay(year, month) :\n",
    "        print()\n",
    "    ######## if\n",
    "######## for i\n",
    "print('\\n' + '-' * 28)"
   ]
  },
  {
   "cell_type": "code",
   "execution_count": null,
   "id": "1c7d4e15",
   "metadata": {},
   "outputs": [],
   "source": []
  },
  {
   "cell_type": "code",
   "execution_count": null,
   "id": "35c0d042",
   "metadata": {},
   "outputs": [],
   "source": []
  },
  {
   "cell_type": "code",
   "execution_count": null,
   "id": "783bb695",
   "metadata": {},
   "outputs": [],
   "source": []
  },
  {
   "cell_type": "code",
   "execution_count": null,
   "id": "e3044d08",
   "metadata": {},
   "outputs": [],
   "source": []
  },
  {
   "cell_type": "code",
   "execution_count": null,
   "id": "6457b636",
   "metadata": {},
   "outputs": [],
   "source": []
  },
  {
   "cell_type": "code",
   "execution_count": null,
   "id": "b58d33b3",
   "metadata": {},
   "outputs": [],
   "source": []
  },
  {
   "cell_type": "code",
   "execution_count": null,
   "id": "e2fba2f5",
   "metadata": {},
   "outputs": [],
   "source": []
  },
  {
   "cell_type": "code",
   "execution_count": null,
   "id": "1e5329e2",
   "metadata": {},
   "outputs": [],
   "source": []
  },
  {
   "cell_type": "code",
   "execution_count": null,
   "id": "2654c071",
   "metadata": {},
   "outputs": [],
   "source": []
  },
  {
   "cell_type": "code",
   "execution_count": null,
   "id": "5f9147a9",
   "metadata": {},
   "outputs": [],
   "source": []
  },
  {
   "cell_type": "code",
   "execution_count": null,
   "id": "e7c0b0a8",
   "metadata": {},
   "outputs": [],
   "source": []
  }
 ],
 "metadata": {
  "kernelspec": {
   "display_name": "Python 3",
   "language": "python",
   "name": "python3"
  },
  "language_info": {
   "codemirror_mode": {
    "name": "ipython",
    "version": 3
   },
   "file_extension": ".py",
   "mimetype": "text/x-python",
   "name": "python",
   "nbconvert_exporter": "python",
   "pygments_lexer": "ipython3",
   "version": "3.6.8"
  }
 },
 "nbformat": 4,
 "nbformat_minor": 5
}

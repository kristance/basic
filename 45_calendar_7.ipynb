{
 "cells": [
  {
   "cell_type": "markdown",
   "id": "c406c931",
   "metadata": {},
   "source": [
    "키보드로 1을 입력하면 년, 월을 입력받아 입력받는 년, 월에 해당되는 달력을 출력하고, 2를 입력하면 컴퓨터 시스템의 년, 월에 해당되는 달력을 출력하는 프로그램"
   ]
  },
  {
   "cell_type": "code",
   "execution_count": 1,
   "id": "b4ed173d",
   "metadata": {},
   "outputs": [],
   "source": [
    "from calendarModule import weekDay as w\n",
    "from calendarModule import lastDay as l\n",
    "from datetime import datetime as dt"
   ]
  },
  {
   "cell_type": "code",
   "execution_count": 4,
   "id": "728f774a",
   "metadata": {
    "scrolled": false
   },
   "outputs": [
    {
     "name": "stdout",
     "output_type": "stream",
     "text": [
      "1 -> 특정 달, 2 -> 이번 달 :2\n",
      "----------------------------\n",
      "        2024년 3월\n",
      "----------------------------\n",
      " 일  월  화  수  목  금  토 \n",
      "----------------------------\n",
      "                      1   2 \n",
      "  3   4   5   6   7   8   9 \n",
      " 10  11  12  13  14  15  16 \n",
      " 17  18  19  20  21  22  23 \n",
      " 24  25  26  27  28  29  30 \n",
      " 31 \n",
      "----------------------------\n"
     ]
    }
   ],
   "source": [
    "menu = input('1 -> 특정 달, 2 -> 이번 달 :')\n",
    "if menu == '1' :\n",
    "    year, month = map(int, input('달력 만들 연도와 월을 입력 : ').split())\n",
    "else :\n",
    "    now = dt.now()\n",
    "    year = now.year\n",
    "    month = now.month\n",
    "    \n",
    "print('-' * 28)\n",
    "print('        {:4d}년{:2d}월'.format(year, month))\n",
    "print('-' * 28)\n",
    "print(' 일  월  화  수  목  금  토 ')\n",
    "print('-' * 28) \n",
    "\n",
    "for _ in range(w(year, month, 1)) :\n",
    "    print('    ', end='')\n",
    "\n",
    "for i in range(1, l(year, month) + 1) :\n",
    "    print(' {:2d} '.format(i), end='')\n",
    "    if w(year, month, i) == 6 and i != l(year, month) :\n",
    "        print()\n",
    "    ######## if\n",
    "######## for i\n",
    "print('\\n' + '-' * 28)"
   ]
  },
  {
   "cell_type": "code",
   "execution_count": null,
   "id": "1c7d4e15",
   "metadata": {},
   "outputs": [],
   "source": []
  },
  {
   "cell_type": "code",
   "execution_count": null,
   "id": "35c0d042",
   "metadata": {},
   "outputs": [],
   "source": []
  },
  {
   "cell_type": "code",
   "execution_count": null,
   "id": "783bb695",
   "metadata": {},
   "outputs": [],
   "source": []
  },
  {
   "cell_type": "code",
   "execution_count": null,
   "id": "e3044d08",
   "metadata": {},
   "outputs": [],
   "source": []
  },
  {
   "cell_type": "code",
   "execution_count": null,
   "id": "6457b636",
   "metadata": {},
   "outputs": [],
   "source": []
  },
  {
   "cell_type": "code",
   "execution_count": null,
   "id": "b58d33b3",
   "metadata": {},
   "outputs": [],
   "source": []
  },
  {
   "cell_type": "code",
   "execution_count": null,
   "id": "e2fba2f5",
   "metadata": {},
   "outputs": [],
   "source": []
  },
  {
   "cell_type": "code",
   "execution_count": null,
   "id": "1e5329e2",
   "metadata": {},
   "outputs": [],
   "source": []
  },
  {
   "cell_type": "code",
   "execution_count": null,
   "id": "2654c071",
   "metadata": {},
   "outputs": [],
   "source": []
  },
  {
   "cell_type": "code",
   "execution_count": null,
   "id": "5f9147a9",
   "metadata": {},
   "outputs": [],
   "source": []
  },
  {
   "cell_type": "code",
   "execution_count": null,
   "id": "e7c0b0a8",
   "metadata": {},
   "outputs": [],
   "source": []
  }
 ],
 "metadata": {
  "kernelspec": {
   "display_name": "Python 3",
   "language": "python",
   "name": "python3"
  },
  "language_info": {
   "codemirror_mode": {
    "name": "ipython",
    "version": 3
   },
   "file_extension": ".py",
   "mimetype": "text/x-python",
   "name": "python",
   "nbconvert_exporter": "python",
   "pygments_lexer": "ipython3",
   "version": "3.6.8"
  }
 },
 "nbformat": 4,
 "nbformat_minor": 5
}

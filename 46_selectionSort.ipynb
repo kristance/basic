{
 "cells": [
  {
   "cell_type": "markdown",
   "id": "f617aca4",
   "metadata": {},
   "source": [
    "selection sort(선택정렬, 교환법) 알고리즘\n",
    "\n",
    "선택 정렬은 i번쨰 데이터를 선택해서 나머지 데이터(j번째)와 비교하며 정렬한다.  \n",
    "정렬할 데이터가 n개일 경우 회전수는 n-1번이 된다. -> 데이터가 5개면 회전수는 4번이다.  \n",
    "<img src=\"./선택정렬1.png\"/>"
   ]
  },
  {
   "cell_type": "markdown",
   "id": "d086eb79",
   "metadata": {},
   "source": [
    "<img src=\"./선택정렬2.png\"/>"
   ]
  },
  {
   "cell_type": "markdown",
   "id": "a14a0972",
   "metadata": {},
   "source": [
    "<img src=\"./선택정렬3.png\"/>"
   ]
  },
  {
   "cell_type": "code",
   "execution_count": 1,
   "id": "aa1fcef4",
   "metadata": {},
   "outputs": [],
   "source": [
    "'''\n",
    "n = 5\n",
    "for i in range(n - 1) :\n",
    "    for j in range(i + 1, n):\n",
    "        print(f'[i -> {i} ## j -> {j}]', end=\" \")\n",
    "    print()\n",
    "'''\n",
    "pass"
   ]
  },
  {
   "cell_type": "code",
   "execution_count": 2,
   "id": "225ceb4b",
   "metadata": {},
   "outputs": [],
   "source": [
    "#데이터를 선택 정렬을 이용해서 오름차순으로 정렬한 결과를 리턴하는 함수\n",
    "def selectionSortAsc(data):\n",
    "    for i in range(len(data) - 1) :\n",
    "        for j in range(i + 1, len(data)):\n",
    "            #오름차순 정렬 -> 앞(i번째)의 데이터가 뒤(j번째)의 데이터보다 크면 데이터를 교환한다.\n",
    "            #내림차순 정렬 -> 앞(i번째)의 데이터가 뒤(j번째)의 데이터보다 작으면 데이터를 교환한다.\n",
    "            #부등호를 '>'에서 '<'으로 변경하면 내림차순으로 정렬된다.\n",
    "            if data[i] > data[j]:\n",
    "                data[i], data[j] = data[j], data[i]\n",
    "            ######## if\n",
    "        ######## for j -> 회전 종료\n",
    "        #print(f'{i + 1}회전 결과 : {data}')\n",
    "    ####### for i -> 정렬 종료\n",
    "    #print(f'정렬결과 : {data}')\n",
    "    return data"
   ]
  },
  {
   "cell_type": "code",
   "execution_count": 3,
   "id": "fe214969",
   "metadata": {},
   "outputs": [],
   "source": [
    "#데이터를 선택 정렬을 이용해서 내림차순으로 정렬한 결과를 리턴하는 함수\n",
    "def selectionSortDesc(data):\n",
    "    for i in range(len(data) - 1) :\n",
    "        for j in range(i + 1, len(data)):\n",
    "            if data[i] < data[j]:\n",
    "                data[i], data[j] = data[j], data[i]\n",
    "    return data"
   ]
  },
  {
   "cell_type": "code",
   "execution_count": 4,
   "id": "943ebab3",
   "metadata": {},
   "outputs": [],
   "source": [
    "def selectionSort(data, reverse = False):\n",
    "    for i in range(len(data) - 1) :\n",
    "        if reverse == True :\n",
    "            for j in range(i + 1, len(data)):\n",
    "                if data[i] < data[j]:\n",
    "                    data[i], data[j] = data[j], data[i]\n",
    "                #######\n",
    "        else :\n",
    "             for j in range(i + 1, len(data)):\n",
    "                if data[i] > data[j]:\n",
    "                    data[i], data[j] = data[j], data[i]\n",
    "                #######\n",
    "            ####### for j\n",
    "        #######  if reverse\n",
    "    ####### for i\n",
    "####### def sort\n",
    "    return data"
   ]
  },
  {
   "cell_type": "code",
   "execution_count": 5,
   "id": "0fdd7c7a",
   "metadata": {
    "scrolled": true
   },
   "outputs": [
    {
     "name": "stdout",
     "output_type": "stream",
     "text": [
      "정렬결과 : [1, 3, 4, 8, 9]\n",
      "정렬결과 : [9, 8, 4, 3, 1]\n",
      "정렬결과 : [1, 3, 4, 8, 9]\n",
      "정렬결과 : [9, 8, 4, 3, 1]\n"
     ]
    }
   ],
   "source": [
    "if __name__ == '__main__' :\n",
    "    data = [8, 3, 4, 9, 1]\n",
    "    result = selectionSortAsc(data)\n",
    "    print(f'정렬결과 : {result}')\n",
    "    result = selectionSortDesc(data)\n",
    "    print(f'정렬결과 : {result}')\n",
    "    result = selectionSort(data)\n",
    "    print(f'정렬결과 : {result}')\n",
    "    result = selectionSort(data, reverse=True)\n",
    "    print(f'정렬결과 : {result}')"
   ]
  },
  {
   "cell_type": "code",
   "execution_count": null,
   "id": "52772605",
   "metadata": {},
   "outputs": [],
   "source": []
  },
  {
   "cell_type": "code",
   "execution_count": null,
   "id": "41c0d526",
   "metadata": {},
   "outputs": [],
   "source": []
  },
  {
   "cell_type": "code",
   "execution_count": null,
   "id": "0053cc23",
   "metadata": {},
   "outputs": [],
   "source": []
  },
  {
   "cell_type": "code",
   "execution_count": null,
   "id": "6d55d981",
   "metadata": {},
   "outputs": [],
   "source": []
  }
 ],
 "metadata": {
  "kernelspec": {
   "display_name": "Python 3",
   "language": "python",
   "name": "python3"
  },
  "language_info": {
   "codemirror_mode": {
    "name": "ipython",
    "version": 3
   },
   "file_extension": ".py",
   "mimetype": "text/x-python",
   "name": "python",
   "nbconvert_exporter": "python",
   "pygments_lexer": "ipython3",
   "version": "3.6.8"
  }
 },
 "nbformat": 4,
 "nbformat_minor": 5
}

{
 "cells": [
  {
   "cell_type": "code",
   "execution_count": 1,
   "id": "20b205a1",
   "metadata": {},
   "outputs": [],
   "source": [
    "from lib.selectionSort import *"
   ]
  },
  {
   "cell_type": "markdown",
   "id": "23221154",
   "metadata": {},
   "source": [
    "999가 입력될 때까지 데이터를 받아서 정렬한다."
   ]
  },
  {
   "cell_type": "code",
   "execution_count": 2,
   "id": "e17b64ae",
   "metadata": {},
   "outputs": [
    {
     "name": "stdout",
     "output_type": "stream",
     "text": [
      "정렬할 데이터 입력 : 7\n",
      "정렬할 데이터 입력 : 3\n",
      "정렬할 데이터 입력 : 77\n",
      "정렬할 데이터 입력 : 8\n",
      "정렬할 데이터 입력 : 9\n",
      "정렬할 데이터 입력 : 2\n",
      "정렬할 데이터 입력 : 1\n",
      "정렬할 데이터 입력 : 999\n",
      "입력한 데이터 : [7, 3, 77, 8, 9, 2, 1]\n",
      "오름 차순 정렬결과 : [1, 2, 3, 7, 8, 9, 77]\n",
      "내림 차순 정렬결과 : [77, 9, 8, 7, 3, 2, 1]\n"
     ]
    }
   ],
   "source": [
    "data = []\n",
    "while True : \n",
    "    n = int(input('정렬할 데이터 입력 : '))\n",
    "    #999가 입력되면 무한루프를 탈출하고 데이터를 정렬한다.\n",
    "    if n == 999 :\n",
    "        break\n",
    "    ####### if\n",
    "    data.append(n)\n",
    "######## while True\n",
    "print(f'입력한 데이터 : {data}')\n",
    "\n",
    "result = selectionSortAsc(data)\n",
    "print(f'오름 차순 정렬결과 : {result}')\n",
    "result = selectionSortDesc(data)\n",
    "print(f'내림 차순 정렬결과 : {result}')"
   ]
  },
  {
   "cell_type": "code",
   "execution_count": 3,
   "id": "0ab3da26",
   "metadata": {},
   "outputs": [
    {
     "name": "stdout",
     "output_type": "stream",
     "text": [
      "정렬할 데이터 입력 : 3\n",
      "정렬할 데이터 입력 : 6\n",
      "정렬할 데이터 입력 : 2\n",
      "정렬할 데이터 입력 : 7\n",
      "정렬할 데이터 입력 : 1\n",
      "정렬할 데이터 입력 : 7\n",
      "정렬할 데이터 입력 : 9\n",
      "정렬할 데이터 입력 : 999\n",
      "입력한 데이터 : [3, 6, 2, 7, 1, 7, 9, 999]\n",
      "입력한 데이터에서 마지막에 입력받은 데이터를 제거한 데이터 : [3, 6, 2, 7, 1, 7, 9]\n",
      "정렬결과 : [77, 9, 8, 7, 3, 2, 1]\n",
      "정렬결과 : [9, 7, 7, 6, 3, 2, 1]\n"
     ]
    }
   ],
   "source": [
    "data = []\n",
    "n = 0\n",
    "while n != 999:\n",
    "    n = int(input('정렬할 데이터 입력 : '))\n",
    "    data.append(n)\n",
    "####### while\n",
    "print(f'입력한 데이터 : {data}')\n",
    "\n",
    "#del data[len(data) - 1]\n",
    "#del data[-1]\n",
    "#data.remove(999)\n",
    "#data = data[:-1]\n",
    "data.pop()\n",
    "print(f'입력한 데이터에서 마지막에 입력받은 데이터를 제거한 데이터 : {data}')\n",
    "\n",
    "print(f'정렬결과 : {result}')\n",
    "result = selectionSort(data, reverse=True)\n",
    "print(f'정렬결과 : {result}')"
   ]
  },
  {
   "cell_type": "code",
   "execution_count": 4,
   "id": "450183b3",
   "metadata": {},
   "outputs": [
    {
     "name": "stdout",
     "output_type": "stream",
     "text": [
      "[1, 2, 7, 8, 9]\n",
      "[9, 8, 7, 2, 1]\n"
     ]
    }
   ],
   "source": [
    "data = [7, 8, 1, 9, 2]\n",
    "data.sort()\n",
    "print(data)\n",
    "data.sort(reverse=True)\n",
    "print(data)"
   ]
  },
  {
   "cell_type": "code",
   "execution_count": null,
   "id": "e7935951",
   "metadata": {},
   "outputs": [],
   "source": []
  },
  {
   "cell_type": "code",
   "execution_count": null,
   "id": "1c2d9d07",
   "metadata": {},
   "outputs": [],
   "source": []
  },
  {
   "cell_type": "code",
   "execution_count": null,
   "id": "9311c228",
   "metadata": {},
   "outputs": [],
   "source": []
  },
  {
   "cell_type": "code",
   "execution_count": null,
   "id": "a3a8a80f",
   "metadata": {},
   "outputs": [],
   "source": []
  },
  {
   "cell_type": "code",
   "execution_count": null,
   "id": "c12397e3",
   "metadata": {},
   "outputs": [],
   "source": []
  },
  {
   "cell_type": "code",
   "execution_count": null,
   "id": "3a827b54",
   "metadata": {},
   "outputs": [],
   "source": []
  },
  {
   "cell_type": "code",
   "execution_count": null,
   "id": "9202b8f3",
   "metadata": {},
   "outputs": [],
   "source": []
  },
  {
   "cell_type": "code",
   "execution_count": null,
   "id": "3491ba12",
   "metadata": {},
   "outputs": [],
   "source": []
  },
  {
   "cell_type": "code",
   "execution_count": null,
   "id": "8b6a797d",
   "metadata": {},
   "outputs": [],
   "source": []
  }
 ],
 "metadata": {
  "kernelspec": {
   "display_name": "Python 3",
   "language": "python",
   "name": "python3"
  },
  "language_info": {
   "codemirror_mode": {
    "name": "ipython",
    "version": 3
   },
   "file_extension": ".py",
   "mimetype": "text/x-python",
   "name": "python",
   "nbconvert_exporter": "python",
   "pygments_lexer": "ipython3",
   "version": "3.6.8"
  }
 },
 "nbformat": 4,
 "nbformat_minor": 5
}

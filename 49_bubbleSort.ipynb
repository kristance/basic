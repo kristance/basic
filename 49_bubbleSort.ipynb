{
 "cells": [
  {
   "cell_type": "markdown",
   "id": "33fa5053",
   "metadata": {},
   "source": [
    "bubble sort(교환법)\n",
    "\n",
    "선택 정렬 -> 특정 위치(i번째)의 데이터를 선택해서 나머지(j번째) 데이터와 비교하며 정렬한다.    \n",
    "버블 정렬 -> 인접한 데이터(j번째, j+1번째)를 비교하며 정렬한다.  \n",
    "정렬할 데이터가 n개일 경우 회전수는 n-1번이 된다. -> 데이터가 5개면 회전수는 4번이다.\n",
    "\n",
    "<img src=\"bubbleSort4.png\" width=\"800px\">"
   ]
  },
  {
   "cell_type": "markdown",
   "id": "202e6910",
   "metadata": {},
   "source": [
    "<img src=\"bubbleSort5.png\" width=\"800px\">"
   ]
  },
  {
   "cell_type": "markdown",
   "id": "05189455",
   "metadata": {},
   "source": [
    "<img src=\"bubbleSort6.png\" width=\"800px\">"
   ]
  },
  {
   "cell_type": "markdown",
   "id": "05a85841",
   "metadata": {},
   "source": [
    "<img src=\"bubbleSort1.png\" width=\"500px\">"
   ]
  },
  {
   "cell_type": "code",
   "execution_count": 8,
   "id": "6ad27551",
   "metadata": {},
   "outputs": [
    {
     "name": "stdout",
     "output_type": "stream",
     "text": [
      "[i -> 0 ## j -> 0] [i -> 0 ## j -> 1] [i -> 0 ## j -> 2] [i -> 0 ## j -> 3] \n",
      "[i -> 1 ## j -> 0] [i -> 1 ## j -> 1] [i -> 1 ## j -> 2] \n",
      "[i -> 2 ## j -> 0] [i -> 2 ## j -> 1] \n",
      "[i -> 3 ## j -> 0] \n"
     ]
    }
   ],
   "source": [
    "n = 5\n",
    "for i in range(n - 1) :\n",
    "    for j in range(n - 1 - i): #i를 빼주지 않을 경우 0 - 3 비교가 동일하게 반복된다. -> 빼주면 한 단계씩 줄어들며 비교한다.\n",
    "        print(f'[i -> {i} ## j -> {j}]', end=\" \")\n",
    "    print()"
   ]
  },
  {
   "cell_type": "code",
   "execution_count": 6,
   "id": "370aa3f2",
   "metadata": {},
   "outputs": [
    {
     "name": "stdout",
     "output_type": "stream",
     "text": [
      "1회전 결과 : [1, 3, 4, 8, 9]\n",
      "2회전 결과 : [1, 3, 4, 8, 9]\n",
      "3회전 결과 : [1, 3, 4, 8, 9]\n",
      "4회전 결과 : [1, 3, 4, 8, 9]\n",
      "정렬결과 : [1, 3, 4, 8, 9]\n"
     ]
    }
   ],
   "source": [
    "#data = [8, 3, 4, 9, 1]\n",
    "data = [9, 1, 3, 4, 8]\n",
    "for i in range(len(data) - 1) :\n",
    "    for j in range(len(data) - 1 - i):\n",
    "        #오름차순 정렬 -> 앞(j번째)의 데이터가 뒤(j+1번째) 데이터보다 크면 두 기억장소의 데이터를 교환한다.\n",
    "        #내림차순 정렬 -> 앞(j번째)의 데이터가 뒤(j+1번째) 데이터보다 작으면 두 기억장소의 데이터를 교환한다.\n",
    "        #부등호를 '>'에서 '<'으로 변경하면 내림차순으로 정렬된다.\n",
    "        if data[j] > data[j + 1]:\n",
    "            data[j], data[j + 1] = data[j + 1], data[j]\n",
    "        ######## if\n",
    "    ######## for j -> 회전 종료\n",
    "    print(f'{i + 1}회전 결과 : {data}')\n",
    "####### for i -> 정렬 종료\n",
    "print(f'정렬결과 : {data}')\n"
   ]
  },
  {
   "cell_type": "code",
   "execution_count": null,
   "id": "718f347a",
   "metadata": {},
   "outputs": [],
   "source": []
  },
  {
   "cell_type": "code",
   "execution_count": null,
   "id": "3d4f8c67",
   "metadata": {},
   "outputs": [],
   "source": []
  },
  {
   "cell_type": "code",
   "execution_count": null,
   "id": "12ca9d37",
   "metadata": {},
   "outputs": [],
   "source": []
  },
  {
   "cell_type": "code",
   "execution_count": null,
   "id": "c0a1927e",
   "metadata": {},
   "outputs": [],
   "source": []
  },
  {
   "cell_type": "code",
   "execution_count": null,
   "id": "840e0f06",
   "metadata": {},
   "outputs": [],
   "source": []
  }
 ],
 "metadata": {
  "kernelspec": {
   "display_name": "Python 3",
   "language": "python",
   "name": "python3"
  },
  "language_info": {
   "codemirror_mode": {
    "name": "ipython",
    "version": 3
   },
   "file_extension": ".py",
   "mimetype": "text/x-python",
   "name": "python",
   "nbconvert_exporter": "python",
   "pygments_lexer": "ipython3",
   "version": "3.6.8"
  }
 },
 "nbformat": 4,
 "nbformat_minor": 5
}

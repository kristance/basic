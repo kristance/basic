{
 "cells": [
  {
   "cell_type": "markdown",
   "id": "34691d89",
   "metadata": {},
   "source": [
    "bubble sort(교환법)\n",
    "\n",
    "선택 정렬 -> 특정 위치(i번째)의 데이터를 선택해서 나머지(j번째) 데이터와 비교하며 정렬한다.    \n",
    "버블 정렬 -> 인접한 데이터(j번째, j+1번째)를 비교하며 정렬한다.  \n",
    "정렬할 데이터가 n개일 경우 회전수는 n-1번이 된다. -> 데이터가 5개면 회전수는 4번이다.\n",
    "\n"
   ]
  },
  {
   "cell_type": "markdown",
   "id": "c2e9033e",
   "metadata": {},
   "source": [
    "<img src=\"bubbleSort2.png\">\n"
   ]
  },
  {
   "cell_type": "markdown",
   "id": "b09b38bc",
   "metadata": {},
   "source": [
    "<img src=\"bubbleSort3.png\">"
   ]
  },
  {
   "cell_type": "code",
   "execution_count": 6,
   "id": "62e0821f",
   "metadata": {},
   "outputs": [
    {
     "name": "stdout",
     "output_type": "stream",
     "text": [
      "1회전 결과 : [1, 3, 4, 8, 9]\n",
      "원래는 4번 회전을 해야하지만 2회전 후 중간 종료됨\n",
      "정렬결과 : [1, 3, 4, 8, 9]\n"
     ]
    }
   ],
   "source": [
    "#data = [8, 3, 4, 9, 1]\n",
    "data = [9, 1, 3, 4, 8]\n",
    "for i in range(len(data) - 1) :\n",
    "    # ⓐ -> 회전(정렬) 작업이 시작되기 전에 flag 변수를 0으로 초기화를 한다.\n",
    "    flag = 0\n",
    "    for j in range(len(data) - 1 - i):\n",
    "        if data[j] > data[j + 1]:\n",
    "            data[j], data[j + 1] = data[j + 1], data[j]\n",
    "            #ⓑ -> 데이터 교환 작업이 실행되면 flag 변수를 수정한다.\n",
    "            flag = 1\n",
    "        ######## if\n",
    "    ######## for j -> 회전 종료\n",
    "    #ⓒ -> 한 회전이 종료되었을때 데이터 교환 작업이 한번도 실행되지 않았다면 현재 데이터는 모두 정렬된\n",
    "    #상태를 의미하므로 정렬을 중지시킨다. -> i 반복을 탈출한다.\n",
    "    if flag == 0 :\n",
    "        print(f'원래는 {len(data) - 1}번 회전을 해야하지만 {i + 1 }회전 후 중간 종료됨')\n",
    "        break\n",
    "    print(f'{i + 1}회전 결과 : {data}')\n",
    "####### for i -> 정렬 종료\n",
    "print(f'정렬결과 : {data}')\n"
   ]
  },
  {
   "cell_type": "code",
   "execution_count": 3,
   "id": "364099e4",
   "metadata": {},
   "outputs": [
    {
     "name": "stdout",
     "output_type": "stream",
     "text": [
      "1회전 결과 : [1, 3, 4, 8, 9]\n",
      "원래는 4번 회전을 해야하지만 2회전 후 중간 종료됨\n",
      "정렬결과 : [1, 3, 4, 8, 9]\n"
     ]
    }
   ],
   "source": [
    "#data = [8, 3, 4, 9, 1]\n",
    "data = [9, 1, 3, 4, 8]\n",
    "for i in range(len(data) - 1) :\n",
    "    # ⓐ -> 회전(정렬) 작업이 시작되기 전에 flag 변수를 False으로 초기화를 한다.\n",
    "    flag = False\n",
    "    for j in range(len(data) - 1 - i):\n",
    "        if data[j] > data[j + 1]:\n",
    "            data[j], data[j + 1] = data[j + 1], data[j]\n",
    "            #ⓑ -> 데이터 교환 작업이 실행되면 flag 변수를 수정한다.\n",
    "            flag = True\n",
    "        ######## if\n",
    "    ######## for j -> 회전 종료\n",
    "    #ⓒ -> 한 회전이 종료되었을때 데이터 교환 작업이 한번도 실행되지 않았다면 현재 데이터는 모두 정렬된\n",
    "    #상태를 의미하므로 정렬을 중지시킨다. -> i 반복을 탈출한다.\n",
    "    if flag == False :\n",
    "        print(f'원래는 {len(data) - 1}번 회전을 해야하지만 {i + 1 }회전 후 중간 종료됨')\n",
    "        break\n",
    "    print(f'{i + 1}회전 결과 : {data}')\n",
    "####### for i -> 정렬 종료\n",
    "print(f'정렬결과 : {data}')\n"
   ]
  },
  {
   "cell_type": "code",
   "execution_count": null,
   "id": "786a1089",
   "metadata": {},
   "outputs": [],
   "source": []
  }
 ],
 "metadata": {
  "kernelspec": {
   "display_name": "Python 3",
   "language": "python",
   "name": "python3"
  },
  "language_info": {
   "codemirror_mode": {
    "name": "ipython",
    "version": 3
   },
   "file_extension": ".py",
   "mimetype": "text/x-python",
   "name": "python",
   "nbconvert_exporter": "python",
   "pygments_lexer": "ipython3",
   "version": "3.6.8"
  }
 },
 "nbformat": 4,
 "nbformat_minor": 5
}

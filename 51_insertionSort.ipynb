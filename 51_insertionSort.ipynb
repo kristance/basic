{
 "cells": [
  {
   "cell_type": "markdown",
   "id": "6df6d7bc",
   "metadata": {},
   "source": [
    "insertion Sort(삽입 정렬, 삽입법)\n",
    "\n",
    "삽입 정렬은 이미 정렬된 데이터에 새로운 데이터를 위치에 맞게 삽입한다.  \n",
    "정렬할 데이터가 n개일 경우 회전수는 n-1번이 된다. -> 데이터가 5개면 회전수는 4번이다.  \n",
    "<img src=\"삽입정렬.png\" width=\"800px\"/>"
   ]
  },
  {
   "cell_type": "code",
   "execution_count": 27,
   "id": "d5e806b9",
   "metadata": {},
   "outputs": [
    {
     "name": "stdout",
     "output_type": "stream",
     "text": [
      "[i = 1 ### j = 0] \n",
      "[i = 2 ### j = 1] [i = 2 ### j = 0] \n",
      "[i = 3 ### j = 2] [i = 3 ### j = 1] [i = 3 ### j = 0] \n",
      "[i = 4 ### j = 3] [i = 4 ### j = 2] [i = 4 ### j = 1] [i = 4 ### j = 0] \n"
     ]
    }
   ],
   "source": [
    "n = 5\n",
    "for i in range(1, n) : #회전수, 정렬된 데이터의 삽입할 데이터의 위치\n",
    "    for j in range(i - 1, -1, -1) : #비교대상\n",
    "        print(f'[i = {i} ### j = {j}]', end=\" \")\n",
    "    print()"
   ]
  },
  {
   "cell_type": "code",
   "execution_count": 30,
   "id": "22dba695",
   "metadata": {},
   "outputs": [
    {
     "name": "stdout",
     "output_type": "stream",
     "text": [
      "1회전 결과 : [3, 8, 4, 9, 1]\n",
      "2회전 결과 : [3, 4, 8, 9, 1]\n",
      "3회전 결과 : [3, 4, 8, 9, 1]\n",
      "4회전 결과 : [1, 3, 4, 8, 9]\n",
      "정렬결과 : [1, 3, 4, 8, 9]\n"
     ]
    }
   ],
   "source": [
    "data = [8, 3, 4, 9, 1]\n",
    "for i in range(1, len(data)) :\n",
    "    #이미 정렬된 데이터에 새 데이터가 삽입될 위치를 찾기위해 새 데이터의 인덱스를 각각 key, index에 저장한다.\n",
    "    key = data[i]\n",
    "    index = i\n",
    "    #새 데이터가 삽입될 위치를 찾는다.\n",
    "    for j in range(i - 1, -1, -1) : \n",
    "        if data[j] > key:\n",
    "            #이미 정렬된 데이터가 크기때문에 정렬된 데이터를 인덱스가 1 큰 위치로 이동시킨다.\n",
    "            data[j + 1] = data[j]\n",
    "            #key에 저장된 삽입할 데이터의 인덱스 값을 1감소 시킨다.\n",
    "            index -= 1\n",
    "        else :\n",
    "            #삽입할 데이터가 이미 정렬된 데이터와 같거나 더 크다는 의미이므로 이미 정렬된 데이터 앞에 위치한\n",
    "            #데이터들과는 더이상 비교할 필요없으므로 반복을 탈출한다.\n",
    "            break\n",
    "        ####### if\n",
    "    ######## for j -> 회전 종료\n",
    "    #key에 저장된 삽입할 데이터를 정렬된 데이터의 인덱스 위치에 맞게 삽입한다.\n",
    "    data[index] = key\n",
    "    print(f'{i}회전 결과 : {data}')\n",
    "######## for i -> 정렬 종료\n",
    "print(f'정렬결과 : {data}')"
   ]
  },
  {
   "cell_type": "code",
   "execution_count": null,
   "id": "f72482d2",
   "metadata": {},
   "outputs": [],
   "source": []
  },
  {
   "cell_type": "code",
   "execution_count": null,
   "id": "f7ef2655",
   "metadata": {},
   "outputs": [],
   "source": []
  },
  {
   "cell_type": "code",
   "execution_count": null,
   "id": "a64cea67",
   "metadata": {},
   "outputs": [],
   "source": []
  },
  {
   "cell_type": "code",
   "execution_count": null,
   "id": "c604ffb0",
   "metadata": {},
   "outputs": [],
   "source": []
  },
  {
   "cell_type": "code",
   "execution_count": null,
   "id": "368aaf30",
   "metadata": {},
   "outputs": [],
   "source": []
  },
  {
   "cell_type": "code",
   "execution_count": null,
   "id": "ef6f1be1",
   "metadata": {},
   "outputs": [],
   "source": []
  },
  {
   "cell_type": "code",
   "execution_count": null,
   "id": "f07c7592",
   "metadata": {},
   "outputs": [],
   "source": []
  },
  {
   "cell_type": "code",
   "execution_count": null,
   "id": "6185d461",
   "metadata": {},
   "outputs": [],
   "source": []
  },
  {
   "cell_type": "code",
   "execution_count": null,
   "id": "469a359c",
   "metadata": {},
   "outputs": [],
   "source": []
  },
  {
   "cell_type": "code",
   "execution_count": null,
   "id": "7a689c4e",
   "metadata": {},
   "outputs": [],
   "source": []
  },
  {
   "cell_type": "code",
   "execution_count": null,
   "id": "ce57f887",
   "metadata": {},
   "outputs": [],
   "source": []
  },
  {
   "cell_type": "code",
   "execution_count": null,
   "id": "34b51a2e",
   "metadata": {},
   "outputs": [],
   "source": []
  }
 ],
 "metadata": {
  "kernelspec": {
   "display_name": "Python 3",
   "language": "python",
   "name": "python3"
  },
  "language_info": {
   "codemirror_mode": {
    "name": "ipython",
    "version": 3
   },
   "file_extension": ".py",
   "mimetype": "text/x-python",
   "name": "python",
   "nbconvert_exporter": "python",
   "pygments_lexer": "ipython3",
   "version": "3.6.8"
  }
 },
 "nbformat": 4,
 "nbformat_minor": 5
}

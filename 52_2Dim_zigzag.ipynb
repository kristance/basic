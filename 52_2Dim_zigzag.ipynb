{
 "cells": [
  {
   "cell_type": "markdown",
   "id": "a1e20a90",
   "metadata": {},
   "source": [
    "2차원 리스트  \n",
    "\n",
    "<img src=\"./2Dim.png\">"
   ]
  },
  {
   "cell_type": "code",
   "execution_count": 2,
   "id": "51795cb8",
   "metadata": {},
   "outputs": [
    {
     "name": "stdout",
     "output_type": "stream",
     "text": [
      "<class 'list'>\n",
      "[[1, 2, 3], [4, 5, 6]]\n"
     ]
    }
   ],
   "source": [
    "a = [[1, 2, 3], [4, 5, 6]]\n",
    "print(type(a))\n",
    "print(a)"
   ]
  },
  {
   "cell_type": "code",
   "execution_count": 3,
   "id": "dcd16eef",
   "metadata": {},
   "outputs": [
    {
     "name": "stdout",
     "output_type": "stream",
     "text": [
      "<class 'numpy.ndarray'>\n",
      "[[1 2 3]\n",
      " [4 5 6]]\n"
     ]
    }
   ],
   "source": [
    "import numpy as np\n",
    "b = np.array(a)\n",
    "print(type(b))\n",
    "print(b)"
   ]
  },
  {
   "cell_type": "code",
   "execution_count": null,
   "id": "944c2292",
   "metadata": {},
   "outputs": [],
   "source": [
    "a = [0] * 5\n",
    "print(a)\n",
    "b = [0 for i in range(5)]\n",
    "print(b)"
   ]
  },
  {
   "cell_type": "code",
   "execution_count": 10,
   "id": "c62c7af5",
   "metadata": {},
   "outputs": [
    {
     "name": "stdout",
     "output_type": "stream",
     "text": [
      "[[0, 0, 0, 0, 0], [0, 0, 0, 0, 0], [0, 0, 0, 0, 0], [0, 0, 0, 0, 0]]\n",
      "[[0 0 0 0 0]\n",
      " [0 0 0 0 0]\n",
      " [0 0 0 0 0]\n",
      " [0 0 0 0 0]]\n"
     ]
    }
   ],
   "source": [
    "# 리스트이름 = [[초기값] * 열개수 for 변수 in range (행 갯수)]\n",
    "a = [[0] * 5 for i in range(4)]\n",
    "print(a)\n",
    "b = np.array(a)\n",
    "print(b)"
   ]
  },
  {
   "cell_type": "code",
   "execution_count": 11,
   "id": "eefb4240",
   "metadata": {},
   "outputs": [
    {
     "name": "stdout",
     "output_type": "stream",
     "text": [
      "4\n",
      "5\n",
      "4\n",
      "5\n",
      "(4, 5)\n",
      "4\n",
      "5\n"
     ]
    }
   ],
   "source": [
    "print(len(a)) # 행의 갯수\n",
    "print(len(a[0])) # 열의 갯수\n",
    "# print(a.shape) # 파이썬의 리스트는 shape를 사용할 수 없으므로 에러가 발생한다.\n",
    "print(len(b))\n",
    "print(len(b[0]))\n",
    "print(b.shape)\n",
    "print(b.shape[0])\n",
    "print(b.shape[1])"
   ]
  },
  {
   "cell_type": "code",
   "execution_count": 12,
   "id": "d8c8e819",
   "metadata": {},
   "outputs": [
    {
     "name": "stdout",
     "output_type": "stream",
     "text": [
      "[0, 0, 0, 0, 0] [0, 0, 0, 0, 0] [0, 0, 0, 0, 0] [0, 0, 0, 0, 0] [0, 0, 0, 0, 0] \n",
      "[0, 0, 0, 0, 0] [0, 0, 0, 0, 0] [0, 0, 0, 0, 0] [0, 0, 0, 0, 0] [0, 0, 0, 0, 0] \n",
      "[0, 0, 0, 0, 0] [0, 0, 0, 0, 0] [0, 0, 0, 0, 0] [0, 0, 0, 0, 0] [0, 0, 0, 0, 0] \n",
      "[0, 0, 0, 0, 0] [0, 0, 0, 0, 0] [0, 0, 0, 0, 0] [0, 0, 0, 0, 0] [0, 0, 0, 0, 0] \n"
     ]
    }
   ],
   "source": [
    "for i in range(len(a)) :\n",
    "    for j in range(len(a[0])) :\n",
    "        print(a[i], end=' ')\n",
    "    print()"
   ]
  },
  {
   "cell_type": "markdown",
   "id": "8c3cf96b",
   "metadata": {},
   "source": [
    "<img src=\"zigzag.png\" width=\"500\">"
   ]
  },
  {
   "cell_type": "code",
   "execution_count": 18,
   "id": "651045db",
   "metadata": {},
   "outputs": [],
   "source": [
    "def pprint(data) :\n",
    "    for i in range(len(data)) :\n",
    "        for j in range(len(data[0])) :\n",
    "            print('{:3d}'.format(data[i][j]), end=' ')\n",
    "        print()"
   ]
  },
  {
   "cell_type": "code",
   "execution_count": 19,
   "id": "ee757746",
   "metadata": {},
   "outputs": [
    {
     "name": "stdout",
     "output_type": "stream",
     "text": [
      "row와 col 입력해주세요 : 4 5\n",
      "  1   2   3   4   5 \n",
      " 10   9   8   7   6 \n",
      " 11  12  13  14  15 \n",
      " 20  19  18  17  16 \n"
     ]
    }
   ],
   "source": [
    "# 2차원 리스트를 만드려는 행과 열의 갯수를 입력받아 2차원 리스트를 만든다.\n",
    "row, col = map(int, input('row와 col 입력해주세요 : ').split())\n",
    "data = [[0] * col for _ in range(row)]\n",
    "n = 0 # 리스트에 1씩 증가하며 채워질 숫자가 기억되는 변수\n",
    "\n",
    "\n",
    "#짝수행은 숫자가 왼쪽에서 오른쪽으로 채워지고 홀수행은 숫자가 오른쪽에서 왼쪽으로 채워진다.\n",
    "for i in range(row) :#행\n",
    "    #짝수행인가 홀수행인가 판단한다.\n",
    "    if i % 2 == 0: #짝수인가?\n",
    "        #짝수행은 왼쪽에서 오른쪽으로 숫자를 채운다. j -> 0, 1, 2, 3, 4\n",
    "        for j in range(col) :\n",
    "            n += 1\n",
    "            data[i][j] = n\n",
    "        ######## for j\n",
    "    else :\n",
    "        #홀수행은 오른쪽에서 왼쪽으로 숫자를 채운다. i -> 4, 3, 2, 1, 0\n",
    "        for j in range(col - 1, -1, -1):\n",
    "            n += 1\n",
    "            data[i][j] = n\n",
    "        ####### for j\n",
    "    ###### if\n",
    "###### for i\n",
    "pprint(data)"
   ]
  },
  {
   "cell_type": "code",
   "execution_count": 25,
   "id": "6904897a",
   "metadata": {},
   "outputs": [
    {
     "name": "stdout",
     "output_type": "stream",
     "text": [
      "row와 col 입력해주세요 : 4 5\n",
      "  1   2   3   4   5 \n",
      " 10   9   8   7   6 \n",
      " 11  12  13  14  15 \n",
      " 20  19  18  17  16 \n"
     ]
    }
   ],
   "source": [
    "# i = 0, sw = 1 j = 0, 1, 2, 3, 4 -> range(0, 5, sw)\n",
    "# i = 1, sw = -1 j = 4, 3 , 2, 1 ,0 -> range(4, -1, sw)\n",
    "# i = 2, sw = 1 j = 0, 1, 2, 3, 4 -> range(0, 5, sw)\n",
    "# i = 3, sw = -1 j = 4, 3 , 2, 1 ,0 -> range(4, -1, sw)\n",
    "row, col = map(int, input('row와 col 입력해주세요 : ').split())\n",
    "data = [[0] * col for _ in range(row)]\n",
    "n = 0\n",
    "start = 0 # 2차원 리스트에 숫자가 채워지기 시작하는 열 인덱스\n",
    "end = col - 1 # 2차원 리스트에 숫자가 채워지는 마지막 열 인덱스 \n",
    "sw = 1 # start에서 end까지 증가치로 사용할 변수\n",
    "\n",
    "for i in range(row):\n",
    "    for j in range(start, end + sw, sw)  :\n",
    "        #print(f'[i = {i}] ### j = {j}]', end='')\n",
    "        n += 1\n",
    "        data[i][j] = n\n",
    "    ##### for j\n",
    "    #print()\n",
    "    start, end = end, start \n",
    "    sw *= -1\n",
    "##### for i    \n",
    "\n",
    "pprint(data)"
   ]
  },
  {
   "cell_type": "code",
   "execution_count": 26,
   "id": "b0252f81",
   "metadata": {},
   "outputs": [
    {
     "name": "stdout",
     "output_type": "stream",
     "text": [
      "row와 col 입력해주세요 : 4 5 \n",
      "[0, 1, 2, 3, 4] [4, 3, 2, 1, 0]\n",
      "  1   2   3   4   5 \n",
      " 10   9   8   7   6 \n",
      " 11  12  13  14  15 \n",
      " 20  19  18  17  16 \n"
     ]
    }
   ],
   "source": [
    "row, col = map(int, input('row와 col 입력해주세요 : ').split())\n",
    "data = [[0] * col for _ in range(row)]\n",
    "n = 0\n",
    "start = [i for i in range(col)] #왼쪽부터 오른쪽으로 진행하는 열 인덱스를 기억하는 리스트\n",
    "end = [i for i in range(col - 1, -1, -1)] # 오른쪽부터 왼쪽으로 진행하는 열 인덱스를 기억하는 리스트\n",
    "print(start, end)\n",
    "\n",
    "for i in range(row):\n",
    "    for j in start:\n",
    "        n +=1\n",
    "        data[i][j] = n\n",
    "    ##### for j\n",
    "    start, end = end, start\n",
    "#####  for i\n",
    "\n",
    "pprint(data)"
   ]
  },
  {
   "cell_type": "code",
   "execution_count": null,
   "id": "9ab522fe",
   "metadata": {},
   "outputs": [],
   "source": []
  },
  {
   "cell_type": "code",
   "execution_count": null,
   "id": "46c9b7ac",
   "metadata": {},
   "outputs": [],
   "source": []
  },
  {
   "cell_type": "code",
   "execution_count": null,
   "id": "bc1821cc",
   "metadata": {},
   "outputs": [],
   "source": []
  },
  {
   "cell_type": "code",
   "execution_count": null,
   "id": "04a372fd",
   "metadata": {},
   "outputs": [],
   "source": []
  }
 ],
 "metadata": {
  "kernelspec": {
   "display_name": "Python 3",
   "language": "python",
   "name": "python3"
  },
  "language_info": {
   "codemirror_mode": {
    "name": "ipython",
    "version": 3
   },
   "file_extension": ".py",
   "mimetype": "text/x-python",
   "name": "python",
   "nbconvert_exporter": "python",
   "pygments_lexer": "ipython3",
   "version": "3.6.8"
  }
 },
 "nbformat": 4,
 "nbformat_minor": 5
}

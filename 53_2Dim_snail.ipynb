{
 "cells": [
  {
   "cell_type": "markdown",
   "id": "b2b20af9",
   "metadata": {},
   "source": [
    "<img src=\"./snail1.png\" width=\"400\">\n",
    "<img src=\"./snail2.png\" width=\"600\">"
   ]
  },
  {
   "cell_type": "code",
   "execution_count": 11,
   "id": "fcecbb50",
   "metadata": {},
   "outputs": [],
   "source": [
    "def pprint(data) :\n",
    "    for i in range(len(data)) :\n",
    "        for j in range(len(data[0])) :\n",
    "            print('{:3d}'.format(data[i][j]), end=' ')\n",
    "        print()"
   ]
  },
  {
   "cell_type": "code",
   "execution_count": 15,
   "id": "ab836e56",
   "metadata": {},
   "outputs": [
    {
     "name": "stdout",
     "output_type": "stream",
     "text": [
      "  1   2   3   4   5 \n",
      " 16  17  18  19   6 \n",
      " 15  24  25  20   7 \n",
      " 14  23  22  21   8 \n",
      " 13  12  11  10   9 \n"
     ]
    }
   ],
   "source": [
    "a = [[0] * 5 for i in range(5)]\n",
    "n = 0 # 1에서 25까지 증가하는 변수\n",
    "s = 1 # 행과 열이 1도느 -1씩 증가 및 감소 처리에 사용하는 변수\n",
    "i = 0 # 행\n",
    "j = -1 # 열\n",
    "k = 5 # 숫자를 채우는 반복 횟수 제어에 사용하는 변수\n",
    "\n",
    "while n < 25:\n",
    "    #행 방향으로 숫자를 채운다.\n",
    "    for p in range(1, k + 1):\n",
    "        n += 1\n",
    "        j += s\n",
    "        a[i][j] = n\n",
    "    ##### for p\n",
    "    #k를 1감소시킨다.\n",
    "    k -= 1\n",
    "    #열 방향으로 숫자를 채운다.\n",
    "    for p in range(1, k + 1):\n",
    "        n += 1\n",
    "        i += s\n",
    "        a[i][j] = n\n",
    "    ##### for p\n",
    "    s *= -1\n",
    "##### while\n",
    "\n",
    "pprint(a)"
   ]
  },
  {
   "cell_type": "code",
   "execution_count": 45,
   "id": "f6dfb624",
   "metadata": {},
   "outputs": [
    {
     "name": "stdout",
     "output_type": "stream",
     "text": [
      "2차원 리스트의 차수를 3이상인 홀수 입력 >>>> 15\n",
      "  1   2   3   4   5   6   7   8   9  10  11  12  13  14  15 \n",
      " 56  57  58  59  60  61  62  63  64  65  66  67  68  69  16 \n",
      " 55 104 105 106 107 108 109 110 111 112 113 114 115  70  17 \n",
      " 54 103 144 145 146 147 148 149 150 151 152 153 116  71  18 \n",
      " 53 102 143 176 177 178 179 180 181 182 183 154 117  72  19 \n",
      " 52 101 142 175 200 201 202 203 204 205 184 155 118  73  20 \n",
      " 51 100 141 174 199 216 217 218 219 206 185 156 119  74  21 \n",
      " 50  99 140 173 198 215 224 225 220 207 186 157 120  75  22 \n",
      " 49  98 139 172 197 214 223 222 221 208 187 158 121  76  23 \n",
      " 48  97 138 171 196 213 212 211 210 209 188 159 122  77  24 \n",
      " 47  96 137 170 195 194 193 192 191 190 189 160 123  78  25 \n",
      " 46  95 136 169 168 167 166 165 164 163 162 161 124  79  26 \n",
      " 45  94 135 134 133 132 131 130 129 128 127 126 125  80  27 \n",
      " 44  93  92  91  90  89  88  87  86  85  84  83  82  81  28 \n",
      " 43  42  41  40  39  38  37  36  35  34  33  32  31  30  29 \n"
     ]
    }
   ],
   "source": [
    " while True:\n",
    "    m = int(input('2차원 리스트의 차수를 3이상인 홀수 입력 >>>> '))\n",
    "    if m >= 3 and m % 2 == 1:\n",
    "        break\n",
    "    ###### if\n",
    "    print('2차원 리스트이 차수는 3이상인 홀수이어야 한다.')\n",
    "###### while\n",
    "a = [[0] * m for i in range(m)]\n",
    "n = 0; s = 1; i = 0; j = -1; k = m\n",
    "\n",
    "while n < m * m:\n",
    "    for p in range(1, k + 1):\n",
    "        n += 1\n",
    "        j += s\n",
    "        a[i][j] = n\n",
    "    ##### for p\n",
    "    k -= 1\n",
    "    for p in range(1, k + 1):\n",
    "        n += 1\n",
    "        i += s\n",
    "        a[i][j] = n\n",
    "    ##### for p\n",
    "    s *= -1\n",
    "##### while\n",
    "\n",
    "pprint(a)\n"
   ]
  },
  {
   "cell_type": "code",
   "execution_count": 49,
   "id": "0a304771",
   "metadata": {},
   "outputs": [
    {
     "name": "stdout",
     "output_type": "stream",
     "text": [
      " 13  14  15  16  17 \n",
      " 12   3   4   5  18 \n",
      " 11   2   1   6  19 \n",
      " 10   9   8   7  20 \n",
      " 25  24  23  22  21 \n"
     ]
    }
   ],
   "source": [
    "a = [[0] * 5 for i in range(5)]\n",
    "#2차원 리스트이 정가운데 위치에 1이 체워져있다는 가정을 하고 시작한다.\n",
    "i = 2; j = 2; a[i][j] = 1\n",
    "n = 1 # 1을 리스트 정가운데 위치에 채웠으므로 2부터 채우기 위해서 1로 초기화한다.\n",
    "s = 1\n",
    "k = 1 # 안쪽부터 바깥쪽으로 숫자를 채우기때문에 반복횟수를 제어하는 변수는 1로 시작한다.\n",
    "flag = False # 마지막 숫자까지 채워졌나 확인하는 변수\n",
    "\n",
    "\n",
    "while True:\n",
    "    #k += 1  # 3시 방향부터 숫자를 채운다.\n",
    "    for p in range(1, k):\n",
    "        n += 1; j += s\n",
    "        if n > 25 :\n",
    "            flag = True\n",
    "            break\n",
    "        ######  if \n",
    "        a[i][j] = n\n",
    "    ######  for p\n",
    "    #위의 반복문이 정상적으로 종료되면 flag 변수에는 저장되어있으므로 다음 반복을 진행하고\n",
    "    #위의 반복문이 break에 의해 종료되면 flag 변수에 True가 저장되어있으므로 프로그램을 종료한다.\n",
    "    if flag:\n",
    "        break\n",
    "    ######## if\n",
    "    for p in range(1, k):\n",
    "        n += 1; i += s\n",
    "        a[i][j] = n\n",
    "    ######  for p\n",
    "    s *= -1\n",
    "    k += 1 # 9시 방향부터 숫자를 채운다.\n",
    "#### while\n",
    "\n",
    "pprint(a)"
   ]
  },
  {
   "cell_type": "code",
   "execution_count": 51,
   "id": "92c46540",
   "metadata": {},
   "outputs": [
    {
     "name": "stdout",
     "output_type": "stream",
     "text": [
      "2차원 리스트의 차수를 3이상인 홀수 입력 >>>> 7\n",
      " 31  32  33  34  35  36  37 \n",
      " 30  13  14  15  16  17  38 \n",
      " 29  12   3   4   5  18  39 \n",
      " 28  11   2   1   6  19  40 \n",
      " 27  10   9   8   7  20  41 \n",
      " 26  25  24  23  22  21  42 \n",
      " 49  48  47  46  45  44  43 \n"
     ]
    }
   ],
   "source": [
    "while True:\n",
    "    m = int(input('2차원 리스트의 차수를 3이상인 홀수 입력 >>>> '))\n",
    "    if m >= 3 and m % 2 == 1:\n",
    "        break\n",
    "    ###### if\n",
    "    print('2차원 리스트이 차수는 3이상인 홀수이어야 한다.')\n",
    "###### while\n",
    "a = [[0] * m for i in range(m)]\n",
    "i = m // 2; j = m // 2 #리스트의 정가운데 위치를 계산한다.\n",
    "a[i][j] = 1\n",
    "n = 1 \n",
    "s = 1\n",
    "k = 1 \n",
    "flag = False\n",
    "\n",
    "while True:\n",
    "    #k += 1  # 3시 방향부터 숫자를 채운다.\n",
    "    for p in range(1, k):\n",
    "        n += 1; j += s\n",
    "        if n > m ** 2 :\n",
    "            flag = True\n",
    "            break\n",
    "        ######  if \n",
    "        a[i][j] = n\n",
    "    ######  for p\n",
    "    if flag:\n",
    "        break\n",
    "    ######## if\n",
    "    for p in range(1, k):\n",
    "        n += 1; i += s\n",
    "        a[i][j] = n\n",
    "    ######  for p\n",
    "    s *= -1\n",
    "    k += 1 # 9시 방향부터 숫자를 채운다.\n",
    "#### while\n",
    "\n",
    "pprint(a)"
   ]
  },
  {
   "cell_type": "code",
   "execution_count": null,
   "id": "2bc6aec2",
   "metadata": {},
   "outputs": [],
   "source": []
  },
  {
   "cell_type": "code",
   "execution_count": null,
   "id": "c0ee76a2",
   "metadata": {},
   "outputs": [],
   "source": []
  },
  {
   "cell_type": "code",
   "execution_count": null,
   "id": "3ce47bc2",
   "metadata": {},
   "outputs": [],
   "source": []
  },
  {
   "cell_type": "code",
   "execution_count": null,
   "id": "2d382fd7",
   "metadata": {},
   "outputs": [],
   "source": []
  },
  {
   "cell_type": "code",
   "execution_count": null,
   "id": "7e45af88",
   "metadata": {},
   "outputs": [],
   "source": []
  },
  {
   "cell_type": "code",
   "execution_count": null,
   "id": "ebae0f37",
   "metadata": {},
   "outputs": [],
   "source": []
  },
  {
   "cell_type": "code",
   "execution_count": null,
   "id": "5021415d",
   "metadata": {},
   "outputs": [],
   "source": []
  }
 ],
 "metadata": {
  "kernelspec": {
   "display_name": "Python 3",
   "language": "python",
   "name": "python3"
  },
  "language_info": {
   "codemirror_mode": {
    "name": "ipython",
    "version": 3
   },
   "file_extension": ".py",
   "mimetype": "text/x-python",
   "name": "python",
   "nbconvert_exporter": "python",
   "pygments_lexer": "ipython3",
   "version": "3.6.8"
  }
 },
 "nbformat": 4,
 "nbformat_minor": 5
}

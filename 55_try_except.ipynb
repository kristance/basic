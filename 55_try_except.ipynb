{
 "cells": [
  {
   "cell_type": "markdown",
   "id": "433f0b10",
   "metadata": {},
   "source": [
    "오류 처리\n",
    "\n",
    "프로그램을 작성할 때 잘못 동작되는 것을 방지하기 위해 오류가 발생된다. -> 오류가 발생되면 프로그램이 멈춘다.  \n",
    "try - except를 사용하면 오류가 발생되었을 때 별도의 처리를 하거나 오류를 무시하고 프로그램을 실행할 수 있다.  \n",
    "오류가 발생될 것으로 예상되는 문장을 try 블록에 코딩하고 try 블록을 실행하다 오류가 발생되면 더 이상 try 블록을 실행하지 않고  \n",
    "except 블록에 코딩된 내용을 실행한다. 오류 발생 여부와 관계없이 실행해야할 문장이 있다면 finally 블록에 코딩한다.  \n",
    "***\n",
    "try: # 필수  \n",
    "&nbsp;&nbsp;&nbsp;&nbsp;오류가 발생될 것으로 예상되는 문장  \n",
    "&nbsp;&nbsp;&nbsp;&nbsp;...  \n",
    "except [오류 이름 [as 변수 이름]]: # 필수 -> 오류 이름과 변수 이름은 생략할 수 있다.   \n",
    "&nbsp;&nbsp;&nbsp;&nbsp;오류가 발생되면 실행할 문장  \n",
    "&nbsp;&nbsp;&nbsp;&nbsp;...  \n",
    "finally: # 선택 -> 필요한 경우 사용한다.  \n",
    "&nbsp;&nbsp;&nbsp;&nbsp;오류 발생 여부와 관계없이 실행할 문장  \n",
    "&nbsp;&nbsp;&nbsp;&nbsp;...  "
   ]
  },
  {
   "cell_type": "code",
   "execution_count": 5,
   "id": "4d4483e1",
   "metadata": {},
   "outputs": [
    {
     "name": "stdout",
     "output_type": "stream",
     "text": [
      "4.0\n",
      "나눗셈을 0으로 할 수 있을까?????ㅋ\n",
      "blah blah blah blah\n"
     ]
    }
   ],
   "source": [
    "try :\n",
    "    print( 4 / 1)\n",
    "    print( 4 / 0)\n",
    "    print( 4 / 4)\n",
    "except : # except 뒤에 오류 이름을 쓰지 않으면 모든 오류를 처리할 수 있다.\n",
    "    # pass 오류 발생시 아무것도 하지않고 오류를 무시하려면 pass만 사용하면 된다.\n",
    "    print('나눗셈을 0으로 할 수 있을까?????ㅋ')\n",
    "print('blah blah blah blah')"
   ]
  },
  {
   "cell_type": "code",
   "execution_count": 8,
   "id": "633ca943",
   "metadata": {},
   "outputs": [
    {
     "name": "stdout",
     "output_type": "stream",
     "text": [
      "3\n",
      "리스트의 인덱스 지정이 올바르지 않다.\n",
      "훗 ㅋㅋㅋ\n"
     ]
    }
   ],
   "source": [
    "data = [1, 2, 3]\n",
    "try :\n",
    "    print(data[2])\n",
    "    print(data[3]) # IndexError\n",
    "    print(data[-1])\n",
    "except :\n",
    "    print('리스트의 인덱스 지정이 올바르지 않다.')\n",
    "print('훗 ㅋㅋㅋ')"
   ]
  },
  {
   "cell_type": "code",
   "execution_count": 25,
   "id": "92c5f32a",
   "metadata": {
    "scrolled": false
   },
   "outputs": [
    {
     "name": "stdout",
     "output_type": "stream",
     "text": [
      "안녕 오늘도~~~\n",
      "오류 발생 여부와 관계없이 무조건 실행해야 할 문장이 있다면 finally 블록에 코딩한다.\n",
      "와우 ~ 오류 파티다다닫다다다닼ㅋㅋㅋ\n"
     ]
    }
   ],
   "source": [
    "data = [1, 2, 3]\n",
    "string = '안녕 오늘도~~~'\n",
    "try :\n",
    "    #print(4 / 0) # ZeroDivisionError\n",
    "    #print(data[3]) # IndexError\n",
    "    print(string)\n",
    "    #print('%d' % string) # TypeError\n",
    "except ZeroDivisionError : # except 뒤에 오류 이름을 적으면 지정된 오류만 처리한다.\n",
    "    print('나눗셈을 0으로 할 수 있을까?????ㅋ')\n",
    "except IndexError as e : # except 뒤에 오류 이름을 쓰고 as 다음에 변수를 지정하면 오류 메시지가 변수에 저장된다.\n",
    "    print('리스트의 인덱스 지정이 올바르지 않다.')\n",
    "    print(e)\n",
    "except : \n",
    "    # except 뒤에 오류 이름을 지정하지 않으면 모든 오류를 처리하기 때문에 except 뒤에 코딩한 다른 except 문장들이\n",
    "    # 실행될 수 없기때문에 SyntaxError 에러가 발생된다.\n",
    "    # 따라서, except만 사용하는 경우 반드시 맨 마지막에 코딩을 해야한다.\n",
    "    # ZeroDivisionError, IndexError를 제외한 모든 오류가 이곳에 코딩한 문장을 실행한다.\n",
    "    print('데이터 타입도 틀리넼 ㅋㅋ')\n",
    "finally :\n",
    "    # 오류 발생 여부와 관계없이 무조건 실행해야 할 문장이 있다면 finally 블록에 코딩한다.\n",
    "    print('오류 발생 여부와 관계없이 무조건 실행해야 할 문장이 있다면 finally 블록에 코딩한다.')\n",
    "print('와우 ~ 오류 파티다다닫다다다닼ㅋㅋㅋ')"
   ]
  },
  {
   "cell_type": "code",
   "execution_count": 27,
   "id": "a7b0f31b",
   "metadata": {},
   "outputs": [
    {
     "name": "stdout",
     "output_type": "stream",
     "text": [
      "[100, '010', 55, '10']\n"
     ]
    },
    {
     "ename": "TypeError",
     "evalue": "'<' not supported between instances of 'str' and 'int'",
     "output_type": "error",
     "traceback": [
      "\u001b[1;31m---------------------------------------------------------------------------\u001b[0m",
      "\u001b[1;31mTypeError\u001b[0m                                 Traceback (most recent call last)",
      "\u001b[1;32m<ipython-input-27-9f29ca21a51d>\u001b[0m in \u001b[0;36m<module>\u001b[1;34m\u001b[0m\n\u001b[0;32m      1\u001b[0m \u001b[0ma\u001b[0m \u001b[1;33m=\u001b[0m \u001b[1;33m[\u001b[0m\u001b[1;36m100\u001b[0m\u001b[1;33m,\u001b[0m \u001b[1;34m'010'\u001b[0m\u001b[1;33m,\u001b[0m \u001b[1;36m55\u001b[0m\u001b[1;33m,\u001b[0m \u001b[1;34m'10'\u001b[0m\u001b[1;33m]\u001b[0m\u001b[1;33m\u001b[0m\u001b[1;33m\u001b[0m\u001b[0m\n\u001b[0;32m      2\u001b[0m \u001b[0mprint\u001b[0m\u001b[1;33m(\u001b[0m\u001b[0ma\u001b[0m\u001b[1;33m)\u001b[0m\u001b[1;33m\u001b[0m\u001b[1;33m\u001b[0m\u001b[0m\n\u001b[1;32m----> 3\u001b[1;33m \u001b[0ma\u001b[0m\u001b[1;33m.\u001b[0m\u001b[0msort\u001b[0m\u001b[1;33m(\u001b[0m\u001b[1;33m)\u001b[0m\u001b[1;33m\u001b[0m\u001b[1;33m\u001b[0m\u001b[0m\n\u001b[0m",
      "\u001b[1;31mTypeError\u001b[0m: '<' not supported between instances of 'str' and 'int'"
     ]
    }
   ],
   "source": [
    "a = [100, '010', 55, '10']\n",
    "print(a)\n",
    "a.sort()"
   ]
  },
  {
   "cell_type": "code",
   "execution_count": null,
   "id": "6ff1cc53",
   "metadata": {},
   "outputs": [],
   "source": [
    "# 숫자 데이터와 문자 데이터가 섞여서 입력되는 데이터를 정렬한다. 999가 입력되면 정렬을 시작한다.\n",
    "number = [] # 숫자를 기억할 빈 리스트\n",
    "alpha = [] # 문자를 기억할 빈 리스트\n",
    "while True :\n",
    "    var = input('숫자또는 문자 입력 -> 999 되면 정렬 시작')\n",
    "    if var = '999' :\n",
    "        break\n",
    "    # 입력받은 데이터가 '0' ~ '9' 사이의 문자로만 구성된 경우와 그렇지 않은 경우를 각각 number, alpha 리스트에 저장한다.\n",
    "    try :\n",
    "        number.append(int(var)) # int(var)에서 var가 숫자가 아니면 TypeError가 발생됨\n",
    "    except :\n",
    "        alpha.append(var)\n",
    "##### while\n",
    "number.sort()\n",
    "alpha.sort()\n",
    "print(number + alpha)"
   ]
  },
  {
   "cell_type": "code",
   "execution_count": 32,
   "id": "315c7a3f",
   "metadata": {},
   "outputs": [
    {
     "name": "stdout",
     "output_type": "stream",
     "text": [
      "숫자또는 문자 입력 -> 999 되면 정렬 시작1\n",
      "숫자또는 문자 입력 -> 999 되면 정렬 시작2\n",
      "숫자또는 문자 입력 -> 999 되면 정렬 시작3\n",
      "숫자또는 문자 입력 -> 999 되면 정렬 시작5\n",
      "숫자또는 문자 입력 -> 999 되면 정렬 시작6\n",
      "숫자또는 문자 입력 -> 999 되면 정렬 시작a\n",
      "숫자또는 문자 입력 -> 999 되면 정렬 시작sb\n",
      "숫자또는 문자 입력 -> 999 되면 정렬 시작c\n",
      "숫자또는 문자 입력 -> 999 되면 정렬 시작2\n",
      "숫자또는 문자 입력 -> 999 되면 정렬 시작4\n",
      "숫자또는 문자 입력 -> 999 되면 정렬 시작7\n",
      "숫자또는 문자 입력 -> 999 되면 정렬 시작sas\n",
      "숫자또는 문자 입력 -> 999 되면 정렬 시작f\n",
      "숫자또는 문자 입력 -> 999 되면 정렬 시작hg2\n",
      "숫자또는 문자 입력 -> 999 되면 정렬 시작3d\n",
      "숫자또는 문자 입력 -> 999 되면 정렬 시작3eq\n",
      "숫자또는 문자 입력 -> 999 되면 정렬 시작ed\n",
      "숫자또는 문자 입력 -> 999 되면 정렬 시작e\n",
      "숫자또는 문자 입력 -> 999 되면 정렬 시작999\n",
      "['1', '2', '2', '3', '3d', '3eq', '4', '5', '6', '7', '999', 'a', 'c', 'e', 'ed', 'f', 'hg2', 'sas', 'sb']\n"
     ]
    }
   ],
   "source": [
    "# 숫자 데이터와 문자 데이터가 섞여서 입력되는 데이터를 정렬한다. 999가 입력되면 정렬을 시작한다.\n",
    "intList = []\n",
    "stringList = []\n",
    "while True :\n",
    "    inputMessage = input('숫자또는 문자 입력 -> 999 되면 정렬 시작')\n",
    "    if type(inputMessage) == 'int' :\n",
    "        intList.append(inputMessage)\n",
    "    else :\n",
    "        stringList.append(inputMessage)\n",
    "    ##### if\n",
    "    if inputMessage == '999' :\n",
    "        break\n",
    "intList.sort()\n",
    "stringList.sort()\n",
    "print(intList + stringList)\n",
    "#### while\n",
    "    "
   ]
  },
  {
   "cell_type": "code",
   "execution_count": 29,
   "id": "3706d156",
   "metadata": {},
   "outputs": [
    {
     "name": "stdout",
     "output_type": "stream",
     "text": [
      "<class 'str'>\n"
     ]
    }
   ],
   "source": []
  },
  {
   "cell_type": "code",
   "execution_count": null,
   "id": "bffb1883",
   "metadata": {},
   "outputs": [],
   "source": []
  },
  {
   "cell_type": "code",
   "execution_count": null,
   "id": "f2824d80",
   "metadata": {},
   "outputs": [],
   "source": []
  },
  {
   "cell_type": "code",
   "execution_count": null,
   "id": "ab32776e",
   "metadata": {},
   "outputs": [],
   "source": []
  },
  {
   "cell_type": "code",
   "execution_count": null,
   "id": "f7d2b938",
   "metadata": {},
   "outputs": [],
   "source": []
  },
  {
   "cell_type": "code",
   "execution_count": null,
   "id": "c8a6356a",
   "metadata": {},
   "outputs": [],
   "source": []
  },
  {
   "cell_type": "code",
   "execution_count": null,
   "id": "3dabaa6e",
   "metadata": {},
   "outputs": [],
   "source": []
  },
  {
   "cell_type": "code",
   "execution_count": null,
   "id": "04cd2308",
   "metadata": {},
   "outputs": [],
   "source": []
  },
  {
   "cell_type": "code",
   "execution_count": null,
   "id": "e994cce6",
   "metadata": {},
   "outputs": [],
   "source": []
  }
 ],
 "metadata": {
  "kernelspec": {
   "display_name": "Python 3",
   "language": "python",
   "name": "python3"
  },
  "language_info": {
   "codemirror_mode": {
    "name": "ipython",
    "version": 3
   },
   "file_extension": ".py",
   "mimetype": "text/x-python",
   "name": "python",
   "nbconvert_exporter": "python",
   "pygments_lexer": "ipython3",
   "version": "3.6.8"
  }
 },
 "nbformat": 4,
 "nbformat_minor": 5
}

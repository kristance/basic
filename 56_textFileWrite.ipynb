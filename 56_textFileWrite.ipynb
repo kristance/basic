{
 "cells": [
  {
   "cell_type": "markdown",
   "id": "a22f3efb",
   "metadata": {},
   "source": [
    "파이썬을 이용해서 텍스트 파일을 처리할 경우 파일 탐색기에서 아래의 설정을 확인한다.  \n",
    "windows 10, 11 : 파일 탐색기 -> 보기 메뉴 -> 파일 확장명 체크  \n",
    "windows 7, 8 : 파일 탐색기 -> 보기 메뉴 -> 폴더 검색 및 옵션 변경 -> 보기 탭 -> 알려진 파일 형식의 ----- 체크 해제  \n",
    "\n",
    "텍스트 파일로 출력하거나 텍스트 파일에서 읽어오는 경우 반드시 파일을 open시켜야 한다.  \n",
    "\n",
    "파일 open  \n",
    "  \n",
    "변수 = open('텍스트 파일 이름', '파일 열기 모드')  \n",
    "파일 열기 모드 -> w(write, 쓰기(덮어쓰기)), a(append, 쓰기(추가)), r(read, 읽기)  \n",
    "w는 지정한 파일이 없으면 파일을 만든 후 저장하고, 파일이 있으면 내용을 지우고 저장한다. -> 덮어쓰기  \n",
    "a는 지정한 파일이 없으면 파일을 만든 후 저장하고, 파일이 있으면 기존 내용 뒤에 추가해서 저장한다. -> 추가  \n",
    "r은 지정한 파일이 없으면 에러가 발생된다.  \n",
    "w, a 모드로 파일을 열어서 작업했으면 반드시 파일을 close() 메소드를 사용해서 닫아야 파일에 정상적으로 데이터가 저장된다.  \n",
    "r 모드로 열어서 작업했으면 파일 닫지 않아도 상관없다  "
   ]
  },
  {
   "cell_type": "code",
   "execution_count": 32,
   "id": "cacdc3e8",
   "metadata": {},
   "outputs": [
    {
     "name": "stdout",
     "output_type": "stream",
     "text": [
      "data.txt 파일에 작성했다. :3\n"
     ]
    }
   ],
   "source": [
    "# open() 함수에 파일의 이름만 쓰면 현재 작업중이 프로그램이 위치한 경로에 위치한 파일이라는 의미이다.\n",
    "# open('data.txt', 'w')를 사용해서 파일을 open 할 때, 'cp949'라는 메시지가 보이며 한글 인코딩 문제로 에러가 발생되면 \n",
    "# open('data.txt', 'w', True, 'utf-8') 형식으로 파일을 열면 된다.\n",
    "file = open('data.txt', 'w') # data.txt 파일을 출력(덮어쓰기)용으로 open 한다.\n",
    "for i in range(10) :\n",
    "    # 화면에 출력할 때는 print() 함수를 사용하고, 텍스트 파일로 출력할 때는 write() 메소드를 사용한다.\n",
    "    # 출력할 때 끝에 개행 문자('\\n')을 붙여야 텍스트 파일로 저장할 때 줄이 바뀐다.\n",
    "    file.write('와아아아아 파이썬 파일이다아아아아아앜ㅋ' + '\\n')\n",
    "    \n",
    "\n",
    "file.close()\n",
    "print('data.txt 파일에 작성했다. :3')"
   ]
  },
  {
   "cell_type": "markdown",
   "id": "c06a333f",
   "metadata": {},
   "source": [
    "경로 지정 방법  \n",
    "\n",
    "절대 경로 지정방식과 상대경로 지정방식이 있다.  \n",
    "절대 경로는 디스크 드라이브의 최상위(root) 폴더(디렉토리)파일이 저장된 폴더까지의 경로를 의미한다.  \n",
    "상대 경로는 현재 화면에 표시되는 소스 프로그램 파일이 위치한 폴더부터 텍스트 파일이 위치한 폴더까지의 경로를 의미한다.  \n",
    "\n",
    "현재 작업중인 소스 프로그램이 위치한 경로가 아닌 다른 경로에 파일을 저장하려면 반드시 파일이 저장될 경로를 지정해야한다.    \n",
    "C:\\Users\\tj\\Desktop\\python\\basic\\data -> 절대경로, 에러  \n",
    "위와 같이 경로를 지정하면 이스케이프 시퀀스로 잘못 인식해서 오류가 발생되므로 '\\\\'를 '\\\\\\\\' 또는 '/'로 수정한다.  \n",
    "C:\\\\\\\\Users\\\\\\\\tj\\\\\\\\Desktop\\\\\\\\python\\\\\\\\basic\\\\\\\\data\\\\\\\\data.txt  \n",
    "C:/Users/tj/Desktop/python/basic/data/data2.txt  \n",
    "\n",
    "\n",
    "'.' -> 현재 작업중인 소스 프로그램이 저장된 폴더  \n",
    "'..' -> 현재 작업중인 소스 프로그램이 저장된 폴더의 한 단계 상위 폴더  \n",
    ".\\\\\\\\data\\\\\\\\data.txt -> 상대경로  \n",
    "./data/data.txt"
   ]
  },
  {
   "cell_type": "code",
   "execution_count": 11,
   "id": "190f34ef",
   "metadata": {},
   "outputs": [
    {
     "name": "stdout",
     "output_type": "stream",
     "text": [
      "data.txt 파일에 작성했다. :3\n"
     ]
    }
   ],
   "source": [
    "file = open('./data/data2.txt', 'w') \n",
    "for i in range(10) :\n",
    "    file.write('와아아아아 파이썬 파일이다아아아아아앜ㅋ' + '\\n')\n",
    "file.close()\n",
    "print('data.txt 파일에 작성했다. :3')"
   ]
  },
  {
   "cell_type": "code",
   "execution_count": 27,
   "id": "e6ad16c0",
   "metadata": {},
   "outputs": [
    {
     "name": "stdout",
     "output_type": "stream",
     "text": [
      ">>> 가가가가\n",
      ">>> 가오가이거\n",
      ">>> 가오가이거\n",
      ">>> ㅋㅋㅋ\n",
      ">>> quit\n",
      "야생의 data3.txt 파일에 작성했다. :3\n"
     ]
    }
   ],
   "source": [
    "#키보드로 입력한 문자열을 텍스트 파일에 저장한다.\n",
    "#'quit'가 입력되면 저장을 종료한다. -> 'quit'가 대문자로 입력되던 소문자로 입력되던 섞여서 입력되던 종료한다.\n",
    "file = open('./data/data3.txt', 'w')\n",
    "while True :\n",
    "    string = input('>>> ')\n",
    "    if string.lower() == 'quit' :\n",
    "        break\n",
    "    ##### if\n",
    "    file.write(string + '\\n')\n",
    "##### while\n",
    "file.close()\n",
    "print('야생의 data3.txt 파일에 작성했다. :3')"
   ]
  },
  {
   "cell_type": "code",
   "execution_count": 29,
   "id": "742ba08c",
   "metadata": {},
   "outputs": [
    {
     "name": "stdout",
     "output_type": "stream",
     "text": [
      ">>> 5555\n",
      ">>>  909999\n",
      ">>> 오오오오\n",
      ">>> 구구구구\n",
      ">>> 음메~~~\n",
      ">>> quit\n",
      "야생의 data4.txt 파일에 작성했다. :3\n"
     ]
    }
   ],
   "source": [
    "# with 구문을 사용해서 파일을 open하면 with 블록의 모든 내용이 실행되고 난 후 파일을 자동으로 닫아준다.\n",
    "with open('./data/data4.txt', 'w', -1, 'UTF-8') as file :\n",
    "    while True :\n",
    "        string = input('>>> ')\n",
    "        if string.lower() == 'quit' :\n",
    "            break\n",
    "        ##### if\n",
    "        file.write(string + '\\n')\n",
    "    ##### while\n",
    "    # file.close() # with 구문을 사용해 파일을 open 하면 close() 메소드를 사용하지 않아도 된다.\n",
    "print('야생의 data4.txt 파일에 작성했다. :3')"
   ]
  },
  {
   "cell_type": "code",
   "execution_count": 31,
   "id": "34e24faa",
   "metadata": {},
   "outputs": [
    {
     "name": "stdout",
     "output_type": "stream",
     "text": [
      ">>> 강변은 비싼데?\n",
      ">>> 그래?\n",
      ">>> 그렇지 않을까?\n",
      ">>> quit\n",
      "야생의 data5.txt 파일에 작성했다. :3\n"
     ]
    }
   ],
   "source": [
    "with open('./data/data5.txt', 'a') as file :\n",
    "    while True :\n",
    "        string = input('>>> ')\n",
    "        if string.lower() == 'quit' :\n",
    "            break\n",
    "        file.write(string + '\\n')\n",
    "print('야생의 data5.txt 파일에 작성했다. :3')"
   ]
  },
  {
   "cell_type": "code",
   "execution_count": null,
   "id": "dffe782c",
   "metadata": {},
   "outputs": [],
   "source": []
  },
  {
   "cell_type": "code",
   "execution_count": null,
   "id": "789990c9",
   "metadata": {},
   "outputs": [],
   "source": []
  },
  {
   "cell_type": "code",
   "execution_count": null,
   "id": "3ce9a12d",
   "metadata": {},
   "outputs": [],
   "source": []
  },
  {
   "cell_type": "code",
   "execution_count": null,
   "id": "63dfa8b8",
   "metadata": {},
   "outputs": [],
   "source": []
  }
 ],
 "metadata": {
  "kernelspec": {
   "display_name": "Python 3",
   "language": "python",
   "name": "python3"
  },
  "language_info": {
   "codemirror_mode": {
    "name": "ipython",
    "version": 3
   },
   "file_extension": ".py",
   "mimetype": "text/x-python",
   "name": "python",
   "nbconvert_exporter": "python",
   "pygments_lexer": "ipython3",
   "version": "3.6.8"
  }
 },
 "nbformat": 4,
 "nbformat_minor": 5
}

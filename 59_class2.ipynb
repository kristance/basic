{
 "cells": [
  {
   "cell_type": "code",
   "execution_count": 1,
   "id": "795ad0d8",
   "metadata": {},
   "outputs": [],
   "source": [
    "import math"
   ]
  },
  {
   "cell_type": "code",
   "execution_count": 2,
   "id": "af0de066",
   "metadata": {},
   "outputs": [
    {
     "name": "stdout",
     "output_type": "stream",
     "text": [
      "3.141592653589793\n"
     ]
    }
   ],
   "source": [
    "print(math.pi)"
   ]
  },
  {
   "cell_type": "code",
   "execution_count": 43,
   "id": "da8a3224",
   "metadata": {},
   "outputs": [],
   "source": [
    "# 원의 반지름을 인수로 넘겨받아 초기화하고 원의 둘레와 너비를 계산하는 함수를 포함하는 클래스\n",
    "class Circle :\n",
    "    def __init__(self, radius = 1) :\n",
    "        self.radius = radius\n",
    "    ##### __init__\n",
    "    \n",
    "    def __str__(self) :\n",
    "        return '반지름 : {}'.format(self.radius)\n",
    "    \n",
    "    #원의 둘레를 계산해서 출력하는 함수\n",
    "    def roundCircle (self):\n",
    "        print('반지름이 {}인 원의 둘레 -> {:.5f}'.format(self.radius, 2 * math.pi * self.radius))\n",
    "    #### roundCircle\n",
    "    \n",
    "    #원의 넓이를 계산해서 출력하는 함수\n",
    "    def areaCircle (self):\n",
    "        #print('반지름이 {}인 원의 넓이 -> {:.5f}m2'.format(self.radius, (self.radius ** 2) * math.pi)))\n",
    "        print('반지름이 {}인 원의 넓이 -> {:.5f}m2'.format(self.radius, math.pow(self.radius, 2) * math.pi))\n",
    "    #### areaCircle"
   ]
  },
  {
   "cell_type": "code",
   "execution_count": 44,
   "id": "9658dbda",
   "metadata": {},
   "outputs": [
    {
     "name": "stdout",
     "output_type": "stream",
     "text": [
      "반지름 : 5\n",
      "반지름이 5인 원의 둘레 -> 31.41593\n",
      "반지름이 5인 원의 넓이 -> 78.53982m2\n"
     ]
    }
   ],
   "source": [
    "circle1 = Circle(5)\n",
    "print(circle1)\n",
    "circle1.roundCircle()\n",
    "circle1.areaCircle()"
   ]
  },
  {
   "cell_type": "code",
   "execution_count": 39,
   "id": "b1c646e3",
   "metadata": {},
   "outputs": [
    {
     "name": "stdout",
     "output_type": "stream",
     "text": [
      "원의 둘레 -> 62.83185m, 원의 넓이 -> 314.15927m2\n",
      "반지름 : 10\n"
     ]
    }
   ],
   "source": [
    "circle2 = Circle(10)\n",
    "print(circle2)"
   ]
  },
  {
   "cell_type": "code",
   "execution_count": 40,
   "id": "e79968d4",
   "metadata": {},
   "outputs": [
    {
     "name": "stdout",
     "output_type": "stream",
     "text": [
      "원의 둘레 -> 6.28319m, 원의 넓이 -> 3.14159m2\n",
      "반지름 : 1\n"
     ]
    }
   ],
   "source": [
    "circle3 = Circle()\n",
    "print(circle3)"
   ]
  },
  {
   "cell_type": "code",
   "execution_count": null,
   "id": "ee07de63",
   "metadata": {},
   "outputs": [],
   "source": []
  },
  {
   "cell_type": "code",
   "execution_count": null,
   "id": "c28c7255",
   "metadata": {},
   "outputs": [],
   "source": []
  },
  {
   "cell_type": "code",
   "execution_count": null,
   "id": "2a1cdd98",
   "metadata": {},
   "outputs": [],
   "source": []
  },
  {
   "cell_type": "code",
   "execution_count": null,
   "id": "d24ce868",
   "metadata": {},
   "outputs": [],
   "source": []
  },
  {
   "cell_type": "code",
   "execution_count": null,
   "id": "8ab87e1e",
   "metadata": {},
   "outputs": [],
   "source": []
  },
  {
   "cell_type": "code",
   "execution_count": null,
   "id": "146de84c",
   "metadata": {},
   "outputs": [],
   "source": []
  },
  {
   "cell_type": "code",
   "execution_count": null,
   "id": "4fb29876",
   "metadata": {},
   "outputs": [],
   "source": []
  },
  {
   "cell_type": "code",
   "execution_count": null,
   "id": "1ecafd8a",
   "metadata": {},
   "outputs": [],
   "source": []
  },
  {
   "cell_type": "code",
   "execution_count": null,
   "id": "3dec452d",
   "metadata": {},
   "outputs": [],
   "source": []
  }
 ],
 "metadata": {
  "kernelspec": {
   "display_name": "Python 3",
   "language": "python",
   "name": "python3"
  },
  "language_info": {
   "codemirror_mode": {
    "name": "ipython",
    "version": 3
   },
   "file_extension": ".py",
   "mimetype": "text/x-python",
   "name": "python",
   "nbconvert_exporter": "python",
   "pygments_lexer": "ipython3",
   "version": "3.6.8"
  }
 },
 "nbformat": 4,
 "nbformat_minor": 5
}

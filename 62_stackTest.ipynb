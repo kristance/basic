{
 "cells": [
  {
   "cell_type": "code",
   "execution_count": 30,
   "id": "b0b4d168",
   "metadata": {},
   "outputs": [
    {
     "name": "stdout",
     "output_type": "stream",
     "text": [
      "스택에 저장된 데이터 -> 데이터 없음!!!\n"
     ]
    }
   ],
   "source": [
    "#stackModule 전체를 import 시켰기때문에 Stack 클래스를 사용하려면 앞에 '모듈이름.'을 붙여서 사용해야한다.\n",
    "import stackModule\n",
    "stack = stackModule.Stack()\n",
    "stack.view()"
   ]
  },
  {
   "cell_type": "code",
   "execution_count": 31,
   "id": "6be019a8",
   "metadata": {},
   "outputs": [
    {
     "name": "stdout",
     "output_type": "stream",
     "text": [
      "스택에 저장된 데이터 -> 데이터 없음!!!\n"
     ]
    }
   ],
   "source": [
    "#stackModule 전체를 import 시키지 않고 Stack만 import 시켜서 사용한다.\n",
    "from stackModule import Stack\n",
    "#Stack 클래스만 import 시켰으므로 위의 경우처럼 '모듈이름.'을 붙일 필요없이 바로 사용하면 된다.\n",
    "stack = Stack()\n",
    "stack.view()"
   ]
  },
  {
   "cell_type": "code",
   "execution_count": 34,
   "id": "610b5a66",
   "metadata": {},
   "outputs": [
    {
     "name": "stdout",
     "output_type": "stream",
     "text": [
      "==================================================\n",
      " 1.push()  2.pop()  3.view()  4.종료  \n",
      "==================================================\n",
      "원하는 메뉴를 입력하고 Enter 키 누르세요.1\n",
      "\n",
      "스택에 저장할 데이터를 입력해줘2\n",
      "스택에 저장된 데이터 -> 111 가가가가 가가형사 22 2 \n",
      "==================================================\n",
      " 1.push()  2.pop()  3.view()  4.종료  \n",
      "==================================================\n",
      "원하는 메뉴를 입력하고 Enter 키 누르세요.3\n",
      "\n",
      "스택에 저장된 데이터 -> 111 가가가가 가가형사 22 2 \n",
      "==================================================\n",
      " 1.push()  2.pop()  3.view()  4.종료  \n",
      "==================================================\n",
      "원하는 메뉴를 입력하고 Enter 키 누르세요.1\n",
      "\n",
      "스택에 저장할 데이터를 입력해줘2\n",
      "2는(은) 중복된 데이터이므니다.\n",
      "스택에 저장된 데이터 -> 111 가가가가 가가형사 22 2 \n",
      "==================================================\n",
      " 1.push()  2.pop()  3.view()  4.종료  \n",
      "==================================================\n",
      "원하는 메뉴를 입력하고 Enter 키 누르세요.3\n",
      "\n",
      "스택에 저장된 데이터 -> 111 가가가가 가가형사 22 2 \n",
      "==================================================\n",
      " 1.push()  2.pop()  3.view()  4.종료  \n",
      "==================================================\n",
      "원하는 메뉴를 입력하고 Enter 키 누르세요.2\n",
      "\n",
      "pop 데이터 -> 2\n",
      "스택에 저장된 데이터 -> 111 가가가가 가가형사 22 \n",
      "==================================================\n",
      " 1.push()  2.pop()  3.view()  4.종료  \n",
      "==================================================\n",
      "원하는 메뉴를 입력하고 Enter 키 누르세요.4\n",
      "\n",
      "프로그램 종료합니다. ###\n"
     ]
    }
   ],
   "source": [
    "menu = 0\n",
    "while menu != 4 :\n",
    "    while True :\n",
    "        print('=' * 50)\n",
    "        print(' 1.push()  2.pop()  3.view()  4.종료  ')\n",
    "        print('=' * 50)\n",
    "        menu = int(input('원하는 메뉴를 입력하고 Enter 키 누르세요.'))\n",
    "        print()\n",
    "\n",
    "        if menu in [1, 2, 3, 4] :\n",
    "            break\n",
    "        else : \n",
    "            print('메뉴는 1 - 4 사이의 값만 입력해야합니다.')\n",
    "        # -------- if\n",
    "    # ------------ while\n",
    "\n",
    "    if menu == 1 :\n",
    "        data = input('스택에 저장할 데이터를 입력해줘')\n",
    "        stack.push(data)\n",
    "    elif menu == 2 :\n",
    "        stack.pop()\n",
    "    elif menu == 3 :\n",
    "        stack.view()\n",
    "    # --------------if\n",
    "# ------------------ while menu !> 5\n",
    "print('프로그램 종료합니다. ###')"
   ]
  },
  {
   "cell_type": "code",
   "execution_count": null,
   "id": "6d65d911",
   "metadata": {},
   "outputs": [],
   "source": []
  },
  {
   "cell_type": "code",
   "execution_count": null,
   "id": "ad79d631",
   "metadata": {},
   "outputs": [],
   "source": []
  },
  {
   "cell_type": "code",
   "execution_count": null,
   "id": "1cfdad24",
   "metadata": {},
   "outputs": [],
   "source": []
  },
  {
   "cell_type": "code",
   "execution_count": null,
   "id": "5cdd8cde",
   "metadata": {},
   "outputs": [],
   "source": []
  },
  {
   "cell_type": "code",
   "execution_count": null,
   "id": "39a0fd10",
   "metadata": {},
   "outputs": [],
   "source": []
  },
  {
   "cell_type": "code",
   "execution_count": null,
   "id": "ea86bac4",
   "metadata": {},
   "outputs": [],
   "source": []
  },
  {
   "cell_type": "code",
   "execution_count": null,
   "id": "4f718f38",
   "metadata": {},
   "outputs": [],
   "source": []
  }
 ],
 "metadata": {
  "kernelspec": {
   "display_name": "Python 3",
   "language": "python",
   "name": "python3"
  },
  "language_info": {
   "codemirror_mode": {
    "name": "ipython",
    "version": 3
   },
   "file_extension": ".py",
   "mimetype": "text/x-python",
   "name": "python",
   "nbconvert_exporter": "python",
   "pygments_lexer": "ipython3",
   "version": "3.6.8"
  }
 },
 "nbformat": 4,
 "nbformat_minor": 5
}

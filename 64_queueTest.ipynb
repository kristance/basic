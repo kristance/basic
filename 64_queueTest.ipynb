{
 "cells": [
  {
   "cell_type": "code",
   "execution_count": 6,
   "id": "b0b4d168",
   "metadata": {
    "scrolled": true
   },
   "outputs": [
    {
     "name": "stdout",
     "output_type": "stream",
     "text": [
      "큐에 저장된 데이터 -> 데이터 없음\n",
      "\n"
     ]
    }
   ],
   "source": [
    "import QueueModule\n",
    "queue = QueueModule.Queue()\n",
    "queue.view()"
   ]
  },
  {
   "cell_type": "code",
   "execution_count": 8,
   "id": "6be019a8",
   "metadata": {},
   "outputs": [
    {
     "name": "stdout",
     "output_type": "stream",
     "text": [
      "큐에 저장된 데이터 -> 데이터 없음\n",
      "\n"
     ]
    }
   ],
   "source": [
    "from QueueModule import Queue\n",
    "queue = Queue()\n",
    "queue.view()"
   ]
  },
  {
   "cell_type": "code",
   "execution_count": 10,
   "id": "610b5a66",
   "metadata": {},
   "outputs": [
    {
     "name": "stdout",
     "output_type": "stream",
     "text": [
      "==================================================\n",
      " 1.add()  2.remove()  3.view()  4.종료  \n",
      "==================================================\n",
      "원하는 메뉴를 입력하고 Enter 키 누르세요.1\n",
      "\n",
      "스택에 저장할 데이터를 입력해줘2\n",
      "큐에 2을(를) 저장합니다. rear = 1, front = 0\n",
      "큐에 저장된 데이터 -> 2 \n",
      "==================================================\n",
      " 1.add()  2.remove()  3.view()  4.종료  \n",
      "==================================================\n",
      "원하는 메뉴를 입력하고 Enter 키 누르세요.1\n",
      "\n",
      "스택에 저장할 데이터를 입력해줘3\n",
      "큐에 3을(를) 저장합니다. rear = 2, front = 0\n",
      "큐에 저장된 데이터 -> 2 3 \n",
      "==================================================\n",
      " 1.add()  2.remove()  3.view()  4.종료  \n",
      "==================================================\n",
      "원하는 메뉴를 입력하고 Enter 키 누르세요.1\n",
      "\n",
      "스택에 저장할 데이터를 입력해줘rrrr\n",
      "큐에 rrrr을(를) 저장합니다. rear = 3, front = 0\n",
      "큐에 저장된 데이터 -> 2 3 rrrr \n",
      "==================================================\n",
      " 1.add()  2.remove()  3.view()  4.종료  \n",
      "==================================================\n",
      "원하는 메뉴를 입력하고 Enter 키 누르세요.1\n",
      "\n",
      "스택에 저장할 데이터를 입력해줘rr\n",
      "큐에 rr을(를) 저장합니다. rear = 4, front = 0\n",
      "큐에 저장된 데이터 -> 2 3 rrrr rr \n",
      "==================================================\n",
      " 1.add()  2.remove()  3.view()  4.종료  \n",
      "==================================================\n",
      "원하는 메뉴를 입력하고 Enter 키 누르세요.1\n",
      "\n",
      "스택에 저장할 데이터를 입력해줘rr\n",
      "rr은(는) 중복된 데이터입니다.\n",
      "큐에 저장된 데이터 -> 2 3 rrrr rr \n",
      "==================================================\n",
      " 1.add()  2.remove()  3.view()  4.종료  \n",
      "==================================================\n",
      "원하는 메뉴를 입력하고 Enter 키 누르세요.1\n",
      "\n",
      "스택에 저장할 데이터를 입력해줘rrrr\n",
      "rrrr은(는) 중복된 데이터입니다.\n",
      "큐에 저장된 데이터 -> 2 3 rrrr rr \n",
      "==================================================\n",
      " 1.add()  2.remove()  3.view()  4.종료  \n",
      "==================================================\n",
      "원하는 메뉴를 입력하고 Enter 키 누르세요.1\n",
      "\n",
      "스택에 저장할 데이터를 입력해줘ss\n",
      "큐에 ss을(를) 저장합니다. rear = 5, front = 0\n",
      "큐에 저장된 데이터 -> 2 3 rrrr rr ss \n",
      "==================================================\n",
      " 1.add()  2.remove()  3.view()  4.종료  \n",
      "==================================================\n",
      "원하는 메뉴를 입력하고 Enter 키 누르세요.1\n",
      "\n",
      "스택에 저장할 데이터를 입력해줘dsdd\n",
      "Overflow 발생 -> 큐가 가득차 dsdd가 입력되지 않음\n",
      "큐에 저장된 데이터 -> 2 3 rrrr rr ss \n",
      "==================================================\n",
      " 1.add()  2.remove()  3.view()  4.종료  \n",
      "==================================================\n",
      "원하는 메뉴를 입력하고 Enter 키 누르세요.2\n",
      "\n",
      "큐에서 2을(를) 제거합니다. rear = 5, front = 1\n",
      "큐에 저장된 데이터 -> 3 rrrr rr ss \n",
      "==================================================\n",
      " 1.add()  2.remove()  3.view()  4.종료  \n",
      "==================================================\n",
      "원하는 메뉴를 입력하고 Enter 키 누르세요.2\n",
      "\n",
      "큐에서 3을(를) 제거합니다. rear = 5, front = 2\n",
      "큐에 저장된 데이터 -> rrrr rr ss \n",
      "==================================================\n",
      " 1.add()  2.remove()  3.view()  4.종료  \n",
      "==================================================\n",
      "원하는 메뉴를 입력하고 Enter 키 누르세요.2\n",
      "\n",
      "큐에서 rrrr을(를) 제거합니다. rear = 5, front = 3\n",
      "큐에 저장된 데이터 -> rr ss \n",
      "==================================================\n",
      " 1.add()  2.remove()  3.view()  4.종료  \n",
      "==================================================\n",
      "원하는 메뉴를 입력하고 Enter 키 누르세요.2\n",
      "\n",
      "큐에서 rr을(를) 제거합니다. rear = 5, front = 4\n",
      "큐에 저장된 데이터 -> ss \n",
      "==================================================\n",
      " 1.add()  2.remove()  3.view()  4.종료  \n",
      "==================================================\n",
      "원하는 메뉴를 입력하고 Enter 키 누르세요.2\n",
      "\n",
      "큐에서 ss을(를) 제거합니다. rear = 5, front = 5\n",
      "큐에 저장된 데이터 -> 데이터 없음\n",
      "\n",
      "==================================================\n",
      " 1.add()  2.remove()  3.view()  4.종료  \n",
      "==================================================\n",
      "원하는 메뉴를 입력하고 Enter 키 누르세요.2\n",
      "\n",
      "큐에 저장된 데이터 없음!!!\n",
      "==================================================\n",
      " 1.add()  2.remove()  3.view()  4.종료  \n",
      "==================================================\n",
      "원하는 메뉴를 입력하고 Enter 키 누르세요.3\n",
      "\n",
      "큐에 저장된 데이터 -> 데이터 없음\n",
      "\n",
      "==================================================\n",
      " 1.add()  2.remove()  3.view()  4.종료  \n",
      "==================================================\n",
      "원하는 메뉴를 입력하고 Enter 키 누르세요.4\n",
      "\n",
      "프로그램 종료합니다. ###\n"
     ]
    }
   ],
   "source": [
    "menu = 0\n",
    "while menu != 4 :\n",
    "    while True :\n",
    "        print('=' * 50)\n",
    "        print(' 1.add()  2.remove()  3.view()  4.종료  ')\n",
    "        print('=' * 50)\n",
    "        menu = int(input('원하는 메뉴를 입력하고 Enter 키 누르세요.'))\n",
    "        print()\n",
    "\n",
    "        if menu in [1, 2, 3, 4] :\n",
    "            break\n",
    "        else : \n",
    "            print('메뉴는 1 - 4 사이의 값만 입력해야합니다.')\n",
    "        # -------- if\n",
    "    # ------------ while\n",
    "\n",
    "    if menu == 1 :\n",
    "        data = input('큐에 저장할 데이터를 입력해줘')\n",
    "        queue.add(data)\n",
    "    elif menu == 2 :\n",
    "        queue.remove()\n",
    "    elif menu == 3 :\n",
    "        queue.view()\n",
    "    # --------------if\n",
    "# ------------------ while menu !> 5\n",
    "print('프로그램 종료합니다. ###')"
   ]
  },
  {
   "cell_type": "code",
   "execution_count": null,
   "id": "6d65d911",
   "metadata": {},
   "outputs": [],
   "source": []
  },
  {
   "cell_type": "code",
   "execution_count": null,
   "id": "ad79d631",
   "metadata": {},
   "outputs": [],
   "source": []
  },
  {
   "cell_type": "code",
   "execution_count": null,
   "id": "1cfdad24",
   "metadata": {},
   "outputs": [],
   "source": []
  },
  {
   "cell_type": "code",
   "execution_count": null,
   "id": "5cdd8cde",
   "metadata": {},
   "outputs": [],
   "source": []
  },
  {
   "cell_type": "code",
   "execution_count": null,
   "id": "39a0fd10",
   "metadata": {},
   "outputs": [],
   "source": []
  },
  {
   "cell_type": "code",
   "execution_count": null,
   "id": "ea86bac4",
   "metadata": {},
   "outputs": [],
   "source": []
  },
  {
   "cell_type": "code",
   "execution_count": null,
   "id": "4f718f38",
   "metadata": {},
   "outputs": [],
   "source": []
  }
 ],
 "metadata": {
  "kernelspec": {
   "display_name": "Python 3",
   "language": "python",
   "name": "python3"
  },
  "language_info": {
   "codemirror_mode": {
    "name": "ipython",
    "version": 3
   },
   "file_extension": ".py",
   "mimetype": "text/x-python",
   "name": "python",
   "nbconvert_exporter": "python",
   "pygments_lexer": "ipython3",
   "version": "3.6.8"
  }
 },
 "nbformat": 4,
 "nbformat_minor": 5
}
